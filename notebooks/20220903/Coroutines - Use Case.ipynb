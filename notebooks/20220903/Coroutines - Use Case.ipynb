{
 "cells": [
  {
   "cell_type": "markdown",
   "metadata": {},
   "source": [
    "References:\n",
    "- https://docs.python.org/3/reference/datamodel.html\n",
    "- Fluent Python by Luciano Ramalho. Chapter 16: Coroutines\n",
    "\n",
    "# Coroutines for Discrete Event Simulation\n"
   ]
  },
  {
   "cell_type": "code",
   "execution_count": 2,
   "metadata": {},
   "outputs": [],
   "source": [
    "import sys\n",
    "import random\n",
    "import collections\n",
    "import queue"
   ]
  },
  {
   "cell_type": "code",
   "execution_count": 7,
   "metadata": {},
   "outputs": [],
   "source": [
    "DEFAULT_NUMBER_OF_TAXIS = 3\n",
    "DEFAULT_END_TIME = 180\n",
    "SEARCH_DURATION = 5\n",
    "TRIP_DURATION = 20\n",
    "DEPARTURE_INTERVAL = 5"
   ]
  },
  {
   "cell_type": "markdown",
   "metadata": {},
   "source": [
    "#### `Event` instance\n",
    " * `time` is the simulation time\n",
    " * `proc` is the process instance\n",
    " * `action` is a string describing the event"
   ]
  },
  {
   "cell_type": "code",
   "execution_count": 3,
   "metadata": {},
   "outputs": [],
   "source": [
    "Event = collections.namedtuple('Event', 'time proc action')"
   ]
  },
  {
   "cell_type": "code",
   "execution_count": 4,
   "metadata": {},
   "outputs": [],
   "source": [
    "# Returns time interval in minutes\n",
    "def compute_delay(interval):\n",
    "    \"\"\"Compute action delay using exponential distribution\"\"\"\n",
    "    return int(random.expovariate(1/interval)) + 1"
   ]
  },
  {
   "cell_type": "markdown",
   "metadata": {},
   "source": [
    "* `taxi_process` will be called once per taxi, creating a generatorobject to represent its operations. \n",
    "    * `ident` is the index number of the taxi (eg. 0, 1, 2 in the sample run);  \n",
    "    * `trips` is the number of trips this taxi will make before going home;  \n",
    "    * `start_time` is when the taxi leaves the garage."
   ]
  },
  {
   "cell_type": "code",
   "execution_count": 5,
   "metadata": {},
   "outputs": [],
   "source": [
    "def taxi_process(ident, trips, start_time=0):  # <1>\n",
    "    \"\"\"Yield to simulator issuing event at each state change\"\"\"\n",
    "    time = yield Event(start_time, ident, 'leave garage')  # <2>\n",
    "    for i in range(trips):  # repeated once for each trip\n",
    "        prowling_ends = time + compute_delay(SEARCH_DURATION)  # The endiing time of the search  for a passenger.\n",
    "        time = yield Event(prowling_ends, ident, 'pick up passenger')  # <5>\n",
    "\n",
    "        trip_ends = time + compute_delay(TRIP_DURATION)  # ending time of trip\n",
    "        time = yield Event(trip_ends, ident, 'drop off passenger')  # <7>\n",
    "\n",
    "    yield Event(time + 1, ident, 'going home')  # <8>\n",
    "    # end of taxi process # raises `StopIeteration`"
   ]
  },
  {
   "cell_type": "markdown",
   "metadata": {},
   "source": [
    "* <2> The first `Event` yielded is `'leave garage'`. This suspends the coroutine, and lets the simulation main loop proceed to the next scheduled event. When it's time to reactivate this process, the main loop will `send` the current simulation time, which is assigned to `time`.\n",
    "\n",
    "\n",
    "* <5> An `Event` signaling passenger pick up is yielded. The coroutine pauses here. When the time comes to reactivate this coroutine, the main loop will again `send` the current time.\n",
    "\n",
    "\n",
    "* <7> An `Event` signaling passenger drop off is yielded. Coroutine suspended again, waiting for the main loop to send the time of when it's time to continue.\n",
    "\n",
    "\n",
    "* <8> The `for` loop ends after the given number of trips, and a final `'going home'` event is yielded, to happen 1 minute after the current time. The coroutine will suspend for the last time. When reactivated, it will be sent the time from the simulation main loop, but here I don't assign it to any variable because it will not be useful."
   ]
  },
  {
   "cell_type": "code",
   "execution_count": 8,
   "metadata": {},
   "outputs": [],
   "source": [
    "# Create a generator object\n",
    "taxi = taxi_process(ident=13, trips=2, start_time=0)"
   ]
  },
  {
   "cell_type": "code",
   "execution_count": 9,
   "metadata": {},
   "outputs": [
    {
     "data": {
      "text/plain": [
       "Event(time=0, proc=13, action='leave garage')"
      ]
     },
     "execution_count": 9,
     "metadata": {},
     "output_type": "execute_result"
    }
   ],
   "source": [
    "# Prime the coroutine\n",
    "next(taxi)"
   ]
  },
  {
   "cell_type": "code",
   "execution_count": 10,
   "metadata": {},
   "outputs": [
    {
     "data": {
      "text/plain": [
       "Event(time=8, proc=13, action='pick up passenger')"
      ]
     },
     "execution_count": 10,
     "metadata": {},
     "output_type": "execute_result"
    }
   ],
   "source": [
    "# Taxi will spend 7 minutes searching for first passenger\n",
    "taxi.send(_.time + 7)\n",
    "\n",
    "# output yielded by  the for loop at start of trip"
   ]
  },
  {
   "cell_type": "code",
   "execution_count": 11,
   "metadata": {},
   "outputs": [
    {
     "data": {
      "text/plain": [
       "Event(time=39, proc=13, action='drop off passenger')"
      ]
     },
     "execution_count": 11,
     "metadata": {},
     "output_type": "execute_result"
    }
   ],
   "source": [
    "# The trip with the first passenger to be 23 minutes\n",
    "taxi.send(_.time + 23)"
   ]
  },
  {
   "cell_type": "code",
   "execution_count": 12,
   "metadata": {},
   "outputs": [
    {
     "data": {
      "text/plain": [
       "Event(time=51, proc=13, action='pick up passenger')"
      ]
     },
     "execution_count": 12,
     "metadata": {},
     "output_type": "execute_result"
    }
   ],
   "source": [
    "# Then the taxi will prowl for 5 minutes\n",
    "taxi.send(_.time + 5)"
   ]
  },
  {
   "cell_type": "code",
   "execution_count": 13,
   "metadata": {},
   "outputs": [
    {
     "data": {
      "text/plain": [
       "Event(time=118, proc=13, action='drop off passenger')"
      ]
     },
     "execution_count": 13,
     "metadata": {},
     "output_type": "execute_result"
    }
   ],
   "source": [
    "# The last trip will take 48 minutes\n",
    "taxi.send(_.time + 48)"
   ]
  },
  {
   "cell_type": "code",
   "execution_count": 14,
   "metadata": {},
   "outputs": [
    {
     "data": {
      "text/plain": [
       "Event(time=120, proc=13, action='going home')"
      ]
     },
     "execution_count": 14,
     "metadata": {},
     "output_type": "execute_result"
    }
   ],
   "source": [
    "# The loop will endd after 2 trips\n",
    "taxi.send(_.time + 1)"
   ]
  },
  {
   "cell_type": "code",
   "execution_count": 15,
   "metadata": {},
   "outputs": [
    {
     "ename": "SyntaxError",
     "evalue": "invalid syntax (<ipython-input-15-42f97474d41f>, line 2)",
     "output_type": "error",
     "traceback": [
      "\u001b[0;36m  File \u001b[0;32m\"<ipython-input-15-42f97474d41f>\"\u001b[0;36m, line \u001b[0;32m2\u001b[0m\n\u001b[0;31m    taxi.send(._time + 10)\u001b[0m\n\u001b[0m              ^\u001b[0m\n\u001b[0;31mSyntaxError\u001b[0m\u001b[0;31m:\u001b[0m invalid syntax\n"
     ]
    }
   ],
   "source": [
    "# The next attempt will fail\n",
    "taxi.send(._time + 10)"
   ]
  },
  {
   "cell_type": "markdown",
   "metadata": {},
   "source": [
    "##  Taxi Simulator"
   ]
  },
  {
   "cell_type": "code",
   "execution_count": 6,
   "metadata": {},
   "outputs": [],
   "source": [
    "class Simulator:\n",
    "\n",
    "    def __init__(self, procs_map):\n",
    "        self.events = queue.PriorityQueue()\n",
    "        self.procs = dict(procs_map)\n",
    "\n",
    "\n",
    "    def run(self, end_time):\n",
    "        \"\"\"Schedule and display events until time is up\"\"\"\n",
    "        # schedule the first event for each cab\n",
    "        for _, proc in sorted(self.procs.items()):  # retrieve the self.procs items ordered by integer key\n",
    "            first_event = next(proc)  # primes each coroutine\n",
    "            self.events.put(first_event)  #add each event\n",
    "\n",
    "        # main loop of the simulation\n",
    "        time = 0\n",
    "        while time < end_time:  # main loop\n",
    "            if self.events.empty():  # main loop may exit if there is no pending event\n",
    "                print('*** end of events ***')\n",
    "                break\n",
    "\n",
    "            # get and display current event\n",
    "            current_event = self.events.get()  # get event with the smallest time\n",
    "            print('taxi:', current_event.proc,  # display the event \n",
    "                  current_event.proc * '   ', current_event)\n",
    "\n",
    "            # schedule next action for current proc\n",
    "            time = current_event.time\n",
    "            proc = self.procs[current_event.proc]  # retrieve the coroutine\n",
    "            try:\n",
    "                next_event = proc.send(time)  # send the time to the taxi coroutine, which will yield next event\n",
    "            except StopIteration:\n",
    "                del self.procs[current_event.proc]  # delete the coroutine from the procs dict\n",
    "            else:\n",
    "                self.events.put(next_event)  # otherwise put event in queue\n",
    "        else:  # on exit main loop\n",
    "            msg = '*** end of simulation time: {} events pending ***'\n",
    "            print(msg.format(self.events.qsize()))"
   ]
  },
  {
   "cell_type": "code",
   "execution_count": 19,
   "metadata": {},
   "outputs": [],
   "source": [
    "num_taxis = DEFAULT_NUMBER_OF_TAXIS\n",
    "\n",
    "taxis = {i: taxi_process(i, (i+1)*2, i*DEPARTURE_INTERVAL)\n",
    "         for i in range(num_taxis)}\n",
    "sim = Simulator(taxis)"
   ]
  },
  {
   "cell_type": "code",
   "execution_count": 20,
   "metadata": {},
   "outputs": [
    {
     "name": "stdout",
     "output_type": "stream",
     "text": [
      "taxi: 0  Event(time=0, proc=0, action='leave garage')\n",
      "taxi: 0  Event(time=3, proc=0, action='pick up passenger')\n",
      "taxi: 1     Event(time=5, proc=1, action='leave garage')\n",
      "taxi: 1     Event(time=7, proc=1, action='pick up passenger')\n",
      "taxi: 2        Event(time=10, proc=2, action='leave garage')\n",
      "taxi: 2        Event(time=13, proc=2, action='pick up passenger')\n",
      "taxi: 0  Event(time=20, proc=0, action='drop off passenger')\n",
      "taxi: 1     Event(time=20, proc=1, action='drop off passenger')\n",
      "taxi: 2        Event(time=24, proc=2, action='drop off passenger')\n",
      "taxi: 1     Event(time=26, proc=1, action='pick up passenger')\n",
      "taxi: 2        Event(time=31, proc=2, action='pick up passenger')\n",
      "taxi: 0  Event(time=39, proc=0, action='pick up passenger')\n",
      "taxi: 0  Event(time=63, proc=0, action='drop off passenger')\n",
      "taxi: 0  Event(time=64, proc=0, action='going home')\n",
      "taxi: 2        Event(time=74, proc=2, action='drop off passenger')\n",
      "taxi: 1     Event(time=75, proc=1, action='drop off passenger')\n",
      "taxi: 2        Event(time=77, proc=2, action='pick up passenger')\n",
      "taxi: 1     Event(time=81, proc=1, action='pick up passenger')\n",
      "taxi: 1     Event(time=84, proc=1, action='drop off passenger')\n",
      "taxi: 1     Event(time=86, proc=1, action='pick up passenger')\n",
      "taxi: 1     Event(time=110, proc=1, action='drop off passenger')\n",
      "taxi: 1     Event(time=111, proc=1, action='going home')\n",
      "taxi: 2        Event(time=125, proc=2, action='drop off passenger')\n",
      "taxi: 2        Event(time=127, proc=2, action='pick up passenger')\n",
      "taxi: 2        Event(time=138, proc=2, action='drop off passenger')\n",
      "taxi: 2        Event(time=144, proc=2, action='pick up passenger')\n",
      "taxi: 2        Event(time=218, proc=2, action='drop off passenger')\n",
      "*** end of simulation time: 1 events pending ***\n"
     ]
    }
   ],
   "source": [
    "end_time = DEFAULT_END_TIME\n",
    "\n",
    "sim.run(end_time)"
   ]
  },
  {
   "cell_type": "code",
   "execution_count": null,
   "metadata": {},
   "outputs": [],
   "source": []
  }
 ],
 "metadata": {
  "kernelspec": {
   "display_name": "Python 3",
   "language": "python",
   "name": "python3"
  },
  "language_info": {
   "codemirror_mode": {
    "name": "ipython",
    "version": 3
   },
   "file_extension": ".py",
   "mimetype": "text/x-python",
   "name": "python",
   "nbconvert_exporter": "python",
   "pygments_lexer": "ipython3",
   "version": "3.7.6"
  }
 },
 "nbformat": 4,
 "nbformat_minor": 2
}
