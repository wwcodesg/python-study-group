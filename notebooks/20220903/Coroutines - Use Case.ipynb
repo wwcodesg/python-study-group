{
 "cells": [
  {
   "cell_type": "markdown",
   "metadata": {},
   "source": [
    "References:\n",
    "- https://docs.python.org/3/reference/datamodel.html\n",
    "- Fluent Python by Luciano Ramalho. Chapter 16: Coroutines\n",
    "\n",
    "# Coroutines for Discrete Event Simulation\n"
   ]
  },
  {
   "cell_type": "code",
   "execution_count": 2,
   "metadata": {},
   "outputs": [],
   "source": [
    "import sys\n",
    "import random\n",
    "import collections\n",
    "import queue"
   ]
  },
  {
   "cell_type": "code",
   "execution_count": 3,
   "metadata": {},
   "outputs": [],
   "source": [
    "Event = collections.namedtuple('Event', 'time proc action')"
   ]
  },
  {
   "cell_type": "code",
   "execution_count": 4,
   "metadata": {},
   "outputs": [],
   "source": [
    "def compute_delay(interval):\n",
    "    \"\"\"Compute action delay using exponential distribution\"\"\"\n",
    "    return int(random.expovariate(1/interval)) + 1"
   ]
  },
  {
   "cell_type": "markdown",
   "metadata": {},
   "source": [
    "<1> `taxi_process` will be called once per taxi, creating a generatorobject to represent its operations. `ident` is the index number of the taxi (eg. 0, 1, 2 in the sample run); `trips` is the number of trips this taxi will make before going home; `start_time` is when the taxi leaves the garage.\n",
    "\n",
    "\n",
    "<2> The first `Event` yielded is `'leave garage'`. This suspends the coroutine, and lets the simulation main loop proceed to the next scheduled event. When it's time to reactivate this process, the main loop will `send` the current simulation time, which is assigned to `time`.\n",
    "\n",
    "\n",
    "<5> An `Event` signaling passenger pick up is yielded. The coroutine pauses here. When the time comes to reactivate this coroutine, the main loop will again `send` the current time.\n",
    "\n",
    "\n",
    "<7> An `Event` signaling passenger drop off is yielded. Coroutine suspended again, waiting for the main loop to send the time of when it's time to continue.\n",
    "\n",
    "\n",
    "<8> The `for` loop ends after the given number of trips, and a final `'going home'` event is yielded, to happen 1 minute after the current time. The coroutine will suspend for the last time. When reactivated, it will be sent the time from the simulation main loop, but here I don't assign it to any variable because it will not be useful."
   ]
  },
  {
   "cell_type": "code",
   "execution_count": 5,
   "metadata": {},
   "outputs": [],
   "source": [
    "def taxi_process(ident, trips, start_time=0):  # <1>\n",
    "    \"\"\"Yield to simulator issuing event at each state change\"\"\"\n",
    "    time = yield Event(start_time, ident, 'leave garage')  # <2>\n",
    "    for i in range(trips):  # repeated once for each trip\n",
    "        prowling_ends = time + compute_delay(SEARCH_DURATION)  # The endiing time of the search  for a passenger.\n",
    "        time = yield Event(prowling_ends, ident, 'pick up passenger')  # <5>\n",
    "\n",
    "        trip_ends = time + compute_delay(TRIP_DURATION)  # ending time of trip\n",
    "        time = yield Event(trip_ends, ident, 'drop off passenger')  # <7>\n",
    "\n",
    "    yield Event(time + 1, ident, 'going home')  # <8>\n",
    "    # end of taxi process # raises `StopIeteration`"
   ]
  },
  {
   "cell_type": "code",
   "execution_count": null,
   "metadata": {},
   "outputs": [],
   "source": []
  },
  {
   "cell_type": "code",
   "execution_count": 6,
   "metadata": {},
   "outputs": [],
   "source": [
    "class Simulator:\n",
    "\n",
    "    def __init__(self, procs_map):\n",
    "        self.events = queue.PriorityQueue()\n",
    "        self.procs = dict(procs_map)\n",
    "\n",
    "\n",
    "    def run(self, end_time):\n",
    "        \"\"\"Schedule and display events until time is up\"\"\"\n",
    "        # schedule the first event for each cab\n",
    "        for _, proc in sorted(self.procs.items()):  # use sorted to retrieve the self.procs items ordered by integer key\n",
    "            first_event = next(proc)  # \n",
    "            self.events.put(first_event)  # <4>\n",
    "\n",
    "        # main loop of the simulation\n",
    "        time = 0\n",
    "        while time < end_time:  # <5>\n",
    "            if self.events.empty():  # <6>\n",
    "                print('*** end of events ***')\n",
    "                break\n",
    "\n",
    "            # get and display current event\n",
    "            current_event = self.events.get()  # <7>\n",
    "            print('taxi:', current_event.proc,  # <8>\n",
    "                  current_event.proc * '   ', current_event)\n",
    "\n",
    "            # schedule next action for current proc\n",
    "            time = current_event.time  # <9>\n",
    "            proc = self.procs[current_event.proc]  # <10>\n",
    "            try:\n",
    "                next_event = proc.send(time)  # <11>\n",
    "            except StopIteration:\n",
    "                del self.procs[current_event.proc]  # <12>\n",
    "            else:\n",
    "                self.events.put(next_event)  # <13>\n",
    "        else:  # <14>\n",
    "            msg = '*** end of simulation time: {} events pending ***'\n",
    "            print(msg.format(self.events.qsize()))"
   ]
  },
  {
   "cell_type": "code",
   "execution_count": null,
   "metadata": {},
   "outputs": [],
   "source": []
  }
 ],
 "metadata": {
  "kernelspec": {
   "display_name": "Python 3",
   "language": "python",
   "name": "python3"
  },
  "language_info": {
   "codemirror_mode": {
    "name": "ipython",
    "version": 3
   },
   "file_extension": ".py",
   "mimetype": "text/x-python",
   "name": "python",
   "nbconvert_exporter": "python",
   "pygments_lexer": "ipython3",
   "version": "3.7.6"
  }
 },
 "nbformat": 4,
 "nbformat_minor": 2
}
