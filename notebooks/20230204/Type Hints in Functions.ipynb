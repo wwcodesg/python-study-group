{
 "cells": [
  {
   "cell_type": "markdown",
   "metadata": {},
   "source": [
    "###### References: \n",
    "- https://docs.python.org/3/reference/datamodel.html\n",
    "- Fluent Python, 2nd Edition, by Luciano Ramalho. Chapter 8: Type Hints in Functions\n",
    "\n",
    "# Gradual Typing\n",
    "PEP-484 https://peps.python.org/pep-0484/\n",
    "\n",
    "- Is optional\n",
    "- Does not catch type errors at runtime\n",
    "- Does not enhance performance\n",
    "\n",
    "### Python Type Checkers:\n",
    "- Mypy\n",
    "- Google's pytype\n",
    "- Microsoft's Pyright\n",
    "- Facebook's Pyre\n",
    "- PyCharm"
   ]
  },
  {
   "cell_type": "code",
   "execution_count": 1,
   "metadata": {},
   "outputs": [],
   "source": [
    "def show_count(count, word):\n",
    "    if count == 1:\n",
    "        return f'1 {word}'\n",
    "    count_str = str(count) if count else 'no'\n",
    "    return f'{count_str} {word}s'"
   ]
  },
  {
   "cell_type": "code",
   "execution_count": 2,
   "metadata": {},
   "outputs": [
    {
     "data": {
      "text/plain": [
       "'99 birds'"
      ]
     },
     "execution_count": 2,
     "metadata": {},
     "output_type": "execute_result"
    }
   ],
   "source": [
    "show_count(99, 'bird')"
   ]
  },
  {
   "cell_type": "code",
   "execution_count": 3,
   "metadata": {},
   "outputs": [
    {
     "data": {
      "text/plain": [
       "'1 bird'"
      ]
     },
     "execution_count": 3,
     "metadata": {},
     "output_type": "execute_result"
    }
   ],
   "source": [
    "show_count(1, 'bird')"
   ]
  },
  {
   "cell_type": "code",
   "execution_count": 4,
   "metadata": {},
   "outputs": [
    {
     "name": "stdout",
     "output_type": "stream",
     "text": [
      "\u001b[1m\u001b[32mSuccess: no issues found in 1 source file\u001b[m\r\n"
     ]
    }
   ],
   "source": [
    "!mypy messages_0.py"
   ]
  },
  {
   "cell_type": "markdown",
   "metadata": {},
   "source": [
    "#### Starting with Mypy"
   ]
  },
  {
   "cell_type": "code",
   "execution_count": 5,
   "metadata": {},
   "outputs": [],
   "source": [
    "from pytest import mark"
   ]
  },
  {
   "cell_type": "code",
   "execution_count": 6,
   "metadata": {},
   "outputs": [],
   "source": [
    "@mark.parameterize('qty, expected', [\n",
    "    (1, '1 part'),\n",
    "    (2, '2 parts'),\n",
    "])\n",
    "def test_show_count(qty, expected):\n",
    "    got = show_count(qty, 'part')\n",
    "    assert got == expected"
   ]
  },
  {
   "cell_type": "code",
   "execution_count": 7,
   "metadata": {},
   "outputs": [],
   "source": [
    "def test_show_count_zero():\n",
    "    got = show_count(0, 'part')\n",
    "    assert got == 'no parts'"
   ]
  },
  {
   "cell_type": "code",
   "execution_count": 8,
   "metadata": {},
   "outputs": [
    {
     "name": "stdout",
     "output_type": "stream",
     "text": [
      "messages_0.py:14: \u001b[1m\u001b[31merror:\u001b[m Function is missing a type annotation  \u001b[m\u001b[33m[no-untyped-def]\u001b[m\n",
      "messages_test_0.py:9: \u001b[1m\u001b[31merror:\u001b[m Function is missing a type annotation  \u001b[m\u001b[33m[no-untyped-def]\u001b[m\n",
      "messages_test_0.py:13: \u001b[1m\u001b[31merror:\u001b[m Function is missing a return type annotation  \u001b[m\u001b[33m[no-untyped-def]\u001b[m\n",
      "messages_test_0.py:13: \u001b[34mnote:\u001b[m Use \u001b[m\u001b[1m\"-> None\"\u001b[m if function does not return a value\u001b[m\n",
      "\u001b[1m\u001b[31mFound 3 errors in 2 files (checked 1 source file)\u001b[m\n"
     ]
    }
   ],
   "source": [
    "!mypy --disallow-untyped-defs messages_test_0.py"
   ]
  },
  {
   "cell_type": "code",
   "execution_count": 9,
   "metadata": {},
   "outputs": [
    {
     "name": "stdout",
     "output_type": "stream",
     "text": [
      "\u001b[1m\u001b[32mSuccess: no issues found in 1 source file\u001b[m\r\n"
     ]
    }
   ],
   "source": [
    "!mypy --disallow-incomplete-defs messages_test_0.py"
   ]
  },
  {
   "cell_type": "code",
   "execution_count": 10,
   "metadata": {},
   "outputs": [],
   "source": [
    "def show_count(count: int, word: str) -> str:\n",
    "    if count == 1:\n",
    "        return f'1 {word}'\n",
    "    count_str = str(count) if count else 'no'\n",
    "    return f'{count_str} {word}s'"
   ]
  },
  {
   "cell_type": "code",
   "execution_count": 11,
   "metadata": {},
   "outputs": [
    {
     "name": "stdout",
     "output_type": "stream",
     "text": [
      "\u001b[1m\u001b[32mSuccess: no issues found in 1 source file\u001b[m\r\n"
     ]
    }
   ],
   "source": [
    "!mypy --disallow-untyped-defs messages_1.py"
   ]
  },
  {
   "cell_type": "markdown",
   "metadata": {},
   "source": [
    "## A Default Parameter Value"
   ]
  },
  {
   "cell_type": "code",
   "execution_count": 12,
   "metadata": {},
   "outputs": [],
   "source": [
    "def show_count(count: int, singular: str, plural: str = '') -> str:\n",
    "    if count == 1:\n",
    "        return f'1 {singular}'\n",
    "    count_str = str(count) if count else 'no'\n",
    "    if not plural:\n",
    "        plural = singular + 's'\n",
    "    return f'{count_str} {plural}'"
   ]
  },
  {
   "cell_type": "code",
   "execution_count": 13,
   "metadata": {},
   "outputs": [
    {
     "data": {
      "text/plain": [
       "'3 mice'"
      ]
     },
     "execution_count": 13,
     "metadata": {},
     "output_type": "execute_result"
    }
   ],
   "source": [
    "show_count(3, 'mouse', 'mice')"
   ]
  },
  {
   "cell_type": "code",
   "execution_count": 14,
   "metadata": {},
   "outputs": [
    {
     "name": "stdout",
     "output_type": "stream",
     "text": [
      "\u001b[1m\u001b[32mSuccess: no issues found in 1 source file\u001b[m\r\n"
     ]
    }
   ],
   "source": [
    "!mypy --disallow-untyped-defs messages_2.py"
   ]
  },
  {
   "cell_type": "code",
   "execution_count": 15,
   "metadata": {},
   "outputs": [],
   "source": [
    "from typing import Optional"
   ]
  },
  {
   "cell_type": "code",
   "execution_count": 16,
   "metadata": {},
   "outputs": [],
   "source": [
    "def show_count(count: int, singular: str, plural: Optional[str] = None) -> str:\n",
    "    if count == 1:\n",
    "        return f'1 {singular}'\n",
    "    count_str = str(count) if count else 'no'\n",
    "    if not plural:\n",
    "        plural = singular + 's'\n",
    "    return f'{count_str} {plural}'"
   ]
  },
  {
   "cell_type": "markdown",
   "metadata": {},
   "source": [
    "## Types are Defined by Supported Operations"
   ]
  },
  {
   "cell_type": "code",
   "execution_count": 17,
   "metadata": {},
   "outputs": [],
   "source": [
    "def double(x):\n",
    "    return x * 2"
   ]
  },
  {
   "cell_type": "code",
   "execution_count": 18,
   "metadata": {},
   "outputs": [],
   "source": [
    "from collections import abc"
   ]
  },
  {
   "cell_type": "code",
   "execution_count": 19,
   "metadata": {},
   "outputs": [],
   "source": [
    "def double(x: abc.Sequence):\n",
    "    return x * 2"
   ]
  },
  {
   "cell_type": "markdown",
   "metadata": {},
   "source": [
    "- Duck Typing\n",
    "    - Objects have types, but variables are untyped.\n",
    "- Nominal Typing\n",
    "    - Objects and variables have types. But objects only exist at runtime, and type checker only ares about the source code whree variables are annotated with type hints."
   ]
  },
  {
   "cell_type": "code",
   "execution_count": 20,
   "metadata": {},
   "outputs": [],
   "source": [
    "class Bird:\n",
    "    pass\n",
    "\n",
    "class Duck(Bird):  # <1>\n",
    "    def quack(self):\n",
    "        print('Quack!')\n",
    "\n",
    "def alert(birdie):  # <2>\n",
    "    birdie.quack()\n",
    "\n",
    "def alert_duck(birdie: Duck) -> None:  # <3>\n",
    "    birdie.quack()\n",
    "\n",
    "def alert_bird(birdie: Bird) -> None:  # <4>\n",
    "    birdie.quack()"
   ]
  },
  {
   "cell_type": "code",
   "execution_count": 21,
   "metadata": {},
   "outputs": [
    {
     "name": "stdout",
     "output_type": "stream",
     "text": [
      "birds.py:15: \u001b[1m\u001b[31merror:\u001b[m \u001b[m\u001b[1m\"Bird\"\u001b[m has no attribute \u001b[m\u001b[1m\"quack\"\u001b[m  \u001b[m\u001b[33m[attr-defined]\u001b[m\r\n",
      "\u001b[1m\u001b[31mFound 1 error in 1 file (checked 1 source file)\u001b[m\r\n"
     ]
    }
   ],
   "source": [
    "!mypy birds.py"
   ]
  },
  {
   "cell_type": "code",
   "execution_count": 22,
   "metadata": {},
   "outputs": [
    {
     "name": "stdout",
     "output_type": "stream",
     "text": [
      "Quack!\n",
      "Quack!\n",
      "Quack!\n"
     ]
    }
   ],
   "source": [
    "daffy = Duck()\n",
    "alert(daffy)       # <1>\n",
    "alert_duck(daffy)  # <2>\n",
    "alert_bird(daffy)"
   ]
  },
  {
   "cell_type": "code",
   "execution_count": 23,
   "metadata": {},
   "outputs": [
    {
     "name": "stdout",
     "output_type": "stream",
     "text": [
      "birds.py:15: \u001b[1m\u001b[31merror:\u001b[m \u001b[m\u001b[1m\"Bird\"\u001b[m has no attribute \u001b[m\u001b[1m\"quack\"\u001b[m  \u001b[m\u001b[33m[attr-defined]\u001b[m\r\n",
      "\u001b[1m\u001b[31mFound 1 error in 1 file (checked 1 source file)\u001b[m\r\n"
     ]
    }
   ],
   "source": [
    "!mypy daffy.py"
   ]
  },
  {
   "cell_type": "code",
   "execution_count": 24,
   "metadata": {},
   "outputs": [
    {
     "name": "stdout",
     "output_type": "stream",
     "text": [
      "birds.py:15: \u001b[1m\u001b[31merror:\u001b[m \u001b[m\u001b[1m\"Bird\"\u001b[m has no attribute \u001b[m\u001b[1m\"quack\"\u001b[m  \u001b[m\u001b[33m[attr-defined]\u001b[m\r\n",
      "woody.py:5: \u001b[1m\u001b[31merror:\u001b[m Argument 1 to \u001b[m\u001b[1m\"alert_duck\"\u001b[m has incompatible type \u001b[m\u001b[1m\"Bird\"\u001b[m; expected \u001b[m\u001b[1m\"Duck\"\u001b[m  \u001b[m\u001b[33m[arg-type]\u001b[m\r\n",
      "\u001b[1m\u001b[31mFound 2 errors in 2 files (checked 1 source file)\u001b[m\r\n"
     ]
    }
   ],
   "source": [
    "!mypy woody.py"
   ]
  },
  {
   "cell_type": "code",
   "execution_count": 25,
   "metadata": {},
   "outputs": [
    {
     "ename": "AttributeError",
     "evalue": "'Bird' object has no attribute 'quack'",
     "output_type": "error",
     "traceback": [
      "\u001b[0;31m---------------------------------------------------------------------------\u001b[0m",
      "\u001b[0;31mAttributeError\u001b[0m                            Traceback (most recent call last)",
      "Cell \u001b[0;32mIn [25], line 2\u001b[0m\n\u001b[1;32m      1\u001b[0m woody \u001b[38;5;241m=\u001b[39m Bird()\n\u001b[0;32m----> 2\u001b[0m alert(woody)\n\u001b[1;32m      3\u001b[0m alert_duck(woody)\n\u001b[1;32m      4\u001b[0m alert_bird(woody)\n",
      "Cell \u001b[0;32mIn [20], line 9\u001b[0m, in \u001b[0;36malert\u001b[0;34m(birdie)\u001b[0m\n\u001b[1;32m      8\u001b[0m \u001b[38;5;28;01mdef\u001b[39;00m \u001b[38;5;21malert\u001b[39m(birdie):  \u001b[38;5;66;03m# <2>\u001b[39;00m\n\u001b[0;32m----> 9\u001b[0m     \u001b[43mbirdie\u001b[49m\u001b[38;5;241;43m.\u001b[39;49m\u001b[43mquack\u001b[49m()\n",
      "\u001b[0;31mAttributeError\u001b[0m: 'Bird' object has no attribute 'quack'"
     ]
    }
   ],
   "source": [
    "woody = Bird()\n",
    "alert(woody)\n",
    "alert_duck(woody)\n",
    "alert_bird(woody)"
   ]
  },
  {
   "cell_type": "markdown",
   "metadata": {},
   "source": [
    "## Types Usable in Annotations\n",
    "\n",
    "### The Any type\n",
    "`typing.Any`,\n",
    "dynamic type"
   ]
  },
  {
   "cell_type": "code",
   "execution_count": 26,
   "metadata": {},
   "outputs": [],
   "source": [
    "def double(x):\n",
    "    return x * 2"
   ]
  },
  {
   "cell_type": "markdown",
   "metadata": {},
   "source": [
    "assumes:"
   ]
  },
  {
   "cell_type": "code",
   "execution_count": 27,
   "metadata": {},
   "outputs": [],
   "source": [
    "from typing import Any"
   ]
  },
  {
   "cell_type": "code",
   "execution_count": 28,
   "metadata": {},
   "outputs": [],
   "source": [
    "def double(x: Any) -> Any:\n",
    "    return x * 2"
   ]
  },
  {
   "cell_type": "markdown",
   "metadata": {},
   "source": [
    "as opposed to:"
   ]
  },
  {
   "cell_type": "code",
   "execution_count": 29,
   "metadata": {},
   "outputs": [],
   "source": [
    "def double(x: object) -> object:\n",
    "    return x * 2"
   ]
  },
  {
   "cell_type": "code",
   "execution_count": 30,
   "metadata": {},
   "outputs": [
    {
     "name": "stdout",
     "output_type": "stream",
     "text": [
      "double_object.py:2: \u001b[1m\u001b[31merror:\u001b[m Unsupported operand types for * (\u001b[m\u001b[1m\"object\"\u001b[m and \u001b[m\u001b[1m\"int\"\u001b[m)  \u001b[m\u001b[33m[operator]\u001b[m\r\n",
      "\u001b[1m\u001b[31mFound 1 error in 1 file (checked 1 source file)\u001b[m\r\n"
     ]
    }
   ],
   "source": [
    "!mypy double_object.py"
   ]
  },
  {
   "cell_type": "markdown",
   "metadata": {},
   "source": [
    "### Subtype-`of` versus consistent-`with`\n",
    "\n",
    "### Simple Types and Classes\n",
    "\n",
    "### Optional and Union Types"
   ]
  },
  {
   "cell_type": "code",
   "execution_count": 31,
   "metadata": {},
   "outputs": [],
   "source": [
    "def show_count(count: int, singular: str, plural: str | None = None) -> str:\n",
    "    pass"
   ]
  },
  {
   "cell_type": "code",
   "execution_count": 32,
   "metadata": {},
   "outputs": [],
   "source": [
    "from typing import Union"
   ]
  },
  {
   "cell_type": "code",
   "execution_count": 33,
   "metadata": {},
   "outputs": [],
   "source": [
    "def parse_token(token: str) -> Union[str, float]:\n",
    "    try:\n",
    "        return float(token)\n",
    "    except ValueError:\n",
    "        return token"
   ]
  },
  {
   "cell_type": "markdown",
   "metadata": {},
   "source": [
    "### Generic Collections"
   ]
  },
  {
   "cell_type": "code",
   "execution_count": 34,
   "metadata": {},
   "outputs": [],
   "source": [
    "def tokenize(text: str) -> list[str]:\n",
    "    return txt.upper().split()"
   ]
  },
  {
   "cell_type": "markdown",
   "metadata": {},
   "source": [
    "### Tuple Types\n",
    "- Tuples as records\n",
    "- Tuples as records with named fields\n",
    "- Tuples as immutable sequences\n",
    "\n",
    "#### Tuples as records"
   ]
  },
  {
   "cell_type": "code",
   "execution_count": 36,
   "metadata": {},
   "outputs": [],
   "source": [
    "from geolib import geohash as gh  # type: ignore # stops "
   ]
  },
  {
   "cell_type": "code",
   "execution_count": 37,
   "metadata": {},
   "outputs": [],
   "source": [
    "PRECISION = 9"
   ]
  },
  {
   "cell_type": "code",
   "execution_count": 38,
   "metadata": {},
   "outputs": [],
   "source": [
    "def geohash(lat_lon: tuple[float, float]) -> str:  # <2>\n",
    "    return gh.encode(*lat_lon, PRECISION)"
   ]
  },
  {
   "cell_type": "code",
   "execution_count": 39,
   "metadata": {},
   "outputs": [],
   "source": [
    "shanghai = 31.2304, 121.4737"
   ]
  },
  {
   "cell_type": "code",
   "execution_count": 40,
   "metadata": {},
   "outputs": [
    {
     "data": {
      "text/plain": [
       "'wtw3sjq6q'"
      ]
     },
     "execution_count": 40,
     "metadata": {},
     "output_type": "execute_result"
    }
   ],
   "source": [
    "geohash(shanghai)"
   ]
  },
  {
   "cell_type": "markdown",
   "metadata": {},
   "source": [
    "#### Tuples as records with named fields"
   ]
  },
  {
   "cell_type": "code",
   "execution_count": 41,
   "metadata": {},
   "outputs": [],
   "source": [
    "from typing import NamedTuple"
   ]
  },
  {
   "cell_type": "code",
   "execution_count": 42,
   "metadata": {},
   "outputs": [],
   "source": [
    "class Coordinate(NamedTuple):\n",
    "    lat: float\n",
    "    lon: float\n",
    "\n",
    "def geohash(lat_lon: Coordinate) -> str:\n",
    "    return gh.encode(*lat_lon, PRECISION)"
   ]
  },
  {
   "cell_type": "code",
   "execution_count": 43,
   "metadata": {},
   "outputs": [],
   "source": [
    "def display(lat_lon: tuple[float, float]) -> str:\n",
    "    lat, lon = lat_lon\n",
    "    ns = 'N' if lat >= 0 else 'S'\n",
    "    ew = 'E' if lon >= 0 else 'W'\n",
    "    return f'{abs(lat):0.1f}°{ns}, {abs(lon):0.1f}°{ew}'"
   ]
  },
  {
   "cell_type": "code",
   "execution_count": 44,
   "metadata": {},
   "outputs": [],
   "source": [
    "def demo():\n",
    "    shanghai = 31.2304, 121.4737\n",
    "    print(display(shanghai))\n",
    "    s = geohash(shanghai)\n",
    "    print(s)"
   ]
  },
  {
   "cell_type": "code",
   "execution_count": 45,
   "metadata": {},
   "outputs": [
    {
     "name": "stdout",
     "output_type": "stream",
     "text": [
      "31.2°N, 121.5°E\n",
      "wtw3sjq6q\n"
     ]
    }
   ],
   "source": [
    "demo()"
   ]
  },
  {
   "cell_type": "markdown",
   "metadata": {},
   "source": [
    "#### Tuples as immutable sequences"
   ]
  },
  {
   "cell_type": "code",
   "execution_count": 46,
   "metadata": {},
   "outputs": [],
   "source": [
    "from collections.abc import Sequence"
   ]
  },
  {
   "cell_type": "code",
   "execution_count": 47,
   "metadata": {},
   "outputs": [],
   "source": [
    "def columnize(\n",
    "    sequence: Sequence[str], num_columns: int = 0\n",
    ") -> list[tuple[str, ...]]:\n",
    "    if num_columns == 0:\n",
    "        num_columns = round(len(sequence) ** 0.5)\n",
    "    num_rows, reminder = divmod(len(sequence), num_columns)\n",
    "    num_rows += bool(reminder)\n",
    "    return [tuple(sequence[i::num_rows]) for i in range(num_rows)]"
   ]
  },
  {
   "cell_type": "code",
   "execution_count": 48,
   "metadata": {},
   "outputs": [],
   "source": [
    "animals = 'drake fawn heron ibex koala lynx lahr xerus yak zapus'.split()"
   ]
  },
  {
   "cell_type": "code",
   "execution_count": 49,
   "metadata": {},
   "outputs": [
    {
     "data": {
      "text/plain": [
       "[('drake', 'koala', 'yak'),\n",
       " ('fawn', 'lynx', 'zapus'),\n",
       " ('heron', 'lahr'),\n",
       " ('ibex', 'xerus')]"
      ]
     },
     "execution_count": 49,
     "metadata": {},
     "output_type": "execute_result"
    }
   ],
   "source": [
    "table = columnize(animals)\n",
    "table"
   ]
  },
  {
   "cell_type": "markdown",
   "metadata": {},
   "source": [
    "#### Generic Mappings"
   ]
  },
  {
   "cell_type": "code",
   "execution_count": 50,
   "metadata": {},
   "outputs": [],
   "source": [
    "import sys\n",
    "import re\n",
    "import unicodedata\n",
    "from collections.abc import Iterator"
   ]
  },
  {
   "cell_type": "code",
   "execution_count": 51,
   "metadata": {},
   "outputs": [],
   "source": [
    "RE_WORD = re.compile(r'\\w+')\n",
    "STOP_CODE = sys.maxunicode + 1"
   ]
  },
  {
   "cell_type": "code",
   "execution_count": 52,
   "metadata": {},
   "outputs": [],
   "source": [
    "def tokenize(text: str) -> Iterator[str]:  # <1>\n",
    "    \"\"\"return iterable of uppercased words\"\"\"\n",
    "    for match in RE_WORD.finditer(text):\n",
    "        yield match.group().upper()"
   ]
  },
  {
   "cell_type": "code",
   "execution_count": 53,
   "metadata": {},
   "outputs": [],
   "source": [
    "def name_index(start: int = 32, end: int = STOP_CODE) -> dict[str, set[str]]:\n",
    "    index: dict[str, set[str]] = {}  # <2>\n",
    "    for char in (chr(i) for i in range(start, end)):\n",
    "        if name := unicodedata.name(char, ''):  # <3>\n",
    "            for word in tokenize(name):\n",
    "                index.setdefault(word, set()).add(char)\n",
    "    return index"
   ]
  },
  {
   "cell_type": "code",
   "execution_count": 54,
   "metadata": {},
   "outputs": [],
   "source": [
    "index = name_index(32, 65)"
   ]
  },
  {
   "cell_type": "code",
   "execution_count": 55,
   "metadata": {},
   "outputs": [
    {
     "data": {
      "text/plain": [
       "['#', '$', '%', '+', '<', '=', '>']"
      ]
     },
     "execution_count": 55,
     "metadata": {},
     "output_type": "execute_result"
    }
   ],
   "source": [
    "sorted(index['SIGN'])"
   ]
  },
  {
   "cell_type": "code",
   "execution_count": 56,
   "metadata": {},
   "outputs": [
    {
     "data": {
      "text/plain": [
       "['0', '1', '2', '3', '4', '5', '6', '7', '8', '9']"
      ]
     },
     "execution_count": 56,
     "metadata": {},
     "output_type": "execute_result"
    }
   ],
   "source": [
    "sorted(index['DIGIT'])"
   ]
  },
  {
   "cell_type": "code",
   "execution_count": 57,
   "metadata": {},
   "outputs": [
    {
     "data": {
      "text/plain": [
       "{'8'}"
      ]
     },
     "execution_count": 57,
     "metadata": {},
     "output_type": "execute_result"
    }
   ],
   "source": [
    "index['DIGIT'] & index['EIGHT']"
   ]
  },
  {
   "cell_type": "markdown",
   "metadata": {},
   "source": [
    "#### Abstract Base Classes\n",
    "\n",
    "_Be conservative in what you send, be liberal in what you accept._ -- Postel's law a.k.a. the Robustness Principle\n",
    "\n",
    "    from collections.abc import Mapping\n",
    "    \n",
    "    def name2hex(name: str, color_map: Mapping[str, int]) -> str:\n",
    "    \n",
    "versus\n",
    "\n",
    "    def name2hex(name: str, color_map: dict[str, int]) -> str:"
   ]
  },
  {
   "cell_type": "markdown",
   "metadata": {},
   "source": [
    "#### The fall of the numeric tower\n",
    "\n",
    "PEP 3141 -- A Type Hierarchy for Numbers.\n",
    "- Number\n",
    "- Complex\n",
    "- Real\n",
    "- Rational\n",
    "- Integral"
   ]
  },
  {
   "cell_type": "markdown",
   "metadata": {},
   "source": [
    "#### Iterable\n",
    "`typing.list`\n",
    "\n",
    "    def fsum(__seq: Iterable[float]) -> float:"
   ]
  },
  {
   "cell_type": "code",
   "execution_count": 58,
   "metadata": {},
   "outputs": [],
   "source": [
    "from collections.abc import Iterable"
   ]
  },
  {
   "cell_type": "code",
   "execution_count": 59,
   "metadata": {},
   "outputs": [],
   "source": [
    "FromTo = tuple[str, str]"
   ]
  },
  {
   "cell_type": "code",
   "execution_count": 60,
   "metadata": {},
   "outputs": [],
   "source": [
    "def zip_replace(text: str, changes: Iterable[FromTo]) -> str:  # <2>\n",
    "    for from_, to in changes:\n",
    "        text = text.replace(from_, to)\n",
    "    return text"
   ]
  },
  {
   "cell_type": "markdown",
   "metadata": {},
   "source": [
    "#### (`abc.Iterable` versus `abc.Sequence`)\n",
    "Chapter 17\n",
    "\n",
    "#### Parameterized Generic and TypeVar"
   ]
  },
  {
   "cell_type": "code",
   "execution_count": 61,
   "metadata": {},
   "outputs": [],
   "source": [
    "from collections.abc import Sequence\n",
    "from random import shuffle\n",
    "from typing import TypeVar"
   ]
  },
  {
   "cell_type": "code",
   "execution_count": 62,
   "metadata": {},
   "outputs": [],
   "source": [
    "T = TypeVar('T')"
   ]
  },
  {
   "cell_type": "code",
   "execution_count": 63,
   "metadata": {},
   "outputs": [],
   "source": [
    "def sample(population: Sequence[T], size: int) -> list[T]:\n",
    "    if size < 1:\n",
    "        raise ValueError('size must be >= 1')\n",
    "    result = list(population)\n",
    "    shuffle(result)\n",
    "    return result[:size]"
   ]
  },
  {
   "cell_type": "code",
   "execution_count": 64,
   "metadata": {},
   "outputs": [],
   "source": [
    "def demo() -> None:\n",
    "    import typing\n",
    "    p1 = tuple(range(10))\n",
    "    s1 = sample(p1, 3)\n",
    "    if typing.TYPE_CHECKING:\n",
    "        reveal_type(p1)\n",
    "        reveal_type(s1)\n",
    "    print(p1)\n",
    "    print(s1)\n",
    "    p2 = 'The quick brown fox jumps over the lazy dog'\n",
    "    s2 = sample(p2, 10)\n",
    "    if typing.TYPE_CHECKING:\n",
    "        reveal_type(p2)\n",
    "        reveal_type(s2)\n",
    "    print(p2)\n",
    "    print(s2)"
   ]
  },
  {
   "cell_type": "code",
   "execution_count": 65,
   "metadata": {},
   "outputs": [
    {
     "name": "stdout",
     "output_type": "stream",
     "text": [
      "(0, 1, 2, 3, 4, 5, 6, 7, 8, 9)\n",
      "[8, 4, 1]\n",
      "The quick brown fox jumps over the lazy dog\n",
      "['u', 'e', 'm', 'b', ' ', 'g', 'z', ' ', 'e', 'f']\n"
     ]
    }
   ],
   "source": [
    "demo()"
   ]
  },
  {
   "cell_type": "markdown",
   "metadata": {},
   "source": [
    "##### Problematic way of coding:"
   ]
  },
  {
   "cell_type": "code",
   "execution_count": 66,
   "metadata": {},
   "outputs": [],
   "source": [
    "from collections import Counter\n",
    "from collections.abc import Iterable"
   ]
  },
  {
   "cell_type": "code",
   "execution_count": 67,
   "metadata": {},
   "outputs": [],
   "source": [
    "def mode(data: Iterable[float]) -> float:\n",
    "    pairs = Counter(data).most_common(1)\n",
    "    if len(pairs) == 0:\n",
    "        raise ValueError('no mode for empty data')\n",
    "    return pairs[0][0]"
   ]
  },
  {
   "cell_type": "markdown",
   "metadata": {},
   "source": [
    "##### Problem occurs when TypeVar appears the second time. As it will mean the same type as the first\n",
    "    from collections.abc import Iterable\n",
    "    from typing import TypeVar\n",
    "    \n",
    "    T = TypeVar('T')\n",
    "    \n",
    "    def mode(data: Iterable[T]) -> T:"
   ]
  },
  {
   "cell_type": "markdown",
   "metadata": {},
   "source": [
    "#### Restricted TypeVar\n",
    "\n",
    "Set one of the types named in the TypeVar declaration.\n",
    "\n",
    "    from collections.abc import Iterable\n",
    "    from decimal import Decimal\n",
    "    from fractions import Fraction\n",
    "    from typing import TypeVar\n",
    "    \n",
    "    NumberT = TypeVar('NumberT', float, Decimal, Fraction)\n",
    "    \n",
    "    def mode(data: Iterable[NumberT]) -> NumberT:\n",
    "    \n",
    "#### Bonded TypeVar\n",
    "Set to an inferred type of the expression -- as long as the infered type of _consistent-with_ the __boundary__ declared in the `bound=` keyword argument of TypeVar."
   ]
  },
  {
   "cell_type": "code",
   "execution_count": 68,
   "metadata": {},
   "outputs": [],
   "source": [
    "from collections import Counter\n",
    "from collections.abc import Iterable, Hashable\n",
    "from typing import TypeVar"
   ]
  },
  {
   "cell_type": "code",
   "execution_count": 69,
   "metadata": {},
   "outputs": [],
   "source": [
    "HashableT = TypeVar('HashableT', bound=Hashable)"
   ]
  },
  {
   "cell_type": "code",
   "execution_count": 70,
   "metadata": {},
   "outputs": [],
   "source": [
    "def mode(data: Iterable[HashableT]) -> HashableT:\n",
    "    pairs = Counter(data).most_common(1)\n",
    "    if len(pairs) == 0:\n",
    "        raise ValueError('no mode for empty data')\n",
    "    return pairs[0][0]"
   ]
  },
  {
   "cell_type": "markdown",
   "metadata": {},
   "source": [
    "#### The AnyStr predefined type variable\n",
    "\n",
    "    AnyStr = TypeVar('AnyStr', bytes, str)\n",
    "    \n",
    "### Static Protocols\n",
    "PEP 544 -- Protocols: Structural subtyping"
   ]
  },
  {
   "cell_type": "code",
   "execution_count": 71,
   "metadata": {},
   "outputs": [],
   "source": [
    "def top(series: Iterable[T], length: int) -> list[T]:\n",
    "    ordered = sorted(series, reverse = True)\n",
    "    return ordered[:length]"
   ]
  },
  {
   "cell_type": "code",
   "execution_count": 72,
   "metadata": {},
   "outputs": [],
   "source": [
    "from typing import Protocol, Any"
   ]
  },
  {
   "cell_type": "code",
   "execution_count": 73,
   "metadata": {},
   "outputs": [],
   "source": [
    "class SupportsLessThan(Protocol):  # <1>\n",
    "    def __lt__(self, other: Any) -> bool: ..."
   ]
  },
  {
   "cell_type": "code",
   "execution_count": 74,
   "metadata": {},
   "outputs": [],
   "source": [
    "from collections.abc import Iterable\n",
    "from typing import TypeVar"
   ]
  },
  {
   "cell_type": "code",
   "execution_count": 75,
   "metadata": {},
   "outputs": [],
   "source": [
    "LT = TypeVar('LT', bound=SupportsLessThan)"
   ]
  },
  {
   "cell_type": "code",
   "execution_count": 76,
   "metadata": {},
   "outputs": [],
   "source": [
    "def top(series: Iterable[LT], length: int) -> list[LT]:\n",
    "    ordered = sorted(series, reverse=True)\n",
    "    return ordered[:length]"
   ]
  },
  {
   "cell_type": "code",
   "execution_count": 77,
   "metadata": {},
   "outputs": [],
   "source": [
    "from collections.abc import Iterator\n",
    "from typing import TYPE_CHECKING  # <1>\n",
    "\n",
    "import pytest"
   ]
  },
  {
   "cell_type": "code",
   "execution_count": 79,
   "metadata": {},
   "outputs": [],
   "source": [
    "\n",
    "@pytest.mark.parametrize('series, length, expected', [\n",
    "    ((1, 2, 3), 2, [3, 2]),\n",
    "    ((1, 2, 3), 3, [3, 2, 1]),\n",
    "    ((3, 3, 3), 1, [3]),\n",
    "])\n",
    "def test_top(\n",
    "    series: tuple[float, ...],\n",
    "    length: int,\n",
    "    expected: list[float],\n",
    ") -> None:\n",
    "    result = top(series, length)\n",
    "    assert expected == result"
   ]
  },
  {
   "cell_type": "code",
   "execution_count": 80,
   "metadata": {},
   "outputs": [],
   "source": [
    "def test_top_tuples() -> None:\n",
    "    fruit = 'mango pear apple kiwi banana'.split()\n",
    "    series: Iterator[tuple[int, str]] = (  # <2>\n",
    "        (len(s), s) for s in fruit)\n",
    "    length = 3\n",
    "    expected = [(6, 'banana'), (5, 'mango'), (5, 'apple')]\n",
    "    result = top(series, length)\n",
    "    if TYPE_CHECKING:  # <3>\n",
    "        reveal_type(series)  # <4>\n",
    "        reveal_type(expected)\n",
    "        reveal_type(result)\n",
    "    assert result == expected"
   ]
  },
  {
   "cell_type": "code",
   "execution_count": 81,
   "metadata": {},
   "outputs": [],
   "source": [
    "# intentional type error\n",
    "def test_top_objects_error() -> None:\n",
    "    series = [object() for _ in range(4)]\n",
    "    if TYPE_CHECKING:\n",
    "        reveal_type(series)\n",
    "    with pytest.raises(TypeError) as excinfo:\n",
    "        top(series, 3)  # <5>\n",
    "    assert \"'<' not supported\" in str(excinfo.value)"
   ]
  },
  {
   "cell_type": "markdown",
   "metadata": {},
   "source": [
    "### Callable\n",
    "    Callable[[ParamType1, ParamType2], ReturnType]\n",
    "    \n",
    "E.g. Pattern Matching in lis.py\n",
    "\n",
    "    def repl(input_fn: Callable[[Any], str] = input]) -> None:\n",
    "    \n",
    "E.g. `input()`\n",
    "\n",
    "    def input(__promp: Any = ...) -> str: ...\n",
    "    \n",
    "#### Variances in Callable Types"
   ]
  },
  {
   "cell_type": "code",
   "execution_count": 82,
   "metadata": {},
   "outputs": [],
   "source": [
    "from collections.abc import Callable"
   ]
  },
  {
   "cell_type": "code",
   "execution_count": 83,
   "metadata": {},
   "outputs": [
    {
     "name": "stdout",
     "output_type": "stream",
     "text": [
      "0x2a\n"
     ]
    }
   ],
   "source": [
    "def update(\n",
    "        probe: Callable[[], float],\n",
    "        display: Callable[[float], None]\n",
    "    ) -> None:\n",
    "    temperature = probe()\n",
    "    #imagine lots of control code here\n",
    "    display(temperature)\n",
    "                          \n",
    "def probe_ok() -> int:\n",
    "    return 42\n",
    "\n",
    "def display_wrong(temperature: int) -> None:\n",
    "    print(hex(temperature))\n",
    "\n",
    "update(probe_ok, display_wrong)"
   ]
  },
  {
   "cell_type": "code",
   "execution_count": 84,
   "metadata": {},
   "outputs": [],
   "source": [
    "def display_ok(temperature: complex) -> None:\n",
    "    print(temperature)"
   ]
  },
  {
   "cell_type": "code",
   "execution_count": 85,
   "metadata": {},
   "outputs": [
    {
     "name": "stdout",
     "output_type": "stream",
     "text": [
      "42\n"
     ]
    }
   ],
   "source": [
    "update(probe_ok, display_ok)"
   ]
  },
  {
   "cell_type": "markdown",
   "metadata": {},
   "source": [
    "#### NoReturn\n",
    "    def exit(__status: object = ...) -> NoReturn: ...\n",
    "    \n",
    "### Annotating Positional Only and Variadic Parameters\n",
    "    def tag(name, /, *content, class_=None, **attrs):"
   ]
  },
  {
   "cell_type": "code",
   "execution_count": 86,
   "metadata": {},
   "outputs": [],
   "source": [
    "def tag(\n",
    "    name: str,\n",
    "    /,\n",
    "    *content: str,\n",
    "    class_: Optional[str] = None,\n",
    "    **attr: str,\n",
    ") -> str:\n",
    "    pass"
   ]
  },
  {
   "cell_type": "markdown",
   "metadata": {},
   "source": [
    "### Imperfect Typing and Strong Testing\n",
    "- False positives\n",
    "    - Tools report type errors on code that is correct\n",
    "- False negatives\n",
    "    - Tools don't report type errors on code that is incorrect\n",
    "    \n",
    "\n",
    "\n",
    "- some handy features cannot be statically checked\n",
    "    `config(**settings)`\n",
    "- Advanced features like properies, descriptors, metaclasses, and metaprogramming, are poorly supported.\n",
    "\n",
    "- Type checkers lag behind Python releases"
   ]
  },
  {
   "cell_type": "code",
   "execution_count": null,
   "metadata": {},
   "outputs": [],
   "source": []
  }
 ],
 "metadata": {
  "kernelspec": {
   "display_name": "Python 3 (ipykernel)",
   "language": "python",
   "name": "python3"
  },
  "language_info": {
   "codemirror_mode": {
    "name": "ipython",
    "version": 3
   },
   "file_extension": ".py",
   "mimetype": "text/x-python",
   "name": "python",
   "nbconvert_exporter": "python",
   "pygments_lexer": "ipython3",
   "version": "3.10.6"
  }
 },
 "nbformat": 4,
 "nbformat_minor": 2
}
