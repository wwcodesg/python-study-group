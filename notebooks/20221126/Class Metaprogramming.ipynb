{
 "cells": [
  {
   "cell_type": "markdown",
   "metadata": {},
   "source": [
    "###### References: \n",
    "- https://docs.python.org/3/reference/datamodel.html\n",
    "- Fluent Python, 2nd Edition, by Luciano Ramalho. Chapter 24: Class Metaprogramming\n",
    "\n",
    "# Classes as Objects\n",
    "## type: The Built-In Class Factory\n",
    "\n",
    "When Python reads a class statement, it calls type to  buildd the class object with 3 parameters: *name*, *bases*, *dict*.\n",
    "\n",
    "    < type( name, bases, dict ) >"
   ]
  },
  {
   "cell_type": "code",
   "execution_count": 1,
   "metadata": {},
   "outputs": [
    {
     "data": {
      "text/plain": [
       "int"
      ]
     },
     "execution_count": 1,
     "metadata": {},
     "output_type": "execute_result"
    }
   ],
   "source": [
    "type(7)"
   ]
  },
  {
   "cell_type": "code",
   "execution_count": 2,
   "metadata": {},
   "outputs": [
    {
     "data": {
      "text/plain": [
       "type"
      ]
     },
     "execution_count": 2,
     "metadata": {},
     "output_type": "execute_result"
    }
   ],
   "source": [
    "type(int)"
   ]
  },
  {
   "cell_type": "code",
   "execution_count": 3,
   "metadata": {},
   "outputs": [
    {
     "data": {
      "text/plain": [
       "type"
      ]
     },
     "execution_count": 3,
     "metadata": {},
     "output_type": "execute_result"
    }
   ],
   "source": [
    "type(OSError)"
   ]
  },
  {
   "cell_type": "code",
   "execution_count": 4,
   "metadata": {},
   "outputs": [],
   "source": [
    "class Whatever:\n",
    "    pass"
   ]
  },
  {
   "cell_type": "code",
   "execution_count": 5,
   "metadata": {},
   "outputs": [
    {
     "data": {
      "text/plain": [
       "type"
      ]
     },
     "execution_count": 5,
     "metadata": {},
     "output_type": "execute_result"
    }
   ],
   "source": [
    "type(Whatever)"
   ]
  },
  {
   "cell_type": "markdown",
   "metadata": {},
   "source": [
    "## A  Class Factory Function\n",
    "\n",
    "### record Factory"
   ]
  },
  {
   "cell_type": "code",
   "execution_count": 6,
   "metadata": {},
   "outputs": [],
   "source": [
    "from typing import Union, Any\n",
    "from collections.abc import Iterable, Iterator\n",
    "\n",
    "FieldNames = Union[str, Iterable[str]]  # User can provide field names as single or an iterable of strings\n",
    "\n",
    "def record_factory(cls_name: str, field_names: FieldNames) -> type[tuple]:  # accept arguments and returns a type\n",
    "\n",
    "    slots = parse_identifiers(field_names)  # build a tuple of attribute names\n",
    "\n",
    "    def __init__(self, *args, **kwargs) -> None:  # this function will be the __init__ method in the new class\n",
    "        attrs = dict(zip(self.__slots__, args))\n",
    "        attrs.update(kwargs)\n",
    "        for name, value in attrs.items():\n",
    "            setattr(self, name, value)\n",
    "\n",
    "    def __iter__(self) -> Iterator[Any]:  # Yield the field values in the order given by __slots__\n",
    "        for name in self.__slots__:\n",
    "            yield getattr(self, name)\n",
    "\n",
    "    def __repr__(self):  # produce the nice repr, iiterating over __slots__ and self\n",
    "        values = ', '.join(f'{name}={value!r}'\n",
    "            for name, value in zip(self.__slots__, self))\n",
    "        cls_name = self.__class__.__name__\n",
    "        return f'{cls_name}({values})'\n",
    "\n",
    "    cls_attrs = dict(  # assemble a dictionary of class attributes\n",
    "        __slots__=slots,\n",
    "        __init__=__init__,\n",
    "        __iter__=__iter__,\n",
    "        __repr__=__repr__,\n",
    "    )\n",
    "\n",
    "    return type(cls_name, (object,), cls_attrs)  # build and return the new class, calling type constructor\n",
    "\n",
    "\n",
    "def parse_identifiers(names: FieldNames) -> tuple[str, ...]:\n",
    "    if isinstance(names, str):\n",
    "        names = names.replace(',', ' ').split()  # Convert names separated by spaces or commas\n",
    "    if not all(s.isidentifier() for s in names):\n",
    "        raise ValueError('names must all be valid identifiers')\n",
    "    return tuple(names)"
   ]
  },
  {
   "cell_type": "markdown",
   "metadata": {},
   "source": [
    "### Testing record factory:"
   ]
  },
  {
   "cell_type": "code",
   "execution_count": 7,
   "metadata": {},
   "outputs": [],
   "source": [
    "Dog = record_factory('Dog', 'name weight owner')"
   ]
  },
  {
   "cell_type": "code",
   "execution_count": 8,
   "metadata": {},
   "outputs": [
    {
     "data": {
      "text/plain": [
       "Dog(name='Rex', weight=30, owner='Bob')"
      ]
     },
     "execution_count": 8,
     "metadata": {},
     "output_type": "execute_result"
    }
   ],
   "source": [
    "rex = Dog('Rex', 30, 'Bob')\n",
    "rex"
   ]
  },
  {
   "cell_type": "code",
   "execution_count": 9,
   "metadata": {},
   "outputs": [
    {
     "data": {
      "text/plain": [
       "('Rex', 30)"
      ]
     },
     "execution_count": 9,
     "metadata": {},
     "output_type": "execute_result"
    }
   ],
   "source": [
    "name, weight, _ = rex\n",
    "name, weight"
   ]
  },
  {
   "cell_type": "code",
   "execution_count": 10,
   "metadata": {},
   "outputs": [
    {
     "data": {
      "text/plain": [
       "\"Bob's dog weighs 30kg\""
      ]
     },
     "execution_count": 10,
     "metadata": {},
     "output_type": "execute_result"
    }
   ],
   "source": [
    "\"{2}'s dog weighs {1}kg\".format(*rex)"
   ]
  },
  {
   "cell_type": "code",
   "execution_count": 11,
   "metadata": {},
   "outputs": [
    {
     "data": {
      "text/plain": [
       "Dog(name='Rex', weight=32, owner='Bob')"
      ]
     },
     "execution_count": 11,
     "metadata": {},
     "output_type": "execute_result"
    }
   ],
   "source": [
    "rex.weight = 32\n",
    "rex"
   ]
  },
  {
   "cell_type": "code",
   "execution_count": 12,
   "metadata": {},
   "outputs": [
    {
     "data": {
      "text/plain": [
       "(__main__.Dog, object)"
      ]
     },
     "execution_count": 12,
     "metadata": {},
     "output_type": "execute_result"
    }
   ],
   "source": [
    "Dog.__mro__"
   ]
  },
  {
   "cell_type": "markdown",
   "metadata": {},
   "source": [
    "### Introducing `__init_subclass__`\n",
    "\n",
    "`__init_subclass__` andd `__set_name__` read type hints in user's `class` statement; and allow static type checkers to validate code via type hints. (Whereas `typing.NamedTuple` and `@dataclass` do not)"
   ]
  },
  {
   "cell_type": "code",
   "execution_count": 13,
   "metadata": {},
   "outputs": [],
   "source": [
    "from collections.abc import Callable  # typing.Callable depreciated since 3.9\n",
    "from typing import Any, NoReturn, get_type_hints"
   ]
  },
  {
   "cell_type": "code",
   "execution_count": 14,
   "metadata": {},
   "outputs": [],
   "source": [
    "class Field:\n",
    "    def __init__(self, name: str, constructor: Callable) -> None:  # minimal type hint for Callable\n",
    "        if not callable(constructor) or constructor is type(None):  # for runtime checking\n",
    "            raise TypeError(f'{name!r} type hint must be callable')\n",
    "        self.name = name\n",
    "        self.constructor = constructor\n",
    "\n",
    "    def __set__(self, instance: Any, value: Any) -> None:\n",
    "        if value is ...:  # Ellipsis built-in object\n",
    "            value = self.constructor()\n",
    "        else:\n",
    "            try:\n",
    "                value = self.constructor(value)  # otherwise constructor with given value\n",
    "            except (TypeError, ValueError) as e:  # raise error\n",
    "                type_name = self.constructor.__name__\n",
    "                msg = f'{value!r} is not compatible with {self.name}:{type_name}'\n",
    "                raise TypeError(msg) from e\n",
    "        instance.__dict__[self.name] = value  # value stored in the instance.__dict__"
   ]
  },
  {
   "cell_type": "code",
   "execution_count": 15,
   "metadata": {},
   "outputs": [],
   "source": [
    "class Checked:\n",
    "    @classmethod\n",
    "    def _fields(cls) -> dict[str, type]:  # to support Python<3.10\n",
    "        return get_type_hints(cls)\n",
    "\n",
    "    def __init_subclass__(subclass) -> None:  # __init_subclass__ is called when a subclass of the current class is defined\n",
    "        super().__init_subclass__()           \n",
    "        for name, constructor in subclass._fields().items():   # iterate over field name andd constructor\n",
    "            setattr(subclass, name, Field(name, constructor))  # creating an attribute on subclass\n",
    "\n",
    "    def __init__(self, **kwargs: Any) -> None:\n",
    "        for name in self._fields():             # for each name in the class fields\n",
    "            value = kwargs.pop(name, ...)       # get the corresponding kwargs and remove\n",
    "            setattr(self, name, value)          # the setattr call triggers Checked.__setattr__\n",
    "        if kwargs:                              # if remaining items do not match\n",
    "            self.__flag_unknown_attrs(*kwargs)  # fail and raise error\n",
    "\n",
    "    def __setattr__(self, name: str, value: Any) -> None:  # intercept all attemps to set an instance attribute\n",
    "        if name in self._fields():              # if attriibute name known fetch the corresponding descriptor\n",
    "            cls = self.__class__\n",
    "            descriptor = getattr(cls, name)\n",
    "            descriptor.__set__(self, value)     # call set explicitly since we intercepted\n",
    "        else:                                   # unknown attribute\n",
    "            self.__flag_unknown_attrs(name)\n",
    "\n",
    "    def __flag_unknown_attrs(self, *names: str) -> NoReturn:  # exception to noReturn, build error message\n",
    "        plural = 's' if len(names) > 1 else ''\n",
    "        extra = ', '.join(f'{name!r}' for name in names)\n",
    "        cls_name = repr(self.__class__.__name__)\n",
    "        raise AttributeError(f'{cls_name} object has no attribute{plural} {extra}')\n",
    "\n",
    "    def _asdict(self) -> dict[str, Any]:  # Create a dict from the attributes\n",
    "        return {\n",
    "            name: getattr(self, name)\n",
    "            for name, attr in self.__class__.__dict__.items()\n",
    "            if isinstance(attr, Field)\n",
    "        }\n",
    "\n",
    "    def __repr__(self) -> str:  # implementing a nice repr\n",
    "        kwargs = ', '.join(\n",
    "            f'{key}={value!r}' for key, value in self._asdict().items()\n",
    "        )\n",
    "        return f'{self.__class__.__name__}({kwargs})'"
   ]
  },
  {
   "cell_type": "markdown",
   "metadata": {},
   "source": [
    "#### Build a Movie class:"
   ]
  },
  {
   "cell_type": "code",
   "execution_count": 16,
   "metadata": {},
   "outputs": [],
   "source": [
    "class Movie(Checked):\n",
    "    title: str\n",
    "    year: int\n",
    "    box_office: float"
   ]
  },
  {
   "cell_type": "code",
   "execution_count": 17,
   "metadata": {},
   "outputs": [
    {
     "data": {
      "text/plain": [
       "Movie(title='The Godfather', year=1972, box_office=137.0)"
      ]
     },
     "execution_count": 17,
     "metadata": {},
     "output_type": "execute_result"
    }
   ],
   "source": [
    "movie = Movie(title='The Godfather', year=1972, box_office=137)\n",
    "movie"
   ]
  },
  {
   "cell_type": "markdown",
   "metadata": {},
   "source": [
    "## Enhancing Classes with a Class Decorator"
   ]
  },
  {
   "cell_type": "code",
   "execution_count": 18,
   "metadata": {},
   "outputs": [],
   "source": [
    "def checked(cls: type) -> type:  # hint: takes a class, returns a class\n",
    "    for name, constructor in _fields(cls).items():    # top-level function defined later\n",
    "        setattr(cls, name, Field(name, constructor))  # replacing each attribute returned by _fields with a Field descriptor instance\n",
    "\n",
    "    cls._fields = classmethod(_fields)  # type: ignore  # Build a class method from _fields and addd it to  the decorated class\n",
    "\n",
    "    instance_methods = (  # module level functions that  will become instance methods of the decorated class\n",
    "        __init__,\n",
    "        __repr__,\n",
    "        __setattr__,\n",
    "        _asdict,\n",
    "        __flag_unknown_attrs,\n",
    "    )\n",
    "    for method in instance_methods:  # Add each instance_methods  to cls\n",
    "        setattr(cls, method.__name__, method)\n",
    "\n",
    "    return cls  # return the decorated cls\n",
    "\n",
    "def _fields(cls: type) -> dict[str, type]:\n",
    "    return get_type_hints(cls)\n",
    "\n",
    "def __init__(self: Any, **kwargs: Any) -> None:\n",
    "    for name in self._fields():\n",
    "        value = kwargs.pop(name, ...)\n",
    "        setattr(self, name, value)\n",
    "    if kwargs:\n",
    "        self.__flag_unknown_attrs(*kwargs)\n",
    "\n",
    "def __setattr__(self: Any, name: str, value: Any) -> None:\n",
    "    if name in self._fields():\n",
    "        cls = self.__class__\n",
    "        descriptor = getattr(cls, name)\n",
    "        descriptor.__set__(self, value)\n",
    "    else:\n",
    "        self.__flag_unknown_attrs(name)\n",
    "\n",
    "def __flag_unknown_attrs(self: Any, *names: str) -> NoReturn:\n",
    "    plural = 's' if len(names) > 1 else ''\n",
    "    extra = ', '.join(f'{name!r}' for name in names)\n",
    "    cls_name = repr(self.__class__.__name__)\n",
    "    raise AttributeError(f'{cls_name} has no attribute{plural} {extra}')\n",
    "\n",
    "def _asdict(self: Any) -> dict[str, Any]:\n",
    "    return {\n",
    "        name: getattr(self, name)\n",
    "        for name, attr in self.__class__.__dict__.items()\n",
    "        if isinstance(attr, Field)\n",
    "    }\n",
    "\n",
    "def __repr__(self: Any) -> str:\n",
    "    kwargs = ', '.join(\n",
    "        f'{key}={value!r}' for key, value in self._asdict().items()\n",
    "    )\n",
    "    return f'{self.__class__.__name__}({kwargs})'"
   ]
  },
  {
   "cell_type": "code",
   "execution_count": 19,
   "metadata": {},
   "outputs": [],
   "source": [
    "@checked\n",
    "class Movie:\n",
    "    title: str\n",
    "    year: int\n",
    "    box_office: float"
   ]
  },
  {
   "cell_type": "code",
   "execution_count": 20,
   "metadata": {},
   "outputs": [],
   "source": [
    "movie = Movie(title='The Godfather', year=1972, box_office=137)"
   ]
  },
  {
   "cell_type": "code",
   "execution_count": 21,
   "metadata": {},
   "outputs": [
    {
     "data": {
      "text/plain": [
       "'The Godfather'"
      ]
     },
     "execution_count": 21,
     "metadata": {},
     "output_type": "execute_result"
    }
   ],
   "source": [
    "movie.title"
   ]
  },
  {
   "cell_type": "code",
   "execution_count": 22,
   "metadata": {},
   "outputs": [
    {
     "data": {
      "text/plain": [
       "Movie(title='The Godfather', year=1972, box_office=137.0)"
      ]
     },
     "execution_count": 22,
     "metadata": {},
     "output_type": "execute_result"
    }
   ],
   "source": [
    "movie"
   ]
  },
  {
   "cell_type": "markdown",
   "metadata": {},
   "source": [
    "## Evaluation Time Experiments"
   ]
  },
  {
   "cell_type": "code",
   "execution_count": 23,
   "metadata": {},
   "outputs": [
    {
     "name": "stdout",
     "output_type": "stream",
     "text": [
      "@ builderlib module start\n",
      "@ Builder body\n",
      "@ Descriptor body\n",
      "@ builderlib module end\n"
     ]
    }
   ],
   "source": [
    "import builderlib"
   ]
  },
  {
   "cell_type": "code",
   "execution_count": 24,
   "metadata": {},
   "outputs": [
    {
     "name": "stdout",
     "output_type": "stream",
     "text": [
      "# evaldemo module start\n",
      "# Klass body\n",
      "@ Descriptor.__init__(<Descriptor instance>)\n",
      "@ Descriptor.__set_name__(<Descriptor instance>, <class 'evaldemo.Klass'>, 'attr')\n",
      "@ Builder.__init_subclass__(<class 'evaldemo.Klass'>)\n",
      "@ deco(<class 'evaldemo.Klass'>)\n",
      "# evaldemo module end\n"
     ]
    }
   ],
   "source": [
    "import evaldemo"
   ]
  },
  {
   "cell_type": "markdown",
   "metadata": {},
   "source": [
    "# Metaclasses 101\n",
    "A metaclass is a class factory.  \n",
    "A metaclasss is written as a class, i.e. a metaclass is a class whose instances are classes."
   ]
  },
  {
   "cell_type": "code",
   "execution_count": 25,
   "metadata": {},
   "outputs": [
    {
     "data": {
      "text/plain": [
       "type"
      ]
     },
     "execution_count": 25,
     "metadata": {},
     "output_type": "execute_result"
    }
   ],
   "source": [
    "str.__class__"
   ]
  },
  {
   "cell_type": "code",
   "execution_count": 26,
   "metadata": {},
   "outputs": [
    {
     "data": {
      "text/plain": [
       "type"
      ]
     },
     "execution_count": 26,
     "metadata": {},
     "output_type": "execute_result"
    }
   ],
   "source": [
    "type.__class__"
   ]
  },
  {
   "cell_type": "markdown",
   "metadata": {},
   "source": [
    "<img src=\"Meta class instance.png\" width=\"75%\">"
   ]
  },
  {
   "cell_type": "code",
   "execution_count": 27,
   "metadata": {},
   "outputs": [],
   "source": [
    "from collections.abc import Iterable"
   ]
  },
  {
   "cell_type": "code",
   "execution_count": 28,
   "metadata": {},
   "outputs": [
    {
     "data": {
      "text/plain": [
       "abc.ABCMeta"
      ]
     },
     "execution_count": 28,
     "metadata": {},
     "output_type": "execute_result"
    }
   ],
   "source": [
    "Iterable.__class__"
   ]
  },
  {
   "cell_type": "code",
   "execution_count": 29,
   "metadata": {},
   "outputs": [],
   "source": [
    "import abc\n",
    "from abc import ABCMeta"
   ]
  },
  {
   "cell_type": "code",
   "execution_count": 30,
   "metadata": {},
   "outputs": [
    {
     "data": {
      "text/plain": [
       "type"
      ]
     },
     "execution_count": 30,
     "metadata": {},
     "output_type": "execute_result"
    }
   ],
   "source": [
    "ABCMeta.__class__"
   ]
  },
  {
   "cell_type": "markdown",
   "metadata": {},
   "source": [
    "## A Metaclass Hack with `__prepare__`\n",
    "Autogenerates numeric constants:"
   ]
  },
  {
   "cell_type": "code",
   "execution_count": 31,
   "metadata": {},
   "outputs": [],
   "source": [
    "class WilyDict(dict):\n",
    "    def __init__(self, *args, **kwargs):\n",
    "        super().__init__(*args, **kwargs)\n",
    "        self.__next_value = 0\n",
    "\n",
    "    def __missing__(self, key):\n",
    "        if key.startswith('__') and key.endswith('__'):\n",
    "            raise KeyError(key)\n",
    "        self[key] = value = self.__next_value\n",
    "        self.__next_value += 1\n",
    "        return value"
   ]
  },
  {
   "cell_type": "code",
   "execution_count": 32,
   "metadata": {},
   "outputs": [],
   "source": [
    "wd = WilyDict()"
   ]
  },
  {
   "cell_type": "code",
   "execution_count": 33,
   "metadata": {},
   "outputs": [
    {
     "data": {
      "text/plain": [
       "0"
      ]
     },
     "execution_count": 33,
     "metadata": {},
     "output_type": "execute_result"
    }
   ],
   "source": [
    "len(wd)"
   ]
  },
  {
   "cell_type": "code",
   "execution_count": 34,
   "metadata": {},
   "outputs": [
    {
     "data": {
      "text/plain": [
       "0"
      ]
     },
     "execution_count": 34,
     "metadata": {},
     "output_type": "execute_result"
    }
   ],
   "source": [
    "wd['first']"
   ]
  },
  {
   "cell_type": "code",
   "execution_count": 35,
   "metadata": {},
   "outputs": [
    {
     "data": {
      "text/plain": [
       "{'first': 0}"
      ]
     },
     "execution_count": 35,
     "metadata": {},
     "output_type": "execute_result"
    }
   ],
   "source": [
    "wd"
   ]
  },
  {
   "cell_type": "code",
   "execution_count": 36,
   "metadata": {},
   "outputs": [
    {
     "data": {
      "text/plain": [
       "1"
      ]
     },
     "execution_count": 36,
     "metadata": {},
     "output_type": "execute_result"
    }
   ],
   "source": [
    "wd['second']"
   ]
  },
  {
   "cell_type": "code",
   "execution_count": 37,
   "metadata": {},
   "outputs": [
    {
     "data": {
      "text/plain": [
       "2"
      ]
     },
     "execution_count": 37,
     "metadata": {},
     "output_type": "execute_result"
    }
   ],
   "source": [
    "wd['third']"
   ]
  },
  {
   "cell_type": "code",
   "execution_count": 38,
   "metadata": {},
   "outputs": [
    {
     "data": {
      "text/plain": [
       "3"
      ]
     },
     "execution_count": 38,
     "metadata": {},
     "output_type": "execute_result"
    }
   ],
   "source": [
    "len(wd)"
   ]
  },
  {
   "cell_type": "code",
   "execution_count": 39,
   "metadata": {},
   "outputs": [
    {
     "data": {
      "text/plain": [
       "{'first': 0, 'second': 1, 'third': 2}"
      ]
     },
     "execution_count": 39,
     "metadata": {},
     "output_type": "execute_result"
    }
   ],
   "source": [
    "wd"
   ]
  },
  {
   "cell_type": "code",
   "execution_count": 40,
   "metadata": {},
   "outputs": [
    {
     "ename": "KeyError",
     "evalue": "'__magic__'",
     "output_type": "error",
     "traceback": [
      "\u001b[0;31m---------------------------------------------------------------------------\u001b[0m",
      "\u001b[0;31mKeyError\u001b[0m                                  Traceback (most recent call last)",
      "Cell \u001b[0;32mIn [40], line 1\u001b[0m\n\u001b[0;32m----> 1\u001b[0m wd[\u001b[38;5;124m\"\u001b[39m\u001b[38;5;124m__magic__\u001b[39m\u001b[38;5;124m\"\u001b[39m]\n",
      "Cell \u001b[0;32mIn [31], line 8\u001b[0m, in \u001b[0;36mWilyDict.__missing__\u001b[0;34m(self, key)\u001b[0m\n\u001b[1;32m      6\u001b[0m \u001b[38;5;28;01mdef\u001b[39;00m \u001b[38;5;21m__missing__\u001b[39m(\u001b[38;5;28mself\u001b[39m, key):\n\u001b[1;32m      7\u001b[0m     \u001b[38;5;28;01mif\u001b[39;00m key\u001b[38;5;241m.\u001b[39mstartswith(\u001b[38;5;124m'\u001b[39m\u001b[38;5;124m__\u001b[39m\u001b[38;5;124m'\u001b[39m) \u001b[38;5;129;01mand\u001b[39;00m key\u001b[38;5;241m.\u001b[39mendswith(\u001b[38;5;124m'\u001b[39m\u001b[38;5;124m__\u001b[39m\u001b[38;5;124m'\u001b[39m):\n\u001b[0;32m----> 8\u001b[0m         \u001b[38;5;28;01mraise\u001b[39;00m \u001b[38;5;167;01mKeyError\u001b[39;00m(key)\n\u001b[1;32m      9\u001b[0m     \u001b[38;5;28mself\u001b[39m[key] \u001b[38;5;241m=\u001b[39m value \u001b[38;5;241m=\u001b[39m \u001b[38;5;28mself\u001b[39m\u001b[38;5;241m.\u001b[39m__next_value\n\u001b[1;32m     10\u001b[0m     \u001b[38;5;28mself\u001b[39m\u001b[38;5;241m.\u001b[39m__next_value \u001b[38;5;241m+\u001b[39m\u001b[38;5;241m=\u001b[39m \u001b[38;5;241m1\u001b[39m\n",
      "\u001b[0;31mKeyError\u001b[0m: '__magic__'"
     ]
    }
   ],
   "source": [
    "wd[\"__magic__\"]"
   ]
  },
  {
   "cell_type": "code",
   "execution_count": 41,
   "metadata": {},
   "outputs": [],
   "source": [
    "class AutoConstMeta(type):\n",
    "    def __prepare__(name, bases, **kwargs):\n",
    "        return WilyDict()\n",
    "\n",
    "class AutoConst(metaclass=AutoConstMeta):\n",
    "    pass"
   ]
  },
  {
   "cell_type": "code",
   "execution_count": 42,
   "metadata": {},
   "outputs": [],
   "source": [
    "class Flavor(AutoConst):\n",
    "    banana\n",
    "    coconut\n",
    "    vanilla"
   ]
  },
  {
   "cell_type": "code",
   "execution_count": 43,
   "metadata": {},
   "outputs": [
    {
     "data": {
      "text/plain": [
       "2"
      ]
     },
     "execution_count": 43,
     "metadata": {},
     "output_type": "execute_result"
    }
   ],
   "source": [
    "Flavor.vanilla"
   ]
  },
  {
   "cell_type": "code",
   "execution_count": 44,
   "metadata": {},
   "outputs": [
    {
     "data": {
      "text/plain": [
       "(0, 1)"
      ]
     },
     "execution_count": 44,
     "metadata": {},
     "output_type": "execute_result"
    }
   ],
   "source": [
    "(Flavor.banana, Flavor.coconut)"
   ]
  }
 ],
 "metadata": {
  "kernelspec": {
   "display_name": "Python 3 (ipykernel)",
   "language": "python",
   "name": "python3"
  },
  "language_info": {
   "codemirror_mode": {
    "name": "ipython",
    "version": 3
   },
   "file_extension": ".py",
   "mimetype": "text/x-python",
   "name": "python",
   "nbconvert_exporter": "python",
   "pygments_lexer": "ipython3",
   "version": "3.10.6"
  }
 },
 "nbformat": 4,
 "nbformat_minor": 2
}
