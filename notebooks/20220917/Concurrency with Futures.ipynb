{
 "cells": [
  {
   "cell_type": "markdown",
   "metadata": {},
   "source": [
    "References:\n",
    "- https://docs.python.org/3/library/concurrent.futures.html\n",
    "- Fluent Python by Luciano Ramalho. Chapter 17: Concurrency with Futures\n",
    "\n",
    "# Example:  Web Ddownloads in 3 Styles\n",
    "## A Sequential Download Script"
   ]
  },
  {
   "cell_type": "code",
   "execution_count": 1,
   "metadata": {},
   "outputs": [],
   "source": [
    "import os\n",
    "import time\n",
    "import sys\n",
    "\n",
    "import requests"
   ]
  },
  {
   "cell_type": "code",
   "execution_count": 2,
   "metadata": {},
   "outputs": [],
   "source": [
    "POP20_CC = ('CN IN US ID BR PK NG BD RU JP '\n",
    "            'MX PH VN ET EG DE IR TR CD FR').split()"
   ]
  },
  {
   "cell_type": "code",
   "execution_count": 3,
   "metadata": {},
   "outputs": [],
   "source": [
    "BASE_URL = 'http://flupy.org/data/flags'"
   ]
  },
  {
   "cell_type": "code",
   "execution_count": 4,
   "metadata": {},
   "outputs": [],
   "source": [
    "DEST_DIR = 'downloads/'"
   ]
  },
  {
   "cell_type": "code",
   "execution_count": 5,
   "metadata": {},
   "outputs": [],
   "source": [
    "def save_flag(img, filename):  # <5>\n",
    "    path = os.path.join(DEST_DIR, filename)\n",
    "    with open(path, 'wb') as fp:\n",
    "        fp.write(img)"
   ]
  },
  {
   "cell_type": "code",
   "execution_count": 6,
   "metadata": {},
   "outputs": [],
   "source": [
    "def get_flag(cc):  # <6>\n",
    "    url = '{}/{cc}/{cc}.gif'.format(BASE_URL, cc=cc.lower())\n",
    "    resp = requests.get(url)\n",
    "    return resp.content"
   ]
  },
  {
   "cell_type": "code",
   "execution_count": 7,
   "metadata": {},
   "outputs": [],
   "source": [
    "def show(text):  # <7>\n",
    "    print(text, end=' ')\n",
    "    sys.stdout.flush()"
   ]
  },
  {
   "cell_type": "code",
   "execution_count": 8,
   "metadata": {},
   "outputs": [],
   "source": [
    "def download_many(cc_list):  # <8>\n",
    "    for cc in sorted(cc_list):  # <9>\n",
    "        image = get_flag(cc)\n",
    "        show(cc)\n",
    "        save_flag(image, cc.lower() + '.gif')\n",
    "\n",
    "    return len(cc_list)"
   ]
  },
  {
   "cell_type": "raw",
   "metadata": {},
   "source": [
    "os.mkdir(DEST_DIR)"
   ]
  },
  {
   "cell_type": "code",
   "execution_count": 9,
   "metadata": {},
   "outputs": [],
   "source": [
    "def main():\n",
    "    t0 = time.time()\n",
    "    count = download_many(POP20_CC)\n",
    "    elapsed = time.time() - t0\n",
    "    msg = '\\n{} flags downloaded in {:.2f}s'\n",
    "    print(msg.format(count, elapsed))"
   ]
  },
  {
   "cell_type": "code",
   "execution_count": 10,
   "metadata": {},
   "outputs": [
    {
     "name": "stdout",
     "output_type": "stream",
     "text": [
      "BD BR CD CN DE EG ET FR ID IN IR JP MX NG PH PK RU TR US VN \n",
      "20 flags downloaded in 23.04s\n"
     ]
    }
   ],
   "source": [
    "main()"
   ]
  },
  {
   "cell_type": "markdown",
   "metadata": {},
   "source": [
    "## Downloading with `concurrent.futures`"
   ]
  },
  {
   "cell_type": "code",
   "execution_count": 11,
   "metadata": {},
   "outputs": [],
   "source": [
    "from concurrent import futures"
   ]
  },
  {
   "cell_type": "code",
   "execution_count": 12,
   "metadata": {},
   "outputs": [],
   "source": [
    "MAX_WORKERS = 20"
   ]
  },
  {
   "cell_type": "code",
   "execution_count": 13,
   "metadata": {},
   "outputs": [],
   "source": [
    "def download_one(cc): \n",
    "    image = get_flag(cc)\n",
    "    show(cc)\n",
    "    save_flag(image, cc.lower() + '.gif')\n",
    "    return cc"
   ]
  },
  {
   "cell_type": "code",
   "execution_count": 14,
   "metadata": {},
   "outputs": [],
   "source": [
    "def download_many(cc_list):\n",
    "    workers = min(MAX_WORKERS, len(cc_list))  # set the min number of max workers\n",
    "    with futures.ThreadPoolExecutor(workers) as executor:  # instantiate\n",
    "        res = executor.map(download_one, sorted(cc_list))  # returns a seperate generator for each thread\n",
    "\n",
    "    return len(list(res)) # return the number of results"
   ]
  },
  {
   "cell_type": "code",
   "execution_count": 15,
   "metadata": {},
   "outputs": [
    {
     "name": "stdout",
     "output_type": "stream",
     "text": [
      "RU NG BD DE FR CN ID PK US TR CD VN JP IRMXIN   ET BR EG PH \n",
      "20 flags downloaded in 1.77s\n"
     ]
    }
   ],
   "source": [
    "main()"
   ]
  },
  {
   "cell_type": "markdown",
   "metadata": {},
   "source": [
    "## Where are the futures\n",
    "\n",
    "Futures encapsulate pending operations so that they can be put in queues.\n",
    "\n",
    "Developers should not create futures, they are meant to be instantiated exclusively by thee concurrency framework."
   ]
  },
  {
   "cell_type": "code",
   "execution_count": 16,
   "metadata": {},
   "outputs": [],
   "source": [
    "def download_many(cc_list):\n",
    "    cc_list = cc_list[:5]  # top 5 most populous countries\n",
    "    with futures.ThreadPoolExecutor(max_workers=3) as executor: \n",
    "        to_do = []\n",
    "        for cc in sorted(cc_list):  # to show results arrive out of alphabetical order\n",
    "            future = executor.submit(download_one, cc)  # schedules the callable and returns a future\n",
    "            to_do.append(future)  # store each future\n",
    "            msg = 'Scheduled for {}: {}'\n",
    "            print(msg.format(cc, future))  # display country code and respoective future\n",
    "\n",
    "        results = []\n",
    "        for future in futures.as_completed(to_do):  # yields futures as they are completed\n",
    "            res = future.result()  # get the result \n",
    "            msg = '{} result: {!r}'\n",
    "            print(msg.format(future, res)) # display\n",
    "            results.append(res)"
   ]
  },
  {
   "cell_type": "code",
   "execution_count": 17,
   "metadata": {},
   "outputs": [
    {
     "name": "stdout",
     "output_type": "stream",
     "text": [
      "Scheduled for BR: <Future at 0x103aab8d0 state=running>\n",
      "Scheduled for CN: <Future at 0x103acbb10 state=running>\n",
      "Scheduled for ID: <Future at 0x103ae3290 state=running>\n",
      "Scheduled for IN: <Future at 0x103aab910 state=pending>\n",
      "Scheduled for US: <Future at 0x103ad4850 state=pending>\n",
      "BRCN  <Future at 0x103acbb10 state=finished returned str> result: 'CN'\n",
      "<Future at 0x103aab8d0 state=finished returned str> result: 'BR'\n",
      "ID <Future at 0x103ae3290 state=finished returned str> result: 'ID'\n",
      "IN <Future at 0x103aab910 state=finished returned str> result: 'IN'\n",
      "US <Future at 0x103ad4850 state=finished returned str> result: 'US'\n",
      "\n",
      "None flags downloaded in 1.94s\n"
     ]
    }
   ],
   "source": [
    "main()"
   ]
  },
  {
   "cell_type": "markdown",
   "metadata": {},
   "source": [
    "#  Blocking I/O  and the  GIL\n",
    "The CPython interpreter is not thread-safe internally, so it has a Global Interpreter Lock."
   ]
  },
  {
   "cell_type": "code",
   "execution_count": 18,
   "metadata": {},
   "outputs": [],
   "source": [
    "def download_many(cc_list):\n",
    "    with futures.ProcessPoolExecutor() as executor: \n",
    "        res = executor.map(download_one, sorted(cc_list)) \n",
    "\n",
    "    return len(list(res)) "
   ]
  },
  {
   "cell_type": "code",
   "execution_count": 19,
   "metadata": {},
   "outputs": [
    {
     "name": "stdout",
     "output_type": "stream",
     "text": [
      "BD BR CD CN DE EG ET FR IR ID JP IN MX NG PK PH US VN TR RU \n",
      "20 flags downloaded in 7.01s\n"
     ]
    }
   ],
   "source": [
    "main()"
   ]
  },
  {
   "cell_type": "markdown",
   "metadata": {},
   "source": [
    "# Experimenting with `Executor.map`"
   ]
  },
  {
   "cell_type": "code",
   "execution_count": 20,
   "metadata": {},
   "outputs": [],
   "source": [
    "from time import sleep, strftime\n",
    "from concurrent import futures"
   ]
  },
  {
   "cell_type": "code",
   "execution_count": 21,
   "metadata": {},
   "outputs": [],
   "source": [
    "def display(*args):  # prints the arguments\n",
    "    print(strftime('[%H:%M:%S]'), end=' ')\n",
    "    print(*args)\n"
   ]
  },
  {
   "cell_type": "code",
   "execution_count": 22,
   "metadata": {},
   "outputs": [],
   "source": [
    "def loiter(n):  \n",
    "    msg = '{}loiter({}): doing nothing for {}s...'\n",
    "    display(msg.format('\\t'*n, n, n))\n",
    "    sleep(n)\n",
    "    msg = '{}loiter({}): done.'\n",
    "    display(msg.format('\\t'*n, n))\n",
    "    return n * 10  "
   ]
  },
  {
   "cell_type": "code",
   "execution_count": 23,
   "metadata": {},
   "outputs": [],
   "source": [
    "def demo_executor_map():\n",
    "    display('Script starting.')\n",
    "    executor = futures.ThreadPoolExecutor(max_workers=3)  # Creates ThreadPoolExecutor\n",
    "    results = executor.map(loiter, range(5))  # Submit 5 tasks with only 3 threads, non blocking\n",
    "    display('results:', results)  \n",
    "    display('Waiting for individual results:')\n",
    "    for i, result in enumerate(results):  # the enumerator implicitly invoke next(results),  which  will invoke  _f.result() The result method will block until the future is done.\n",
    "        display('result {}: {}'.format(i, result))"
   ]
  },
  {
   "cell_type": "code",
   "execution_count": 24,
   "metadata": {},
   "outputs": [
    {
     "name": "stdout",
     "output_type": "stream",
     "text": [
      "[06:11:20] Script starting.\n",
      "[06:11:20] [06:11:20]loiter(0): doing nothing for 0s... \n",
      "[06:11:20]\tloiter(1): doing nothing for 1s... loiter(0): done.\n",
      "\n",
      "[06:11:20] \t\tloiter(2): doing nothing for 2s...\n",
      "[06:11:20][06:11:20] results: <generator object Executor.map.<locals>.result_iterator at 0x103b2f050>\n",
      "[06:11:20] Waiting for individual results:\n",
      "[06:11:20] \t\t\tloiter(3): doing nothing for 3s...\n",
      " result 0: 0\n",
      "[06:11:21] \tloiter(1): done.\n",
      "[06:11:21] \t\t\t\tloiter(4): doing nothing for 4s...\n",
      "[06:11:21] result 1: 10\n",
      "[06:11:22] \t\tloiter(2): done.\n",
      "[06:11:22] result 2: 20\n",
      "[06:11:23] \t\t\tloiter(3): done.\n",
      "[06:11:23] result 3: 30\n",
      "[06:11:25] \t\t\t\tloiter(4): done.\n",
      "[06:11:25] result 4: 40\n"
     ]
    }
   ],
   "source": [
    "demo_executor_map()"
   ]
  },
  {
   "cell_type": "markdown",
   "metadata": {},
   "source": [
    "# Downloads with Progress Display and Error Handling\n",
    "\n",
    "https://github.com/noamraph/tqdm/blob/master/README.md\n",
    "\n"
   ]
  },
  {
   "cell_type": "code",
   "execution_count": null,
   "metadata": {},
   "outputs": [],
   "source": []
  }
 ],
 "metadata": {
  "kernelspec": {
   "display_name": "Python 3",
   "language": "python",
   "name": "python3"
  },
  "language_info": {
   "codemirror_mode": {
    "name": "ipython",
    "version": 3
   },
   "file_extension": ".py",
   "mimetype": "text/x-python",
   "name": "python",
   "nbconvert_exporter": "python",
   "pygments_lexer": "ipython3",
   "version": "3.7.6"
  }
 },
 "nbformat": 4,
 "nbformat_minor": 2
}
