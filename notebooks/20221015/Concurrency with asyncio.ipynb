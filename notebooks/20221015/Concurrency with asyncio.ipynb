{
 "cells": [
  {
   "cell_type": "markdown",
   "metadata": {},
   "source": [
    "###### References: \n",
    "- https://docs.python.org/3/library/asyncio.html\n",
    "- Fluent Python, 2nd Edition, by Luciano Ramalho. Chapter 21: Asynchronous Programming\n",
    "\n",
    "##### Concurrenly Is Not Parrallelism\n",
    "Concurrency is about dealing with lots of things at once.  \n",
    "Parallelism is about doing lots of things at once.\n",
    "\n",
    "#### Native Coroutine\n",
    "#### Classic Coroutine\n",
    "#### Generator-based Coroutine\n",
    "#### Asynchronous  Coroutine\n"
   ]
  },
  {
   "cell_type": "markdown",
   "metadata": {},
   "source": [
    "# E.g. : Probing Domains\n",
    "In terminal:\n",
    "\n",
    "    python3 blogddom.py\n",
    "\n",
    "# Awaitable\n",
    "`await` works for *awaitables*\n",
    "\n",
    " * A native coroutine object\n",
    " * An `asyncio.Task`\n",
    " * An object with an `__await__`  method that returns an iterator\n",
    " * Objects written in other languages using `tp_as_async.am_await` function, returning an iterator\n",
    " \n",
    "# Downloading with an asyncio and  HTTPX\n",
    "In terminal:\n",
    "\n",
    "    python3 flags_asyncio.py"
   ]
  },
  {
   "cell_type": "code",
   "execution_count": null,
   "metadata": {},
   "outputs": [],
   "source": [
    "def download_many(cc_list: list[str]) -> int:    # needs to be a plain function\n",
    "    return asyncio.run(supervisor(cc_list))      # execute the event loop\n",
    "\n",
    "async def supervisor(cc_list: list[str]) -> int:\n",
    "    async with AsyncClient() as client:          # asynchorous HTTP client operations\n",
    "        to_do = [download_one(client, cc)\n",
    "                 for cc in sorted(cc_list)]      # build a list of coroutine objects\n",
    "        res = await asyncio.gather(*to_do)       # wait for the asyncio.gather coroutine\n",
    "\n",
    "    return len(res)                              "
   ]
  },
  {
   "cell_type": "code",
   "execution_count": null,
   "metadata": {},
   "outputs": [],
   "source": [
    "import asyncio\n",
    "\n",
    "from httpx import AsyncClient  \n",
    "\n",
    "from flags import BASE_URL, save_flag, main \n",
    "\n",
    "async def download_one(client: AsyncClient, cc: str):  # must be a native coroutine\n",
    "    image = await get_flag(client, cc)\n",
    "    save_flag(image, f'{cc}.gif')\n",
    "    print(cc, end=' ', flush=True)\n",
    "    return cc\n",
    "\n",
    "async def get_flag(client: AsyncClient, cc: str) -> bytes:  # needs to receive the AsyncClient to make the request\n",
    "    url = f'{BASE_URL}/{cc}/{cc}.gif'.lower()\n",
    "    resp = await client.get(url, timeout=6.1,\n",
    "                                  follow_redirects=True)  # returns a ClientResponse object that is also an asynchronous context manager\n",
    "    return resp.read()  # Network I/O operations are implemented as coroutine methods"
   ]
  },
  {
   "cell_type": "markdown",
   "metadata": {},
   "source": [
    "# The secret of Native Coroutines : Humble Generators\n",
    "<img src=\"await.png\" width=\"75%\">\n",
    "\n",
    "# Asynchronous Context Managers\n",
    "\n",
    "## PostgreSQL driver:"
   ]
  },
  {
   "cell_type": "code",
   "execution_count": null,
   "metadata": {},
   "outputs": [],
   "source": [
    "tr = connection.transaction()\n",
    "await tr.start()\n",
    "try:\n",
    "    await connection.execute('INSERT INTO mytable VALUES (1, 2, 3)')\n",
    "except: \n",
    "    await tr.rollback()\n",
    "    raise\n",
    "else:\n",
    "    await tr.commit()"
   ]
  },
  {
   "cell_type": "code",
   "execution_count": null,
   "metadata": {},
   "outputs": [],
   "source": [
    "async with connection.transaction():\n",
    "    await connection.execute(\"INSERT INTO mytable VALUES(1, 2, 3)\")"
   ]
  },
  {
   "cell_type": "markdown",
   "metadata": {},
   "source": [
    "# Enhancing the asyncio Downloader\n",
    "In terminal:\n",
    "\n",
    "    python3 flags2_asyncio.py\n",
    "    \n",
    "# Throttling Requests  with a Semaphore"
   ]
  },
  {
   "cell_type": "code",
   "execution_count": null,
   "metadata": {},
   "outputs": [],
   "source": [
    "async def supervisor(cc_list: list[str],\n",
    "                     base_url: str,\n",
    "                     verbose: bool,\n",
    "                     concur_req: int) -> Counter[DownloadStatus]:  # cannot be invoked directly from main because it is a coroutine.\n",
    "    counter: Counter[DownloadStatus] = Counter()\n",
    "    semaphore = asyncio.Semaphore(concur_req)  # Create an asyncio.Semophore that will not allow more than `concur_req` active coroutines among those using this semaphore.\n",
    "    async with httpx.AsyncClient() as client:\n",
    "        to_do = [download_one(client, cc, base_url, semaphore, verbose)\n",
    "                 for cc in sorted(cc_list)]  # Create a list of coroutine objects, one per call\n",
    "        to_do_iter = asyncio.as_completed(to_do)  # Get an iterator that will return coroutines objects as they are done.\n",
    "        if not verbose:\n",
    "            to_do_iter = tqdm.tqdm(to_do_iter, total=len(cc_list))  # Wrap as_completed iterator with the tqdm generator function to display progress\n",
    "        error: httpx.HTTPError | None = None  # Declare and initialise error with None. Used to holdd an exception if one is raised\n",
    "        for coro in to_do_iter:  # Iterate over the compeleted coroutine objects\n",
    "            try:\n",
    "                status = await coro  # this will not block becauase only has done coroutines.\n",
    "            except httpx.HTTPStatusError as exc:\n",
    "                error_msg = 'HTTP error {resp.status_code} - {resp.reason_phrase}'\n",
    "                error_msg = error_msg.format(resp=exc.response)\n",
    "                error = exc  # preserve its value\n",
    "            except httpx.RequestError as exc:\n",
    "                error_msg = f'{exc} {type(exc)}'.strip()\n",
    "                error = exc  \n",
    "            except KeyboardInterrupt:\n",
    "                break\n",
    "\n",
    "            if error:\n",
    "                status = DownloadStatus.ERROR  \n",
    "                if verbose:\n",
    "                    url = str(error.request.url)  # extract the URL from the exception\n",
    "                    cc = Path(url).stem.upper()   # extract the name of file to display the country code\n",
    "                    print(f'{cc} error: {error_msg}')\n",
    "            counter[status] += 1\n",
    "\n",
    "    return counter\n",
    "\n",
    "def download_many(cc_list: list[str],\n",
    "                  base_url: str,\n",
    "                  verbose: bool,\n",
    "                  concur_req: int) -> Counter[DownloadStatus]:\n",
    "    coro = supervisor(cc_list, base_url, verbose, concur_req)\n",
    "    counts = asyncio.run(coro)  # instantiates the supervisor coroutine and passes it to the event loop\n",
    "\n",
    "    return counts"
   ]
  },
  {
   "cell_type": "markdown",
   "metadata": {},
   "source": [
    "# Making Multiple Requests for Each Download\n",
    "In terminal:\n",
    "\n",
    "    python3 flags3_asyncio.py"
   ]
  },
  {
   "cell_type": "code",
   "execution_count": null,
   "metadata": {},
   "outputs": [],
   "source": [
    "async def get_country(client: httpx.AsyncClient,\n",
    "                      base_url: str,\n",
    "                      cc: str) -> str:    # coroutine returns a string with the country name\n",
    "    url = f'{base_url}/{cc}/metadata.json'.lower()\n",
    "    resp = await client.get(url, timeout=3.1, follow_redirects=True)\n",
    "    resp.raise_for_status()\n",
    "    metadata = resp.json()  # get a Python dict built from the JSON contents of the response\n",
    "    return metadata['country'] "
   ]
  },
  {
   "cell_type": "code",
   "execution_count": null,
   "metadata": {},
   "outputs": [],
   "source": [
    "async def download_one(client: httpx.AsyncClient,\n",
    "                       cc: str,\n",
    "                       base_url: str,\n",
    "                       semaphore: asyncio.Semaphore,\n",
    "                       verbose: bool) -> DownloadStatus:\n",
    "    try:\n",
    "        async with semaphore:  # hold the semaphore to await for get_flag\n",
    "            image = await get_flag(client, base_url, cc)\n",
    "        async with semaphore:  #  same for get_country\n",
    "            country = await get_country(client, base_url, cc)\n",
    "    except httpx.HTTPStatusError as exc:\n",
    "        res = exc.response\n",
    "        if res.status_code == HTTPStatus.NOT_FOUND:\n",
    "            status = DownloadStatus.NOT_FOUND\n",
    "            msg = f'not found: {res.url}'\n",
    "        else:\n",
    "            raise\n",
    "    else:\n",
    "        filename = country.replace(' ', '_')  # use  country name to create a filename.\n",
    "        await asyncio.to_thread(save_flag, image, f'{filename}.gif')\n",
    "        status = DownloadStatus.OK\n",
    "        msg = 'OK'\n",
    "    if verbose and msg:\n",
    "        print(cc, msg)\n",
    "    return status"
   ]
  },
  {
   "cell_type": "markdown",
   "metadata": {},
   "source": [
    "# Delegating Tasks to Executors\n",
    "\n",
    "    await asyncio.to_thread(save_flag, image, f'{cc}.gif')\n",
    "    \n",
    "in Python 3.7 or 3.8:\n",
    "\n",
    "    loop = asyncio.get_running_loop()\n",
    "    loop.run_in_executor(None, save_flag, image, f'{cc}.gif')\n",
    "    \n",
    "# Writing asyncio Servers\n",
    "\n",
    "..."
   ]
  },
  {
   "cell_type": "code",
   "execution_count": null,
   "metadata": {},
   "outputs": [],
   "source": []
  }
 ],
 "metadata": {
  "kernelspec": {
   "display_name": "Python 3 (ipykernel)",
   "language": "python",
   "name": "python3"
  },
  "language_info": {
   "codemirror_mode": {
    "name": "ipython",
    "version": 3
   },
   "file_extension": ".py",
   "mimetype": "text/x-python",
   "name": "python",
   "nbconvert_exporter": "python",
   "pygments_lexer": "ipython3",
   "version": "3.10.6"
  }
 },
 "nbformat": 4,
 "nbformat_minor": 2
}
