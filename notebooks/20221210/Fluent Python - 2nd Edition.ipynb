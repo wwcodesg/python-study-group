{
 "cells": [
  {
   "cell_type": "markdown",
   "metadata": {},
   "source": [
    "###### References: \n",
    "- Fluent Python, 2nd Edition, by Luciano Ramalho.\n",
    "\n",
    "# Chapter 1: The Python Data Model\n",
    "\n",
    "## Collection API\n",
    "<img src=\"abc.png\" width=\"75%\">\n",
    "\n",
    "### `collection.abc`\n",
    "Interfaces:\n",
    "  * `iterable` to support for, unpacking, andd  other forms  of iteration\n",
    "  * `sized` to support the len built-in function\n",
    "  * `container` to support the  in operator\n",
    "\n",
    "specialations:\n",
    "  * `Sequence`, formalizing the interface of built-ins like `list` and `str`\n",
    "  * `Mapping`, implemented by `dict`, `collections.defaultdict`, etc\n",
    "  * `Set`, the interface of the `set` and `frozenset` built-in types"
   ]
  },
  {
   "cell_type": "markdown",
   "metadata": {},
   "source": [
    "# Chapter 2: An Array of Sequences\n",
    "\n",
    "## Pattern Matching with Sequence\n",
    "\n",
    "\\> Python 3.10 : `match/case` statement  \n",
    "PEP 634 -- Structural Pattern Matching: Specification"
   ]
  },
  {
   "cell_type": "code",
   "execution_count": 1,
   "metadata": {},
   "outputs": [],
   "source": [
    "def handle_command(self, message):\n",
    "    match message:  # expression after the match keywordd is the subject\n",
    "        case ['BEEPER', frequency, times]: # pattern matches any subject that is a sequence with three items\n",
    "            self.beep(times, frequency)\n",
    "        case ['NECK', angle]: \n",
    "            self.rotate_neck(angle)\n",
    "        case ['LED', ident, intensity]:\n",
    "            self.leds[ident].set_brightness(ident, intensity)\n",
    "        case ['LED', ident, red, green, blue]:\n",
    "            self.leds[ident].set_color(ident, red, green, blue)\n",
    "        case _:\n",
    "            raise InvalidCommand(message)"
   ]
  },
  {
   "cell_type": "markdown",
   "metadata": {},
   "source": [
    "Similar with C language `switch/case`, but with destructuring."
   ]
  },
  {
   "cell_type": "code",
   "execution_count": 2,
   "metadata": {},
   "outputs": [
    {
     "name": "stdout",
     "output_type": "stream",
     "text": [
      "                |  latitude | longitude\n",
      "Mexico City     |   19.4333 |  -99.1333\n",
      "New York-Newark |   40.8086 |  -74.0204\n",
      "São Paulo       |  -23.5478 |  -46.6358\n"
     ]
    }
   ],
   "source": [
    "metro_areas = [\n",
    "    ('Tokyo', 'JP', 36.933, (35.689722, 139.691667)),\n",
    "    ('Delhi NCR', 'IN', 21.935, (28.613889, 77.208889)),\n",
    "    ('Mexico City', 'MX', 20.142, (19.433333, -99.133333)),\n",
    "    ('New York-Newark', 'US', 20.104, (40.808611, -74.020386)),\n",
    "    ('São Paulo', 'BR', 19.649, (-23.547778, -46.635833)),\n",
    "]\n",
    "\n",
    "def main():\n",
    "    print(f'{\"\":15} | {\"latitude\":>9} | {\"longitude\":>9}')\n",
    "    for record in metro_areas:\n",
    "        match record:\n",
    "            case [name, _, _, (lat, lon)] if lon <= 0:\n",
    "                print(f'{name:15} | {lat:9.4f} | {lon:9.4f}')\n",
    "main()"
   ]
  },
  {
   "cell_type": "markdown",
   "metadata": {},
   "source": [
    "# Chapter 3: Dictionaries and Sets\n",
    "\n",
    "## Modern `dict` Syntax\n",
    "\n",
    "### Merging Mappings with `|`\n",
    "\n",
    "Python 3.9 supports using of `|` and `|=` to merge mapping"
   ]
  },
  {
   "cell_type": "code",
   "execution_count": 3,
   "metadata": {},
   "outputs": [
    {
     "data": {
      "text/plain": [
       "{'a': 2, 'b': 4, 'c': 6}"
      ]
     },
     "execution_count": 3,
     "metadata": {},
     "output_type": "execute_result"
    }
   ],
   "source": [
    "d1 = {'a':1, 'b': 3}\n",
    "d2 = {'a':2, 'b': 4, 'c': 6}\n",
    "d1 | d2"
   ]
  },
  {
   "cell_type": "code",
   "execution_count": 4,
   "metadata": {},
   "outputs": [
    {
     "data": {
      "text/plain": [
       "{'a': 2, 'b': 4, 'c': 6}"
      ]
     },
     "execution_count": 4,
     "metadata": {},
     "output_type": "execute_result"
    }
   ],
   "source": [
    "d1 |= d2\n",
    "d1"
   ]
  },
  {
   "cell_type": "markdown",
   "metadata": {},
   "source": [
    "##  Pattern Matching  with  Mappings"
   ]
  },
  {
   "cell_type": "code",
   "execution_count": 5,
   "metadata": {},
   "outputs": [],
   "source": [
    "def get_creators(record: dict) -> list:\n",
    "    match record:\n",
    "        case {'type': 'book', 'api': 2, 'authors': [*names]}:  # <1>\n",
    "            return names\n",
    "        case {'type': 'book', 'api': 1, 'author': name}:  # <2>\n",
    "            return [name]\n",
    "        case {'type': 'book'}:  # <3>\n",
    "            raise ValueError(f\"Invalid 'book' record: {record!r}\")\n",
    "        case {'type': 'movie', 'director': name}:  # <4>\n",
    "            return [name]\n",
    "        case _:  # <5>\n",
    "            raise ValueError(f'Invalid record: {record!r}')"
   ]
  },
  {
   "cell_type": "code",
   "execution_count": 6,
   "metadata": {},
   "outputs": [
    {
     "data": {
      "text/plain": [
       "['Douglas Hofstadter']"
      ]
     },
     "execution_count": 6,
     "metadata": {},
     "output_type": "execute_result"
    }
   ],
   "source": [
    "b1 = dict(api=1, author='Douglas Hofstadter',\n",
    "         type='book', title='Gödel, Escher, Bach')\n",
    "get_creators(b1)"
   ]
  },
  {
   "cell_type": "code",
   "execution_count": 7,
   "metadata": {},
   "outputs": [],
   "source": [
    "from collections import OrderedDict"
   ]
  },
  {
   "cell_type": "code",
   "execution_count": 8,
   "metadata": {},
   "outputs": [
    {
     "data": {
      "text/plain": [
       "['Martelli', 'Ravenscroft', 'Holden']"
      ]
     },
     "execution_count": 8,
     "metadata": {},
     "output_type": "execute_result"
    }
   ],
   "source": [
    "b2 = OrderedDict(api=2, type='book',\n",
    "         title='Python in a Nutshell',\n",
    "         authors='Martelli Ravenscroft Holden'.split())\n",
    "get_creators(b2)"
   ]
  },
  {
   "cell_type": "code",
   "execution_count": 9,
   "metadata": {},
   "outputs": [
    {
     "ename": "ValueError",
     "evalue": "Invalid 'book' record: {'type': 'book', 'pages': 770}",
     "output_type": "error",
     "traceback": [
      "\u001b[0;31m---------------------------------------------------------------------------\u001b[0m",
      "\u001b[0;31mValueError\u001b[0m                                Traceback (most recent call last)",
      "Cell \u001b[0;32mIn [9], line 1\u001b[0m\n\u001b[0;32m----> 1\u001b[0m get_creators({\u001b[38;5;124m'\u001b[39m\u001b[38;5;124mtype\u001b[39m\u001b[38;5;124m'\u001b[39m: \u001b[38;5;124m'\u001b[39m\u001b[38;5;124mbook\u001b[39m\u001b[38;5;124m'\u001b[39m, \u001b[38;5;124m'\u001b[39m\u001b[38;5;124mpages\u001b[39m\u001b[38;5;124m'\u001b[39m: \u001b[38;5;241m770\u001b[39m})\n",
      "Cell \u001b[0;32mIn [5], line 8\u001b[0m, in \u001b[0;36mget_creators\u001b[0;34m(record)\u001b[0m\n\u001b[1;32m      6\u001b[0m     \u001b[38;5;28;01mreturn\u001b[39;00m [name]\n\u001b[1;32m      7\u001b[0m \u001b[38;5;28;01mcase\u001b[39;00m {\u001b[38;5;124m'\u001b[39m\u001b[38;5;124mtype\u001b[39m\u001b[38;5;124m'\u001b[39m: \u001b[38;5;124m'\u001b[39m\u001b[38;5;124mbook\u001b[39m\u001b[38;5;124m'\u001b[39m}:  \u001b[38;5;66;03m# <3>\u001b[39;00m\n\u001b[0;32m----> 8\u001b[0m     \u001b[38;5;28;01mraise\u001b[39;00m \u001b[38;5;167;01mValueError\u001b[39;00m(\u001b[38;5;124mf\u001b[39m\u001b[38;5;124m\"\u001b[39m\u001b[38;5;124mInvalid \u001b[39m\u001b[38;5;124m'\u001b[39m\u001b[38;5;124mbook\u001b[39m\u001b[38;5;124m'\u001b[39m\u001b[38;5;124m record: \u001b[39m\u001b[38;5;132;01m{\u001b[39;00mrecord\u001b[38;5;132;01m!r}\u001b[39;00m\u001b[38;5;124m\"\u001b[39m)\n\u001b[1;32m      9\u001b[0m \u001b[38;5;28;01mcase\u001b[39;00m {\u001b[38;5;124m'\u001b[39m\u001b[38;5;124mtype\u001b[39m\u001b[38;5;124m'\u001b[39m: \u001b[38;5;124m'\u001b[39m\u001b[38;5;124mmovie\u001b[39m\u001b[38;5;124m'\u001b[39m, \u001b[38;5;124m'\u001b[39m\u001b[38;5;124mdirector\u001b[39m\u001b[38;5;124m'\u001b[39m: name}:  \u001b[38;5;66;03m# <4>\u001b[39;00m\n\u001b[1;32m     10\u001b[0m     \u001b[38;5;28;01mreturn\u001b[39;00m [name]\n",
      "\u001b[0;31mValueError\u001b[0m: Invalid 'book' record: {'type': 'book', 'pages': 770}"
     ]
    }
   ],
   "source": [
    "get_creators({'type': 'book', 'pages': 770})"
   ]
  },
  {
   "cell_type": "markdown",
   "metadata": {},
   "source": [
    "# Chapter 5: Data Class Builders\n",
    "> TBC\n",
    "\n",
    "# Chapter 7: Functions as First-Class Objects\n",
    "## Positional-Only Parameters\n",
    "\\> Python 3.8"
   ]
  },
  {
   "cell_type": "code",
   "execution_count": 10,
   "metadata": {},
   "outputs": [],
   "source": [
    "def divmod(a, b, /):\n",
    "    return (a // b, a % b)"
   ]
  },
  {
   "cell_type": "code",
   "execution_count": 11,
   "metadata": {},
   "outputs": [],
   "source": [
    "def tag(name, /, *content, class_=None, **attrs):\n",
    "    pass"
   ]
  },
  {
   "cell_type": "markdown",
   "metadata": {},
   "source": [
    "# Chapter 8: Type Hints in Functions\n",
    "> TBC\n",
    "\n",
    "# Chapter 9: Decorators and Closures\n",
    "## Decorators in the Standard Library\n",
    "### Memoization with  functools.cache"
   ]
  },
  {
   "cell_type": "code",
   "execution_count": 12,
   "metadata": {},
   "outputs": [],
   "source": [
    "import functools\n",
    "\n",
    "from clockdeco import clock"
   ]
  },
  {
   "cell_type": "code",
   "execution_count": 13,
   "metadata": {},
   "outputs": [],
   "source": [
    "@functools.cache  # > Python 3.9\n",
    "@clock  # stack decorators\n",
    "def fibonacci(n):\n",
    "    if n < 2:\n",
    "        return n\n",
    "    return fibonacci(n - 2) + fibonacci(n - 1)"
   ]
  },
  {
   "cell_type": "code",
   "execution_count": 14,
   "metadata": {},
   "outputs": [
    {
     "name": "stdout",
     "output_type": "stream",
     "text": [
      "[0.00000127s] fibonacci(0) -> 0\n",
      "[0.00000140s] fibonacci(1) -> 1\n",
      "[0.00051791s] fibonacci(2) -> 1\n",
      "[0.00000227s] fibonacci(3) -> 2\n",
      "[0.00056855s] fibonacci(4) -> 3\n",
      "[0.00000125s] fibonacci(5) -> 5\n",
      "[0.00060654s] fibonacci(6) -> 8\n"
     ]
    },
    {
     "data": {
      "text/plain": [
       "8"
      ]
     },
     "execution_count": 14,
     "metadata": {},
     "output_type": "execute_result"
    }
   ],
   "source": [
    "fibonacci(6)"
   ]
  },
  {
   "cell_type": "code",
   "execution_count": 15,
   "metadata": {},
   "outputs": [
    {
     "name": "stdout",
     "output_type": "stream",
     "text": [
      "[0.00000291s] fibonacci(7) -> 13\n"
     ]
    },
    {
     "data": {
      "text/plain": [
       "13"
      ]
     },
     "execution_count": 15,
     "metadata": {},
     "output_type": "execute_result"
    }
   ],
   "source": [
    "fibonacci(7)"
   ]
  },
  {
   "cell_type": "markdown",
   "metadata": {},
   "source": [
    "# Chapter 13: Interfaces, Protocols, and ABCs\n",
    "\n",
    ">TBC\n",
    " * Typing Map\n",
    " * Two Kinds of Protocols\n",
    " * Static Protocols\n",
    " \n",
    "# Chapter 14: Inheritance: For  Better or for Worse\n",
    "> TBC\n",
    "* Multiple Inheritance and Method Resolution Order\n",
    "* Mixin Classes\n",
    "* Multiple Inheritance in the Real World\n",
    "\n",
    "# Chapter 15: More About  Type Hints\n",
    "> TBC\n",
    "\n",
    "# Chapter 16: Operator Overloading"
   ]
  },
  {
   "cell_type": "code",
   "execution_count": 16,
   "metadata": {},
   "outputs": [],
   "source": [
    "from array import array\n",
    "import reprlib\n",
    "import math\n",
    "import functools\n",
    "import operator\n",
    "import itertools\n",
    "from collections import abc"
   ]
  },
  {
   "cell_type": "code",
   "execution_count": 17,
   "metadata": {},
   "outputs": [],
   "source": [
    "class Vector:\n",
    "    typecode = 'd'\n",
    "\n",
    "    def __init__(self, components):\n",
    "        self._components = array(self.typecode, components)\n",
    "\n",
    "    def __iter__(self):\n",
    "        return iter(self._components)\n",
    "\n",
    "    def __repr__(self):\n",
    "        components = reprlib.repr(self._components)\n",
    "        components = components[components.find('['):-1]\n",
    "        return f'Vector({components})'\n",
    "\n",
    "    def __str__(self):\n",
    "        return str(tuple(self))\n",
    "\n",
    "    def __bytes__(self):\n",
    "        return (bytes([ord(self.typecode)]) +\n",
    "                bytes(self._components))\n",
    "\n",
    "    def __eq__(self, other):\n",
    "        return (len(self) == len(other) and\n",
    "                all(a == b for a, b in zip(self, other)))\n",
    "\n",
    "    def __hash__(self):\n",
    "        hashes = (hash(x) for x in self)\n",
    "        return functools.reduce(operator.xor, hashes, 0)\n",
    "\n",
    "    def __abs__(self):\n",
    "        return math.hypot(*self)\n",
    "\n",
    "    def __neg__(self):\n",
    "        return Vector(-x for x in self)\n",
    "\n",
    "    def __pos__(self):\n",
    "        return Vector(self)\n",
    "\n",
    "    def __bool__(self):\n",
    "        return bool(abs(self))\n",
    "\n",
    "    def __len__(self):\n",
    "        return len(self._components)\n",
    "\n",
    "    def __getitem__(self, key):\n",
    "        if isinstance(key, slice):\n",
    "            cls = type(self)\n",
    "            return cls(self._components[key])\n",
    "        index = operator.index(key)\n",
    "        return self._components[index]\n",
    "\n",
    "    __match_args__ = ('x', 'y', 'z', 't')\n",
    "\n",
    "    def __getattr__(self, name):\n",
    "        cls = type(self)\n",
    "        try:\n",
    "            pos = cls.__match_args__.index(name)\n",
    "        except ValueError:\n",
    "            pos = -1\n",
    "        if 0 <= pos < len(self._components):\n",
    "            return self._components[pos]\n",
    "        msg = f'{cls.__name__!r} object has no attribute {name!r}'\n",
    "        raise AttributeError(msg)\n",
    "\n",
    "    def angle(self, n):\n",
    "        r = math.hypot(*self[n:])\n",
    "        a = math.atan2(r, self[n-1])\n",
    "        if (n == len(self) - 1) and (self[-1] < 0):\n",
    "            return math.pi * 2 - a\n",
    "        else:\n",
    "            return a\n",
    "\n",
    "    def angles(self):\n",
    "        return (self.angle(n) for n in range(1, len(self)))\n",
    "\n",
    "    def __format__(self, fmt_spec=''):\n",
    "        if fmt_spec.endswith('h'):  # hyperspherical coordinates\n",
    "            fmt_spec = fmt_spec[:-1]\n",
    "            coords = itertools.chain([abs(self)],\n",
    "                                     self.angles())\n",
    "            outer_fmt = '<{}>'\n",
    "        else:\n",
    "            coords = self\n",
    "            outer_fmt = '({})'\n",
    "        components = (format(c, fmt_spec) for c in coords)\n",
    "        return outer_fmt.format(', '.join(components))\n",
    "\n",
    "    @classmethod\n",
    "    def frombytes(cls, octets):\n",
    "        typecode = chr(octets[0])\n",
    "        memv = memoryview(octets[1:]).cast(typecode)\n",
    "        return cls(memv)\n",
    "\n",
    "    def __add__(self, other):\n",
    "        try:\n",
    "            pairs = itertools.zip_longest(self, other, fillvalue=0.0)\n",
    "            return Vector(a + b for a, b in pairs)\n",
    "        except TypeError:\n",
    "            return NotImplemented\n",
    "\n",
    "    def __radd__(self, other):\n",
    "        return self + other\n",
    "\n",
    "    def __mul__(self, scalar):\n",
    "        try:\n",
    "            factor = float(scalar)\n",
    "        except TypeError: # if scalar cannot be converted to float\n",
    "            return NotImplemented\n",
    "        return Vector(n * factor for n in self) # try __rmul__\n",
    "\n",
    "    def __rmul__(self, scalar):\n",
    "        return self * scalar   # delegating to __mul__\n",
    "\n",
    "    def __matmul__(self, other):\n",
    "        if (isinstance(other, abc.Sized) and\n",
    "            isinstance(other, abc.Iterable)):\n",
    "            if len(self) == len(other):\n",
    "                return sum(a * b for a, b in zip(self, other))\n",
    "            else:\n",
    "                raise ValueError('@ requires vectors of equal length.')\n",
    "        else:\n",
    "            return NotImplemented\n",
    "\n",
    "    def __rmatmul__(self, other):\n",
    "        return self @ other"
   ]
  },
  {
   "cell_type": "code",
   "execution_count": 18,
   "metadata": {},
   "outputs": [
    {
     "data": {
      "text/plain": [
       "Vector([14.0, 28.0, 42.0])"
      ]
     },
     "execution_count": 18,
     "metadata": {},
     "output_type": "execute_result"
    }
   ],
   "source": [
    "v1 = Vector([1, 2, 3])\n",
    "14 * v1"
   ]
  },
  {
   "cell_type": "code",
   "execution_count": 19,
   "metadata": {},
   "outputs": [
    {
     "data": {
      "text/plain": [
       "Vector([10.0, 20.0, 30.0])"
      ]
     },
     "execution_count": 19,
     "metadata": {},
     "output_type": "execute_result"
    }
   ],
   "source": [
    "v1 * 10"
   ]
  },
  {
   "cell_type": "code",
   "execution_count": 20,
   "metadata": {},
   "outputs": [
    {
     "data": {
      "text/plain": [
       "Vector([1.0, 2.0, 3.0])"
      ]
     },
     "execution_count": 20,
     "metadata": {},
     "output_type": "execute_result"
    }
   ],
   "source": [
    "v1 * True"
   ]
  },
  {
   "cell_type": "code",
   "execution_count": 21,
   "metadata": {},
   "outputs": [],
   "source": [
    "from fractions import Fraction"
   ]
  },
  {
   "cell_type": "code",
   "execution_count": 22,
   "metadata": {},
   "outputs": [
    {
     "data": {
      "text/plain": [
       "Vector([0.3333333333333333, 0.6666666666666666, 1.0])"
      ]
     },
     "execution_count": 22,
     "metadata": {},
     "output_type": "execute_result"
    }
   ],
   "source": [
    "v1 *  Fraction(1, 3)"
   ]
  },
  {
   "cell_type": "markdown",
   "metadata": {},
   "source": [
    "## Using `@` as an Infix Operator\n",
    "dot product or matrix multiplication."
   ]
  },
  {
   "cell_type": "code",
   "execution_count": 23,
   "metadata": {},
   "outputs": [
    {
     "data": {
      "text/plain": [
       "True"
      ]
     },
     "execution_count": 23,
     "metadata": {},
     "output_type": "execute_result"
    }
   ],
   "source": [
    "va = Vector([1, 2, 3])\n",
    "vz = Vector([5, 6, 7])\n",
    "va @ vz == 38.0  # 1*5 + 2*6 + 3*7"
   ]
  },
  {
   "cell_type": "code",
   "execution_count": 24,
   "metadata": {},
   "outputs": [
    {
     "data": {
      "text/plain": [
       "380.0"
      ]
     },
     "execution_count": 24,
     "metadata": {},
     "output_type": "execute_result"
    }
   ],
   "source": [
    "[10, 20, 30] @ vz"
   ]
  },
  {
   "cell_type": "code",
   "execution_count": 25,
   "metadata": {},
   "outputs": [
    {
     "ename": "TypeError",
     "evalue": "unsupported operand type(s) for @: 'Vector' and 'int'",
     "output_type": "error",
     "traceback": [
      "\u001b[0;31m---------------------------------------------------------------------------\u001b[0m",
      "\u001b[0;31mTypeError\u001b[0m                                 Traceback (most recent call last)",
      "Cell \u001b[0;32mIn [25], line 1\u001b[0m\n\u001b[0;32m----> 1\u001b[0m va \u001b[38;5;241m@\u001b[39m \u001b[38;5;241m3\u001b[39m\n",
      "\u001b[0;31mTypeError\u001b[0m: unsupported operand type(s) for @: 'Vector' and 'int'"
     ]
    }
   ],
   "source": [
    "va @ 3"
   ]
  },
  {
   "cell_type": "markdown",
   "metadata": {},
   "source": [
    "# Chapter 18:  `with`, `match` and `else` Blocks\n",
    "> TBC\n",
    "* Pattern Matching in lis.py: a Cases Study\n",
    "*  The contextlib  Utilities\n",
    "\n",
    "# Chapter 19: Concurrency Models in Python\n",
    "> TBC\n",
    "\n",
    "# Chapter 20: Concurrency Executors\n",
    "> TBC"
   ]
  }
 ],
 "metadata": {
  "kernelspec": {
   "display_name": "Python 3 (ipykernel)",
   "language": "python",
   "name": "python3"
  },
  "language_info": {
   "codemirror_mode": {
    "name": "ipython",
    "version": 3
   },
   "file_extension": ".py",
   "mimetype": "text/x-python",
   "name": "python",
   "nbconvert_exporter": "python",
   "pygments_lexer": "ipython3",
   "version": "3.10.6"
  }
 },
 "nbformat": 4,
 "nbformat_minor": 2
}
