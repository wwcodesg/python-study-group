{
 "cells": [
  {
   "cell_type": "markdown",
   "id": "36c74689",
   "metadata": {},
   "source": [
    "###### References: \n",
    "- Fluent Python, 2nd Edition, by Luciano Ramalho.\n",
    "\n",
    "# Chapter 13: Interfaces, Protocols, and ABCs\n",
    "\n",
    "<img src=\"Typing.png\" width=\"75%\">\n",
    "\n",
    "## Two Kinds of Protocols\n",
    "\n",
    "Compares the two forms of structural typing with protocols."
   ]
  },
  {
   "cell_type": "code",
   "execution_count": 1,
   "id": "068faf40",
   "metadata": {},
   "outputs": [],
   "source": [
    "class Vowels:\n",
    "    def __getitem__(self, i):\n",
    "        return 'AEIOU'[i]"
   ]
  },
  {
   "cell_type": "code",
   "execution_count": 2,
   "id": "a9e9a45a",
   "metadata": {},
   "outputs": [
    {
     "data": {
      "text/plain": [
       "'A'"
      ]
     },
     "execution_count": 2,
     "metadata": {},
     "output_type": "execute_result"
    }
   ],
   "source": [
    "v = Vowels()\n",
    "v[0]"
   ]
  },
  {
   "cell_type": "code",
   "execution_count": 3,
   "id": "0a7961b6",
   "metadata": {},
   "outputs": [
    {
     "data": {
      "text/plain": [
       "'U'"
      ]
     },
     "execution_count": 3,
     "metadata": {},
     "output_type": "execute_result"
    }
   ],
   "source": [
    "v[-1]"
   ]
  },
  {
   "cell_type": "code",
   "execution_count": 4,
   "id": "c2935239",
   "metadata": {},
   "outputs": [
    {
     "name": "stdout",
     "output_type": "stream",
     "text": [
      "A\n",
      "E\n",
      "I\n",
      "O\n",
      "U\n"
     ]
    }
   ],
   "source": [
    "for c in v: print(c)"
   ]
  },
  {
   "cell_type": "code",
   "execution_count": 5,
   "id": "71362a0c",
   "metadata": {},
   "outputs": [
    {
     "data": {
      "text/plain": [
       "True"
      ]
     },
     "execution_count": 5,
     "metadata": {},
     "output_type": "execute_result"
    }
   ],
   "source": [
    "'E' in v"
   ]
  },
  {
   "cell_type": "code",
   "execution_count": 6,
   "id": "3ab0ed8e",
   "metadata": {},
   "outputs": [
    {
     "data": {
      "text/plain": [
       "False"
      ]
     },
     "execution_count": 6,
     "metadata": {},
     "output_type": "execute_result"
    }
   ],
   "source": [
    "'Z' in v"
   ]
  },
  {
   "cell_type": "markdown",
   "id": "00ba7f4f",
   "metadata": {},
   "source": [
    "### Dynamic protocol\n",
    "Informal protocols in Python.\n",
    "### Static protocol\n",
    "PEP 544 - Protocols: Structural subtyping\n",
    "\n",
    "An object may implement only part of a dynamic protocol; but to fufill a static protocol, the object must provide every method declared in the protocol class.\n",
    "\n",
    "Static protocols can be verified by static type checkers, but dynamic protocols can't."
   ]
  },
  {
   "cell_type": "markdown",
   "id": "cca7e9fb",
   "metadata": {},
   "source": [
    "## Programming Ducks\n",
    "### Python Digs Sequences\n",
    "<img src=\"Sequence.png\" width=\"75%\">\n"
   ]
  },
  {
   "cell_type": "code",
   "execution_count": 7,
   "id": "9c9ef103",
   "metadata": {},
   "outputs": [],
   "source": [
    "import collections"
   ]
  },
  {
   "cell_type": "code",
   "execution_count": 8,
   "id": "1d77b90b",
   "metadata": {},
   "outputs": [],
   "source": [
    "Card = collections.namedtuple('Card', ['rank', 'suit'])"
   ]
  },
  {
   "cell_type": "code",
   "execution_count": 9,
   "id": "fb064dc3",
   "metadata": {},
   "outputs": [],
   "source": [
    "class FrenchDeck:\n",
    "    ranks = [str(n) for n in range(2, 11)] + list('JQKA')\n",
    "    suits = 'spades diamonds clubs hearts'.split()\n",
    "    \n",
    "    def __init__(self):\n",
    "        self._cards = [Card(rank, suit) for suit in self.suits\n",
    "                                        for rank in self.ranks]\n",
    "        \n",
    "    def __len__(self):\n",
    "        return len(self._cards)\n",
    "    \n",
    "    def __getitem__(self, position):\n",
    "        return self._cards[position]"
   ]
  },
  {
   "cell_type": "markdown",
   "id": "248e15cd",
   "metadata": {},
   "source": [
    "### Monkey Patching: Implementing a Protocol at Runtime"
   ]
  },
  {
   "cell_type": "code",
   "execution_count": 10,
   "id": "036a4527",
   "metadata": {},
   "outputs": [],
   "source": [
    "from random import shuffle"
   ]
  },
  {
   "cell_type": "code",
   "execution_count": 11,
   "id": "4ce865e0",
   "metadata": {},
   "outputs": [
    {
     "data": {
      "text/plain": [
       "[9, 2, 0, 3, 6, 1, 5, 8, 4, 7]"
      ]
     },
     "execution_count": 11,
     "metadata": {},
     "output_type": "execute_result"
    }
   ],
   "source": [
    "l = list(range(10))\n",
    "shuffle(l)\n",
    "l"
   ]
  },
  {
   "cell_type": "code",
   "execution_count": 12,
   "id": "b307b3a1",
   "metadata": {},
   "outputs": [
    {
     "ename": "TypeError",
     "evalue": "'FrenchDeck' object does not support item assignment",
     "output_type": "error",
     "traceback": [
      "\u001b[0;31m---------------------------------------------------------------------------\u001b[0m",
      "\u001b[0;31mTypeError\u001b[0m                                 Traceback (most recent call last)",
      "Cell \u001b[0;32mIn [12], line 2\u001b[0m\n\u001b[1;32m      1\u001b[0m deck \u001b[38;5;241m=\u001b[39m FrenchDeck()\n\u001b[0;32m----> 2\u001b[0m shuffle(deck)\n",
      "File \u001b[0;32m/usr/local/Cellar/python@3.10/3.10.6_2/Frameworks/Python.framework/Versions/3.10/lib/python3.10/random.py:394\u001b[0m, in \u001b[0;36mRandom.shuffle\u001b[0;34m(self, x, random)\u001b[0m\n\u001b[1;32m    391\u001b[0m     \u001b[38;5;28;01mfor\u001b[39;00m i \u001b[38;5;129;01min\u001b[39;00m \u001b[38;5;28mreversed\u001b[39m(\u001b[38;5;28mrange\u001b[39m(\u001b[38;5;241m1\u001b[39m, \u001b[38;5;28mlen\u001b[39m(x))):\n\u001b[1;32m    392\u001b[0m         \u001b[38;5;66;03m# pick an element in x[:i+1] with which to exchange x[i]\u001b[39;00m\n\u001b[1;32m    393\u001b[0m         j \u001b[38;5;241m=\u001b[39m randbelow(i \u001b[38;5;241m+\u001b[39m \u001b[38;5;241m1\u001b[39m)\n\u001b[0;32m--> 394\u001b[0m         x[i], x[j] \u001b[38;5;241m=\u001b[39m x[j], x[i]\n\u001b[1;32m    395\u001b[0m \u001b[38;5;28;01melse\u001b[39;00m:\n\u001b[1;32m    396\u001b[0m     _warn(\u001b[38;5;124m'\u001b[39m\u001b[38;5;124mThe *random* parameter to shuffle() has been deprecated\u001b[39m\u001b[38;5;130;01m\\n\u001b[39;00m\u001b[38;5;124m'\u001b[39m\n\u001b[1;32m    397\u001b[0m           \u001b[38;5;124m'\u001b[39m\u001b[38;5;124msince Python 3.9 and will be removed in a subsequent \u001b[39m\u001b[38;5;124m'\u001b[39m\n\u001b[1;32m    398\u001b[0m           \u001b[38;5;124m'\u001b[39m\u001b[38;5;124mversion.\u001b[39m\u001b[38;5;124m'\u001b[39m,\n\u001b[1;32m    399\u001b[0m           \u001b[38;5;167;01mDeprecationWarning\u001b[39;00m, \u001b[38;5;241m2\u001b[39m)\n",
      "\u001b[0;31mTypeError\u001b[0m: 'FrenchDeck' object does not support item assignment"
     ]
    }
   ],
   "source": [
    "deck = FrenchDeck()\n",
    "shuffle(deck)"
   ]
  },
  {
   "cell_type": "code",
   "execution_count": 13,
   "id": "6c7058e1",
   "metadata": {},
   "outputs": [],
   "source": [
    "def set_card(deck, position, card):\n",
    "    deck._cards[position] = card"
   ]
  },
  {
   "cell_type": "code",
   "execution_count": 14,
   "id": "e1edd135",
   "metadata": {},
   "outputs": [
    {
     "data": {
      "text/plain": [
       "[Card(rank='6', suit='clubs'),\n",
       " Card(rank='3', suit='diamonds'),\n",
       " Card(rank='J', suit='clubs'),\n",
       " Card(rank='9', suit='clubs'),\n",
       " Card(rank='5', suit='clubs')]"
      ]
     },
     "execution_count": 14,
     "metadata": {},
     "output_type": "execute_result"
    }
   ],
   "source": [
    "FrenchDeck.__setitem__ = set_card\n",
    "\n",
    "shuffle(deck)\n",
    "deck[:5]"
   ]
  },
  {
   "cell_type": "markdown",
   "id": "571ddee9",
   "metadata": {},
   "source": [
    "### Defensive Programming and \"Fail Fast\"\n",
    "    def __init__(self, iterable):\n",
    "        self._balls = list(iterable)\n",
    "        \n",
    "`stflib/3/collections/__init__.pyi` :\n",
    "\n",
    "    def namedtuple(\n",
    "        typename: str,\n",
    "        field_names: Union[str, Iterable[str]],\n",
    "        *,\n",
    "        # rest ommited\n",
    "    \n",
    "Duck typing to handle a string or an iterable of strings\n",
    "\n",
    "    try:\n",
    "        field_names = field_names.replace(',', ' ').split()\n",
    "    except AttributeError:\n",
    "        pass\n",
    "    field_names = tuple(field_names)\n",
    "    if not all(s.isidentifier() for s in field_names):\n",
    "        raise ValueError('field_names must all be valid identifiers')\n"
   ]
  },
  {
   "cell_type": "markdown",
   "id": "dc2eeb82",
   "metadata": {},
   "source": [
    "## Goose Typing\n",
    "Subclassing from ABC's to make it explicit that you are implementing a previously defined interface.\n",
    "\n",
    "Runnign type checking using ABC's instead of concrete classes as the second argument for `isinstance` and `issubclass`.\n",
    "\n",
    "### Subclassing an ABC\n"
   ]
  },
  {
   "cell_type": "code",
   "execution_count": 15,
   "id": "1e146089",
   "metadata": {},
   "outputs": [],
   "source": [
    "from collections import namedtuple, abc"
   ]
  },
  {
   "cell_type": "code",
   "execution_count": 16,
   "id": "89393466",
   "metadata": {},
   "outputs": [],
   "source": [
    "Card = namedtuple('Card', ['rank', 'suit'])"
   ]
  },
  {
   "cell_type": "code",
   "execution_count": 17,
   "id": "f9f6238e",
   "metadata": {},
   "outputs": [],
   "source": [
    "class FrenchDeck2(abc.MutableSequence):\n",
    "    ranks = [str(n) for n in range(2, 11)] + list('JQKA')\n",
    "    suits = 'spades diamonds clubs hearts'.split()\n",
    "\n",
    "    def __init__(self):\n",
    "        self._cards = [Card(rank, suit) for suit in self.suits\n",
    "                                        for rank in self.ranks]\n",
    "\n",
    "    def __len__(self):\n",
    "        return len(self._cards)\n",
    "\n",
    "    def __getitem__(self, position):\n",
    "        return self._cards[position]\n",
    "\n",
    "    def __setitem__(self, position, value):  # <1>\n",
    "        self._cards[position] = value\n",
    "\n",
    "    def __delitem__(self, position):  # <2>\n",
    "        del self._cards[position]\n",
    "\n",
    "    def insert(self, position, value):  # <3>\n",
    "        self._cards.insert(position, value)"
   ]
  },
  {
   "cell_type": "markdown",
   "id": "feadf8a5",
   "metadata": {},
   "source": [
    "<img src='MutableSequence.png' width=\"75%\">"
   ]
  },
  {
   "cell_type": "markdown",
   "id": "8b0c8581",
   "metadata": {},
   "source": [
    "### ABC in the Standard Library\n",
    "<img src='ABC.png' width=\"75%\">\n",
    "\n",
    "### Defining and Using the ABC\n",
    "<img src='Tombola.png' width=\"75%\">"
   ]
  },
  {
   "cell_type": "code",
   "execution_count": 18,
   "id": "22621bb9",
   "metadata": {},
   "outputs": [],
   "source": [
    "import abc"
   ]
  },
  {
   "cell_type": "code",
   "execution_count": 19,
   "id": "271da02e",
   "metadata": {},
   "outputs": [],
   "source": [
    "class Tombola(abc.ABC):  # <1>\n",
    "\n",
    "    @abc.abstractmethod\n",
    "    def load(self, iterable):  # <2>\n",
    "        \"\"\"Add items from an iterable.\"\"\"\n",
    "\n",
    "    @abc.abstractmethod\n",
    "    def pick(self):  # <3>\n",
    "        \"\"\"Remove item at random, returning it.\n",
    "        This method should raise `LookupError` when the instance is empty.\n",
    "        \"\"\"\n",
    "\n",
    "    def loaded(self):  # <4>\n",
    "        \"\"\"Return `True` if there's at least 1 item, `False` otherwise.\"\"\"\n",
    "        return bool(self.inspect())  # <5>\n",
    "\n",
    "    def inspect(self):\n",
    "        \"\"\"Return a sorted tuple with the items currently inside.\"\"\"\n",
    "        items = []\n",
    "        while True:  # <6>\n",
    "            try:\n",
    "                items.append(self.pick())\n",
    "            except LookupError:\n",
    "                break\n",
    "        self.load(items)  # <7>\n",
    "        return tuple(items)"
   ]
  },
  {
   "cell_type": "code",
   "execution_count": 20,
   "id": "c31f466c",
   "metadata": {},
   "outputs": [],
   "source": [
    "class Fake(Tombola):\n",
    "    def pick(self):\n",
    "        return 13"
   ]
  },
  {
   "cell_type": "code",
   "execution_count": 21,
   "id": "b3e84f14",
   "metadata": {},
   "outputs": [
    {
     "data": {
      "text/plain": [
       "__main__.Fake"
      ]
     },
     "execution_count": 21,
     "metadata": {},
     "output_type": "execute_result"
    }
   ],
   "source": [
    "Fake"
   ]
  },
  {
   "cell_type": "code",
   "execution_count": 22,
   "id": "f6733f1d",
   "metadata": {},
   "outputs": [
    {
     "ename": "TypeError",
     "evalue": "Can't instantiate abstract class Fake with abstract method load",
     "output_type": "error",
     "traceback": [
      "\u001b[0;31m---------------------------------------------------------------------------\u001b[0m",
      "\u001b[0;31mTypeError\u001b[0m                                 Traceback (most recent call last)",
      "Cell \u001b[0;32mIn [22], line 1\u001b[0m\n\u001b[0;32m----> 1\u001b[0m f \u001b[38;5;241m=\u001b[39m Fake()\n",
      "\u001b[0;31mTypeError\u001b[0m: Can't instantiate abstract class Fake with abstract method load"
     ]
    }
   ],
   "source": [
    "f = Fake()"
   ]
  },
  {
   "cell_type": "markdown",
   "id": "a0fac6d2",
   "metadata": {},
   "source": [
    "### ABC Syntax Details\n",
    "    class MyABC(abc.ABC):\n",
    "        @classmethod\n",
    "        @abc.abstractmethod\n",
    "        def an_abstract_classmethod(cls, ...):\n",
    "            pass\n",
    "\n",
    "### Subclassing an ABC"
   ]
  },
  {
   "cell_type": "code",
   "execution_count": 23,
   "id": "e1920ec1",
   "metadata": {},
   "outputs": [],
   "source": [
    "class BingoCage(Tombola):  # <1>\n",
    "\n",
    "    def __init__(self, items):\n",
    "        self._randomizer = random.SystemRandom()  # <2>\n",
    "        self._items = []\n",
    "        self.load(items)  # <3>\n",
    "\n",
    "    def load(self, items):\n",
    "        self._items.extend(items)\n",
    "        self._randomizer.shuffle(self._items)  # <4>\n",
    "\n",
    "    def pick(self):  # <5>\n",
    "        try:\n",
    "            return self._items.pop()\n",
    "        except IndexError:\n",
    "            raise LookupError('pick from empty BingoCage')\n",
    "\n",
    "    def __call__(self):  # <6>\n",
    "        self.pick()"
   ]
  },
  {
   "cell_type": "code",
   "execution_count": 24,
   "id": "d33adda3",
   "metadata": {},
   "outputs": [],
   "source": [
    "class LottoBlower(Tombola):\n",
    "\n",
    "    def __init__(self, iterable):\n",
    "        self._balls = list(iterable)  # <1>\n",
    "\n",
    "    def load(self, iterable):\n",
    "        self._balls.extend(iterable)\n",
    "\n",
    "    def pick(self):\n",
    "        try:\n",
    "            position = random.randrange(len(self._balls))  # <2>\n",
    "        except ValueError:\n",
    "            raise LookupError('pick from empty LottoBlower')\n",
    "        return self._balls.pop(position)  # <3>\n",
    "\n",
    "    def loaded(self):  # <4>\n",
    "        return bool(self._balls)\n",
    "\n",
    "    def inspect(self):  # <5>\n",
    "        return tuple(self._balls)"
   ]
  },
  {
   "cell_type": "markdown",
   "id": "d25bcc2d",
   "metadata": {},
   "source": [
    "### A Virtual Sublass of an ABC\n",
    "<img src=\"VirtualABC.png\" width=\"50%\">"
   ]
  },
  {
   "cell_type": "code",
   "execution_count": 25,
   "id": "9e53145e",
   "metadata": {},
   "outputs": [],
   "source": [
    "from random import randrange"
   ]
  },
  {
   "cell_type": "code",
   "execution_count": 26,
   "id": "105654e5",
   "metadata": {},
   "outputs": [],
   "source": [
    "@Tombola.register  # <1>\n",
    "class TomboList(list):  # <2>\n",
    "\n",
    "    def pick(self):\n",
    "        if self:  # <3>\n",
    "            position = randrange(len(self))\n",
    "            return self.pop(position)  # <4>\n",
    "        else:\n",
    "            raise LookupError('pop from empty TomboList')\n",
    "\n",
    "    load = list.extend  # <5>\n",
    "\n",
    "    def loaded(self):\n",
    "        return bool(self)  # <6>\n",
    "\n",
    "    def inspect(self):\n",
    "        return tuple(self)\n"
   ]
  },
  {
   "cell_type": "code",
   "execution_count": 27,
   "id": "c6ed822d",
   "metadata": {},
   "outputs": [
    {
     "data": {
      "text/plain": [
       "True"
      ]
     },
     "execution_count": 27,
     "metadata": {},
     "output_type": "execute_result"
    }
   ],
   "source": [
    "issubclass(TomboList, Tombola)"
   ]
  },
  {
   "cell_type": "code",
   "execution_count": 28,
   "id": "61b41932",
   "metadata": {},
   "outputs": [
    {
     "data": {
      "text/plain": [
       "True"
      ]
     },
     "execution_count": 28,
     "metadata": {},
     "output_type": "execute_result"
    }
   ],
   "source": [
    "t = TomboList(range(100))\n",
    "isinstance(t, Tombola)"
   ]
  },
  {
   "cell_type": "code",
   "execution_count": 29,
   "id": "2dff0556",
   "metadata": {},
   "outputs": [
    {
     "data": {
      "text/plain": [
       "(__main__.TomboList, list, object)"
      ]
     },
     "execution_count": 29,
     "metadata": {},
     "output_type": "execute_result"
    }
   ],
   "source": [
    "TomboList.__mro__"
   ]
  },
  {
   "cell_type": "code",
   "execution_count": 30,
   "id": "b24e5f61",
   "metadata": {},
   "outputs": [
    {
     "data": {
      "text/plain": [
       "(__main__.BingoCage, __main__.Tombola, abc.ABC, object)"
      ]
     },
     "execution_count": 30,
     "metadata": {},
     "output_type": "execute_result"
    }
   ],
   "source": [
    "BingoCage.__mro__"
   ]
  },
  {
   "cell_type": "markdown",
   "id": "75483f03",
   "metadata": {},
   "source": [
    "### Usage of register in Practice\n",
    "\n",
    "    Sequence.register(tuple)\n",
    "    Sequence.register(str)\n",
    "    Sequence.register(range)\n",
    "    Sequence.register(memoryview)\n",
    "\n",
    "### Structural Typing with ABCs"
   ]
  },
  {
   "cell_type": "code",
   "execution_count": 31,
   "id": "fe97a175",
   "metadata": {},
   "outputs": [],
   "source": [
    "class Struggle:\n",
    "    def __len__(self): return 23"
   ]
  },
  {
   "cell_type": "code",
   "execution_count": 32,
   "id": "2df00058",
   "metadata": {},
   "outputs": [],
   "source": [
    "from collections import abc"
   ]
  },
  {
   "cell_type": "code",
   "execution_count": 33,
   "id": "797b4da7",
   "metadata": {},
   "outputs": [
    {
     "data": {
      "text/plain": [
       "True"
      ]
     },
     "execution_count": 33,
     "metadata": {},
     "output_type": "execute_result"
    }
   ],
   "source": [
    "isinstance(Struggle(), abc.Sized)"
   ]
  },
  {
   "cell_type": "code",
   "execution_count": 34,
   "id": "f2f6c6a1",
   "metadata": {},
   "outputs": [
    {
     "data": {
      "text/plain": [
       "True"
      ]
     },
     "execution_count": 34,
     "metadata": {},
     "output_type": "execute_result"
    }
   ],
   "source": [
    "issubclass(Struggle, abc.Sized)"
   ]
  },
  {
   "cell_type": "markdown",
   "id": "072b9f8b",
   "metadata": {},
   "source": [
    "from `Lib/_collections_abc.py`\n",
    "\n",
    "    class Sized(metaclass=ABCMeta):\n",
    "        __slots__=()\n",
    "\n",
    "        @abstractmethod\n",
    "        def __len__(self):\n",
    "            return 0\n",
    "\n",
    "        @classmethod\n",
    "        def __subclasshook__(cls, C):\n",
    "            if cls is Sized:\n",
    "                if any(\"__len__\" in B.__dict__ for B in C.__mro__):\n",
    "                    return True\n",
    "            return NotImplemented"
   ]
  },
  {
   "cell_type": "markdown",
   "id": "62546641",
   "metadata": {},
   "source": [
    "## Static Protocols\n",
    "### The Typed double Function"
   ]
  },
  {
   "cell_type": "code",
   "execution_count": 35,
   "id": "58684f34",
   "metadata": {},
   "outputs": [],
   "source": [
    "def double(x):\n",
    "    return x * 2"
   ]
  },
  {
   "cell_type": "code",
   "execution_count": 36,
   "id": "eb9a637b",
   "metadata": {},
   "outputs": [
    {
     "data": {
      "text/plain": [
       "3.0"
      ]
     },
     "execution_count": 36,
     "metadata": {},
     "output_type": "execute_result"
    }
   ],
   "source": [
    "double(1.5)"
   ]
  },
  {
   "cell_type": "code",
   "execution_count": 37,
   "id": "2e35069a",
   "metadata": {},
   "outputs": [
    {
     "data": {
      "text/plain": [
       "'AA'"
      ]
     },
     "execution_count": 37,
     "metadata": {},
     "output_type": "execute_result"
    }
   ],
   "source": [
    "double('A')"
   ]
  },
  {
   "cell_type": "code",
   "execution_count": 38,
   "id": "844e161e",
   "metadata": {},
   "outputs": [
    {
     "data": {
      "text/plain": [
       "[10, 20, 30, 10, 20, 30]"
      ]
     },
     "execution_count": 38,
     "metadata": {},
     "output_type": "execute_result"
    }
   ],
   "source": [
    "double([10, 20, 30])"
   ]
  },
  {
   "cell_type": "code",
   "execution_count": 39,
   "id": "ac658c0c",
   "metadata": {},
   "outputs": [],
   "source": [
    "from fractions import Fraction"
   ]
  },
  {
   "cell_type": "code",
   "execution_count": 40,
   "id": "e17564d1",
   "metadata": {},
   "outputs": [
    {
     "data": {
      "text/plain": [
       "Fraction(4, 5)"
      ]
     },
     "execution_count": 40,
     "metadata": {},
     "output_type": "execute_result"
    }
   ],
   "source": [
    "double(Fraction(2,5))"
   ]
  },
  {
   "cell_type": "code",
   "execution_count": 41,
   "id": "78addbf4",
   "metadata": {},
   "outputs": [],
   "source": [
    "from typing import TypeVar, Protocol"
   ]
  },
  {
   "cell_type": "code",
   "execution_count": 42,
   "id": "4b4f20cb",
   "metadata": {},
   "outputs": [],
   "source": [
    "T = TypeVar('T')"
   ]
  },
  {
   "cell_type": "code",
   "execution_count": 43,
   "id": "f6d090d6",
   "metadata": {},
   "outputs": [],
   "source": [
    "class Repeatable(Protocol):\n",
    "    def __mul__(self: T, repeat_count: int) -> T: ... "
   ]
  },
  {
   "cell_type": "code",
   "execution_count": 44,
   "id": "7a91e994",
   "metadata": {},
   "outputs": [],
   "source": [
    "RT = TypeVar('RT', bound=Repeatable)"
   ]
  },
  {
   "cell_type": "code",
   "execution_count": 45,
   "id": "12f1219b",
   "metadata": {},
   "outputs": [],
   "source": [
    "def double(x: RT) -> RT:  # <4>\n",
    "    return x * 2"
   ]
  },
  {
   "cell_type": "markdown",
   "id": "994ba7ee",
   "metadata": {},
   "source": [
    "### Runtime Checkable Static Protocols\n",
    "\n",
    "    class typing.SupportsComplex\n",
    "\n",
    "An ABC with one abstract method, `__complex__`.\n",
    "\n",
    "    class typing.SupportsFloat\n",
    "    \n",
    "An ABC with one abstract method, `__float__`.\n",
    "\n",
    "\n",
    "    @runtime_checkable\n",
    "    class SupportsComplex(Protocol):\n",
    "        \"\"\"An ABC with one abstract method __complex__.\"\"\"\n",
    "        __slots__ = ()\n",
    "        \n",
    "        @abstractmethod\n",
    "        def __complex__(self) -> complex:\n",
    "            pass"
   ]
  },
  {
   "cell_type": "code",
   "execution_count": 46,
   "id": "25bec81c",
   "metadata": {},
   "outputs": [],
   "source": [
    "from typing import SupportsComplex\n",
    "import numpy as np"
   ]
  },
  {
   "cell_type": "code",
   "execution_count": 47,
   "id": "5f0bdbd2",
   "metadata": {},
   "outputs": [
    {
     "data": {
      "text/plain": [
       "False"
      ]
     },
     "execution_count": 47,
     "metadata": {},
     "output_type": "execute_result"
    }
   ],
   "source": [
    "c64 = np.complex64(3+4j)\n",
    "isinstance(c64, complex)"
   ]
  },
  {
   "cell_type": "code",
   "execution_count": 48,
   "id": "d1cc6500",
   "metadata": {},
   "outputs": [
    {
     "data": {
      "text/plain": [
       "True"
      ]
     },
     "execution_count": 48,
     "metadata": {},
     "output_type": "execute_result"
    }
   ],
   "source": [
    "isinstance(c64, SupportsComplex)"
   ]
  },
  {
   "cell_type": "code",
   "execution_count": 49,
   "id": "f21f6302",
   "metadata": {},
   "outputs": [
    {
     "data": {
      "text/plain": [
       "(3+4j)"
      ]
     },
     "execution_count": 49,
     "metadata": {},
     "output_type": "execute_result"
    }
   ],
   "source": [
    "c = complex(c64)\n",
    "c"
   ]
  },
  {
   "cell_type": "code",
   "execution_count": 50,
   "id": "2efe43bd",
   "metadata": {},
   "outputs": [
    {
     "data": {
      "text/plain": [
       "False"
      ]
     },
     "execution_count": 50,
     "metadata": {},
     "output_type": "execute_result"
    }
   ],
   "source": [
    "isinstance(c, SupportsComplex)"
   ]
  },
  {
   "cell_type": "code",
   "execution_count": 51,
   "id": "bf4c9dcc",
   "metadata": {},
   "outputs": [
    {
     "data": {
      "text/plain": [
       "(3+4j)"
      ]
     },
     "execution_count": 51,
     "metadata": {},
     "output_type": "execute_result"
    }
   ],
   "source": [
    "complex(c)"
   ]
  },
  {
   "cell_type": "code",
   "execution_count": 52,
   "id": "9aca6dcc",
   "metadata": {},
   "outputs": [
    {
     "data": {
      "text/plain": [
       "True"
      ]
     },
     "execution_count": 52,
     "metadata": {},
     "output_type": "execute_result"
    }
   ],
   "source": [
    "isinstance(c, (complex, SupportsComplex))"
   ]
  },
  {
   "cell_type": "code",
   "execution_count": 53,
   "id": "f68696c4",
   "metadata": {},
   "outputs": [],
   "source": [
    "import numbers"
   ]
  },
  {
   "cell_type": "code",
   "execution_count": 54,
   "id": "051252a5",
   "metadata": {},
   "outputs": [
    {
     "data": {
      "text/plain": [
       "True"
      ]
     },
     "execution_count": 54,
     "metadata": {},
     "output_type": "execute_result"
    }
   ],
   "source": [
    "isinstance(c, numbers.Complex)"
   ]
  },
  {
   "cell_type": "code",
   "execution_count": 55,
   "id": "a7a14889",
   "metadata": {},
   "outputs": [
    {
     "data": {
      "text/plain": [
       "True"
      ]
     },
     "execution_count": 55,
     "metadata": {},
     "output_type": "execute_result"
    }
   ],
   "source": [
    "isinstance(c64, numbers.Complex)"
   ]
  },
  {
   "cell_type": "markdown",
   "id": "952a8172",
   "metadata": {},
   "source": [
    "### Limitations of Runtime Protocol Checks"
   ]
  },
  {
   "cell_type": "code",
   "execution_count": 56,
   "id": "59bec528",
   "metadata": {},
   "outputs": [],
   "source": [
    "import sys"
   ]
  },
  {
   "cell_type": "code",
   "execution_count": 57,
   "id": "505c33cd",
   "metadata": {},
   "outputs": [
    {
     "data": {
      "text/plain": [
       "'3.10.6 (main, Aug 30 2022, 05:12:36) [Clang 13.1.6 (clang-1316.0.21.2.5)]'"
      ]
     },
     "execution_count": 57,
     "metadata": {},
     "output_type": "execute_result"
    }
   ],
   "source": [
    "sys.version"
   ]
  },
  {
   "cell_type": "code",
   "execution_count": 58,
   "id": "869bc921",
   "metadata": {},
   "outputs": [],
   "source": [
    "c = 3+4j"
   ]
  },
  {
   "cell_type": "code",
   "execution_count": 59,
   "id": "c463fd75",
   "metadata": {},
   "outputs": [
    {
     "ename": "AttributeError",
     "evalue": "'complex' object has no attribute '__float__'",
     "output_type": "error",
     "traceback": [
      "\u001b[0;31m---------------------------------------------------------------------------\u001b[0m",
      "\u001b[0;31mAttributeError\u001b[0m                            Traceback (most recent call last)",
      "Cell \u001b[0;32mIn [59], line 1\u001b[0m\n\u001b[0;32m----> 1\u001b[0m c\u001b[38;5;241m.\u001b[39m\u001b[38;5;21m__float__\u001b[39m()\n",
      "\u001b[0;31mAttributeError\u001b[0m: 'complex' object has no attribute '__float__'"
     ]
    }
   ],
   "source": [
    "c.__float__()"
   ]
  },
  {
   "cell_type": "code",
   "execution_count": 60,
   "id": "5c9cbe0a",
   "metadata": {},
   "outputs": [],
   "source": [
    "from typing import SupportsFloat"
   ]
  },
  {
   "cell_type": "code",
   "execution_count": 61,
   "id": "c0aa96ca",
   "metadata": {},
   "outputs": [
    {
     "data": {
      "text/plain": [
       "False"
      ]
     },
     "execution_count": 61,
     "metadata": {},
     "output_type": "execute_result"
    }
   ],
   "source": [
    "isinstance(c, SupportsFloat)"
   ]
  },
  {
   "cell_type": "code",
   "execution_count": 62,
   "id": "6eb6243d",
   "metadata": {},
   "outputs": [
    {
     "data": {
      "text/plain": [
       "False"
      ]
     },
     "execution_count": 62,
     "metadata": {},
     "output_type": "execute_result"
    }
   ],
   "source": [
    "issubclass(complex, SupportsFloat)"
   ]
  },
  {
   "cell_type": "markdown",
   "id": "f53e3e3f",
   "metadata": {},
   "source": [
    "### Supporting a Static Protocol"
   ]
  },
  {
   "cell_type": "code",
   "execution_count": 63,
   "id": "76117a1a",
   "metadata": {},
   "outputs": [],
   "source": [
    "from array import array\n",
    "import math"
   ]
  },
  {
   "cell_type": "code",
   "execution_count": 64,
   "id": "3529e895",
   "metadata": {},
   "outputs": [],
   "source": [
    "class Vector2d:\n",
    "    typecode = 'd'\n",
    "\n",
    "    def __init__(self, x, y):\n",
    "        self.__x = float(x)\n",
    "        self.__y = float(y)\n",
    "\n",
    "    @property\n",
    "    def x(self):\n",
    "        return self.__x\n",
    "\n",
    "    @property\n",
    "    def y(self):\n",
    "        return self.__y\n",
    "\n",
    "    def __iter__(self):\n",
    "        return (i for i in (self.x, self.y))\n",
    "\n",
    "    def __repr__(self):\n",
    "        class_name = type(self).__name__\n",
    "        return '{}({!r}, {!r})'.format(class_name, *self)\n",
    "\n",
    "    def __str__(self):\n",
    "        return str(tuple(self))\n",
    "\n",
    "    def __bytes__(self):\n",
    "        return (bytes([ord(self.typecode)]) +\n",
    "                bytes(array(self.typecode, self)))\n",
    "\n",
    "    def __eq__(self, other):\n",
    "        return tuple(self) == tuple(other)\n",
    "\n",
    "    def __hash__(self):\n",
    "        return hash(self.x) ^ hash(self.y)\n",
    "\n",
    "    def __abs__(self):\n",
    "        return math.hypot(self.x, self.y)\n",
    "\n",
    "    def __bool__(self):\n",
    "        return bool(abs(self))\n",
    "\n",
    "    def angle(self):\n",
    "        return math.atan2(self.y, self.x)\n",
    "\n",
    "    def __format__(self, fmt_spec=''):\n",
    "        if fmt_spec.endswith('p'):\n",
    "            fmt_spec = fmt_spec[:-1]\n",
    "            coords = (abs(self), self.angle())\n",
    "            outer_fmt = '<{}, {}>'\n",
    "        else:\n",
    "            coords = self\n",
    "            outer_fmt = '({}, {})'\n",
    "        components = (format(c, fmt_spec) for c in coords)\n",
    "        return outer_fmt.format(*components)\n",
    "\n",
    "    @classmethod\n",
    "    def frombytes(cls, octets):\n",
    "        typecode = chr(octets[0])\n",
    "        memv = memoryview(octets[1:]).cast(typecode)\n",
    "        return cls(*memv)\n",
    "\n",
    "# tag::VECTOR2D_V4_COMPLEX[]\n",
    "    def __complex__(self):\n",
    "        return complex(self.x, self.y)\n",
    "\n",
    "    @classmethod\n",
    "    def fromcomplex(cls, datum):\n",
    "        return cls(datum.real, datum.imag)"
   ]
  },
  {
   "cell_type": "code",
   "execution_count": 65,
   "id": "14638308",
   "metadata": {},
   "outputs": [],
   "source": [
    "from typing import SupportsComplex, SupportsAbs"
   ]
  },
  {
   "cell_type": "code",
   "execution_count": 66,
   "id": "2e636f80",
   "metadata": {},
   "outputs": [
    {
     "data": {
      "text/plain": [
       "True"
      ]
     },
     "execution_count": 66,
     "metadata": {},
     "output_type": "execute_result"
    }
   ],
   "source": [
    "v = Vector2d(3, 4)\n",
    "isinstance(v, SupportsComplex)"
   ]
  },
  {
   "cell_type": "code",
   "execution_count": 67,
   "id": "68bae176",
   "metadata": {},
   "outputs": [
    {
     "data": {
      "text/plain": [
       "True"
      ]
     },
     "execution_count": 67,
     "metadata": {},
     "output_type": "execute_result"
    }
   ],
   "source": [
    "isinstance(v, SupportsAbs)"
   ]
  },
  {
   "cell_type": "code",
   "execution_count": 68,
   "id": "957cc104",
   "metadata": {},
   "outputs": [
    {
     "data": {
      "text/plain": [
       "(3+4j)"
      ]
     },
     "execution_count": 68,
     "metadata": {},
     "output_type": "execute_result"
    }
   ],
   "source": [
    "complex(v)"
   ]
  },
  {
   "cell_type": "code",
   "execution_count": 69,
   "id": "4ed1aa35",
   "metadata": {},
   "outputs": [
    {
     "data": {
      "text/plain": [
       "5.0"
      ]
     },
     "execution_count": 69,
     "metadata": {},
     "output_type": "execute_result"
    }
   ],
   "source": [
    "abs(v)"
   ]
  },
  {
   "cell_type": "code",
   "execution_count": 70,
   "id": "b1976fa2",
   "metadata": {},
   "outputs": [
    {
     "data": {
      "text/plain": [
       "Vector2d(3.0, 4.0)"
      ]
     },
     "execution_count": 70,
     "metadata": {},
     "output_type": "execute_result"
    }
   ],
   "source": [
    "Vector2d.fromcomplex(3+4j)"
   ]
  },
  {
   "cell_type": "code",
   "execution_count": 71,
   "id": "53cd8cdd",
   "metadata": {},
   "outputs": [],
   "source": [
    "from typing import SupportsComplex, Iterator"
   ]
  },
  {
   "cell_type": "code",
   "execution_count": 72,
   "id": "7c91842f",
   "metadata": {},
   "outputs": [],
   "source": [
    "class Vector2d:\n",
    "    typecode = 'd'\n",
    "\n",
    "    def __init__(self, x, y) -> None:\n",
    "        self.__x = float(x)\n",
    "        self.__y = float(y)\n",
    "\n",
    "    @property\n",
    "    def x(self) -> float:\n",
    "        return self.__x\n",
    "\n",
    "    @property\n",
    "    def y(self) -> float:\n",
    "        return self.__y\n",
    "\n",
    "    def __iter__(self) -> Iterator[float]:\n",
    "        return (i for i in (self.x, self.y))\n",
    "\n",
    "    def __repr__(self) -> str:\n",
    "        class_name = type(self).__name__\n",
    "        return '{}({!r}, {!r})'.format(class_name, *self)\n",
    "\n",
    "    def __str__(self) -> str:\n",
    "        return str(tuple(self))\n",
    "\n",
    "    def __bytes__(self) -> bytes:\n",
    "        return (bytes([ord(self.typecode)]) +\n",
    "                bytes(array(self.typecode, self)))\n",
    "\n",
    "    def __eq__(self, other) -> bool:\n",
    "        return tuple(self) == tuple(other)\n",
    "\n",
    "    def __hash__(self) -> int:\n",
    "        return hash(self.x) ^ hash(self.y)\n",
    "\n",
    "    def __bool__(self) -> bool:\n",
    "        return bool(abs(self))\n",
    "\n",
    "    def angle(self) -> float:\n",
    "        return math.atan2(self.y, self.x)\n",
    "\n",
    "    def __format__(self, fmt_spec='') -> str:\n",
    "        if fmt_spec.endswith('p'):\n",
    "            fmt_spec = fmt_spec[:-1]\n",
    "            coords = (abs(self), self.angle())\n",
    "            outer_fmt = '<{}, {}>'\n",
    "        else:\n",
    "            coords = self\n",
    "            outer_fmt = '({}, {})'\n",
    "        components = (format(c, fmt_spec) for c in coords)\n",
    "        return outer_fmt.format(*components)\n",
    "\n",
    "    @classmethod\n",
    "    def frombytes(cls, octets) -> Vector2d:\n",
    "        typecode = chr(octets[0])\n",
    "        memv = memoryview(octets[1:]).cast(typecode)\n",
    "        return cls(*memv)\n",
    "\n",
    "# tag::VECTOR2D_V5_COMPLEX[]\n",
    "    def __abs__(self) -> float:  # <1>\n",
    "        return math.hypot(self.x, self.y)\n",
    "\n",
    "    def __complex__(self) -> complex:  # <2>\n",
    "        return complex(self.x, self.y)\n",
    "\n",
    "    @classmethod\n",
    "    def fromcomplex(cls, datum: SupportsComplex) -> Vector2d:  # <3>\n",
    "        c = complex(datum)  # <4>\n",
    "        return cls(c.real, c.imag)"
   ]
  },
  {
   "cell_type": "markdown",
   "id": "c05b0960",
   "metadata": {},
   "source": [
    "### Designing a Static Protocol"
   ]
  },
  {
   "cell_type": "code",
   "execution_count": 73,
   "id": "71a38a34",
   "metadata": {},
   "outputs": [],
   "source": [
    "from typing import Protocol, runtime_checkable, Any"
   ]
  },
  {
   "cell_type": "code",
   "execution_count": 74,
   "id": "281fd2bd",
   "metadata": {},
   "outputs": [],
   "source": [
    "@runtime_checkable\n",
    "class RandomPicker(Protocol):\n",
    "    def pick(self) -> Any: ..."
   ]
  },
  {
   "cell_type": "code",
   "execution_count": 75,
   "id": "4a1c22ac",
   "metadata": {},
   "outputs": [],
   "source": [
    "from typing import Any, Iterable, TYPE_CHECKING"
   ]
  },
  {
   "cell_type": "code",
   "execution_count": 76,
   "id": "2661b5eb",
   "metadata": {},
   "outputs": [],
   "source": [
    "class SimplePicker:  # <2>\n",
    "    def __init__(self, items: Iterable) -> None:\n",
    "        self._items = list(items)\n",
    "        random.shuffle(self._items)\n",
    "\n",
    "    def pick(self) -> Any:  # <3>\n",
    "        return self._items.pop()\n",
    "\n",
    "def test_isinstance() -> None:  # <4>\n",
    "    popper: RandomPicker = SimplePicker([1])  # <5>\n",
    "    assert isinstance(popper, RandomPicker)  # <6>\n",
    "\n",
    "def test_item_type() -> None:  # <7>\n",
    "    items = [1, 2]\n",
    "    popper = SimplePicker(items)\n",
    "    item = popper.pick()\n",
    "    assert item in items\n",
    "    if TYPE_CHECKING:\n",
    "        reveal_type(item)  # <8>\n",
    "    assert isinstance(item, int)"
   ]
  },
  {
   "cell_type": "code",
   "execution_count": 77,
   "id": "3faa3bf0",
   "metadata": {},
   "outputs": [
    {
     "name": "stdout",
     "output_type": "stream",
     "text": [
      "randompick_test.py:24: \u001b[34mnote:\u001b[m Revealed type is \u001b[m\u001b[1m\"Any\"\u001b[m\u001b[m\r\n",
      "\u001b[1m\u001b[32mSuccess: no issues found in 1 source file\u001b[m\r\n"
     ]
    }
   ],
   "source": [
    "!mypy randompick_test.py"
   ]
  },
  {
   "cell_type": "markdown",
   "id": "bd21218e",
   "metadata": {},
   "source": [
    "### Extending a Protocol"
   ]
  },
  {
   "cell_type": "code",
   "execution_count": 78,
   "id": "e01acd98",
   "metadata": {},
   "outputs": [],
   "source": [
    "from typing import Protocol, runtime_checkable"
   ]
  },
  {
   "cell_type": "code",
   "execution_count": 79,
   "id": "d3643c14",
   "metadata": {},
   "outputs": [],
   "source": [
    "@runtime_checkable  # <1>\n",
    "class LoadableRandomPicker(RandomPicker, Protocol):  # <2>\n",
    "    def load(self, Iterable) -> None: ... "
   ]
  },
  {
   "cell_type": "markdown",
   "id": "1cb0871a",
   "metadata": {},
   "source": [
    "### The numbers ABCs and Numeric Protocols\n",
    "    _Number = Union[float, Decimal, Fraction]\n",
    "    _NumberT = TypeVar('_NumberT', float, Decimal, Fraction)"
   ]
  },
  {
   "cell_type": "code",
   "execution_count": 80,
   "id": "a50d2bf1",
   "metadata": {},
   "outputs": [
    {
     "data": {
      "text/plain": [
       "(3+4j)"
      ]
     },
     "execution_count": 80,
     "metadata": {},
     "output_type": "execute_result"
    }
   ],
   "source": [
    "cd = np.cdouble(3+4j)\n",
    "cd"
   ]
  },
  {
   "cell_type": "code",
   "execution_count": 81,
   "id": "fa0ae08c",
   "metadata": {},
   "outputs": [
    {
     "name": "stderr",
     "output_type": "stream",
     "text": [
      "/var/folders/9k/760_q9mj44x7wl8kzf8kxf3m0000gn/T/ipykernel_9458/3810435258.py:1: ComplexWarning: Casting complex values to real discards the imaginary part\n",
      "  float(cd)\n"
     ]
    },
    {
     "data": {
      "text/plain": [
       "3.0"
      ]
     },
     "execution_count": 81,
     "metadata": {},
     "output_type": "execute_result"
    }
   ],
   "source": [
    "float(cd)"
   ]
  },
  {
   "cell_type": "code",
   "execution_count": 82,
   "id": "5a11a346",
   "metadata": {},
   "outputs": [
    {
     "data": {
      "text/plain": [
       "[False, True, False, False, False, False]"
      ]
     },
     "execution_count": 82,
     "metadata": {},
     "output_type": "execute_result"
    }
   ],
   "source": [
    "sample = [1+0j, np.complex64(1+0j), 1.0, np.float16(1.0), 1, np.uint8(1)]\n",
    "[isinstance(x, SupportsComplex) for x in sample]"
   ]
  },
  {
   "cell_type": "code",
   "execution_count": 83,
   "id": "d4562e04",
   "metadata": {},
   "outputs": [
    {
     "data": {
      "text/plain": [
       "[(1+0j), (1+0j), (1+0j), (1+0j), (1+0j), (1+0j)]"
      ]
     },
     "execution_count": 83,
     "metadata": {},
     "output_type": "execute_result"
    }
   ],
   "source": [
    "[complex(x) for x in sample]"
   ]
  }
 ],
 "metadata": {
  "kernelspec": {
   "display_name": "Python 3 (ipykernel)",
   "language": "python",
   "name": "python3"
  },
  "language_info": {
   "codemirror_mode": {
    "name": "ipython",
    "version": 3
   },
   "file_extension": ".py",
   "mimetype": "text/x-python",
   "name": "python",
   "nbconvert_exporter": "python",
   "pygments_lexer": "ipython3",
   "version": "3.10.6"
  }
 },
 "nbformat": 4,
 "nbformat_minor": 5
}
