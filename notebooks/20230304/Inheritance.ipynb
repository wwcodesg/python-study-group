{
 "cells": [
  {
   "cell_type": "markdown",
   "id": "ebaffd02",
   "metadata": {},
   "source": [
    "###### References: \n",
    "- Fluent Python, 2nd Edition, by Luciano Ramalho.\n",
    "\n",
    "# Chapter 14: Inheritance: For Better or for Worse\n",
    "## The Super() Function\n",
    "## Subclassing Built-In Types\n",
    "## Multiple Inheritance and Method Resolution Order\n",
    "\n",
    "<img src=\"Ping pong.png\" width=\"75%\" />"
   ]
  },
  {
   "cell_type": "code",
   "execution_count": 1,
   "id": "a62e5b9f",
   "metadata": {},
   "outputs": [],
   "source": [
    "class Root:  # <1>\n",
    "    def ping(self):\n",
    "        print(f'{self}.ping() in Root')\n",
    "\n",
    "    def pong(self):\n",
    "        print(f'{self}.pong() in Root')\n",
    "\n",
    "    def __repr__(self):\n",
    "        cls_name = type(self).__name__\n",
    "        return f'<instance of {cls_name}>'\n",
    "\n",
    "\n",
    "class A(Root):  # <2>\n",
    "    def ping(self):\n",
    "        print(f'{self}.ping() in A')\n",
    "        super().ping()\n",
    "\n",
    "    def pong(self):\n",
    "        print(f'{self}.pong() in A')\n",
    "        super().pong()\n",
    "\n",
    "\n",
    "class B(Root):  # <3>\n",
    "    def ping(self):\n",
    "        print(f'{self}.ping() in B')\n",
    "        super().ping()\n",
    "\n",
    "    def pong(self):\n",
    "        print(f'{self}.pong() in B')\n",
    "\n",
    "\n",
    "class Leaf(A, B):  # <4>\n",
    "    def ping(self):\n",
    "        print(f'{self}.ping() in Leaf')\n",
    "        super().ping()"
   ]
  },
  {
   "cell_type": "code",
   "execution_count": 2,
   "id": "a002bbe4",
   "metadata": {},
   "outputs": [],
   "source": [
    "leaf1 = Leaf()"
   ]
  },
  {
   "cell_type": "code",
   "execution_count": 3,
   "id": "35bdb531",
   "metadata": {},
   "outputs": [
    {
     "name": "stdout",
     "output_type": "stream",
     "text": [
      "<instance of Leaf>.ping() in Leaf\n",
      "<instance of Leaf>.ping() in A\n",
      "<instance of Leaf>.ping() in B\n",
      "<instance of Leaf>.ping() in Root\n"
     ]
    }
   ],
   "source": [
    "leaf1.ping()"
   ]
  },
  {
   "cell_type": "code",
   "execution_count": 4,
   "id": "9b29ff8b",
   "metadata": {},
   "outputs": [
    {
     "name": "stdout",
     "output_type": "stream",
     "text": [
      "<instance of Leaf>.pong() in A\n",
      "<instance of Leaf>.pong() in B\n"
     ]
    }
   ],
   "source": [
    "leaf1.pong()"
   ]
  },
  {
   "cell_type": "code",
   "execution_count": 5,
   "id": "edb6c407",
   "metadata": {},
   "outputs": [
    {
     "data": {
      "text/plain": [
       "(__main__.Leaf, __main__.A, __main__.B, __main__.Root, object)"
      ]
     },
     "execution_count": 5,
     "metadata": {},
     "output_type": "execute_result"
    }
   ],
   "source": [
    "Leaf.__mro__"
   ]
  },
  {
   "cell_type": "markdown",
   "id": "2f23d5a5",
   "metadata": {},
   "source": [
    "`diamond2.py`"
   ]
  },
  {
   "cell_type": "code",
   "execution_count": 6,
   "id": "b9bbf376",
   "metadata": {},
   "outputs": [],
   "source": [
    "class U():  # <2>\n",
    "    def ping(self):\n",
    "        print(f'{self}.ping() in U')\n",
    "        super().ping()  # <3>\n",
    "\n",
    "class LeafUA(U, A):  # <4>\n",
    "    def ping(self):\n",
    "        print(f'{self}.ping() in LeafUA')\n",
    "        super().ping()"
   ]
  },
  {
   "cell_type": "code",
   "execution_count": 7,
   "id": "5b972afe",
   "metadata": {},
   "outputs": [],
   "source": [
    "u = U()"
   ]
  },
  {
   "cell_type": "code",
   "execution_count": 8,
   "id": "bd8ce7a8",
   "metadata": {},
   "outputs": [
    {
     "name": "stdout",
     "output_type": "stream",
     "text": [
      "<__main__.U object at 0x10ba8d240>.ping() in U\n"
     ]
    },
    {
     "ename": "AttributeError",
     "evalue": "'super' object has no attribute 'ping'",
     "output_type": "error",
     "traceback": [
      "\u001b[0;31m---------------------------------------------------------------------------\u001b[0m",
      "\u001b[0;31mAttributeError\u001b[0m                            Traceback (most recent call last)",
      "Cell \u001b[0;32mIn [8], line 1\u001b[0m\n\u001b[0;32m----> 1\u001b[0m u\u001b[38;5;241m.\u001b[39mping()\n",
      "Cell \u001b[0;32mIn [6], line 4\u001b[0m, in \u001b[0;36mU.ping\u001b[0;34m(self)\u001b[0m\n\u001b[1;32m      2\u001b[0m \u001b[38;5;28;01mdef\u001b[39;00m \u001b[38;5;21mping\u001b[39m(\u001b[38;5;28mself\u001b[39m):\n\u001b[1;32m      3\u001b[0m     \u001b[38;5;28mprint\u001b[39m(\u001b[38;5;124mf\u001b[39m\u001b[38;5;124m'\u001b[39m\u001b[38;5;132;01m{\u001b[39;00m\u001b[38;5;28mself\u001b[39m\u001b[38;5;132;01m}\u001b[39;00m\u001b[38;5;124m.ping() in U\u001b[39m\u001b[38;5;124m'\u001b[39m)\n\u001b[0;32m----> 4\u001b[0m     \u001b[38;5;28;43msuper\u001b[39;49m\u001b[43m(\u001b[49m\u001b[43m)\u001b[49m\u001b[38;5;241;43m.\u001b[39;49m\u001b[43mping\u001b[49m()\n",
      "\u001b[0;31mAttributeError\u001b[0m: 'super' object has no attribute 'ping'"
     ]
    }
   ],
   "source": [
    "u.ping()"
   ]
  },
  {
   "cell_type": "code",
   "execution_count": 9,
   "id": "5566e8ac",
   "metadata": {},
   "outputs": [],
   "source": [
    "leaf2 = LeafUA()"
   ]
  },
  {
   "cell_type": "code",
   "execution_count": 10,
   "id": "9a06710d",
   "metadata": {},
   "outputs": [
    {
     "name": "stdout",
     "output_type": "stream",
     "text": [
      "<instance of LeafUA>.ping() in LeafUA\n",
      "<instance of LeafUA>.ping() in U\n",
      "<instance of LeafUA>.ping() in A\n",
      "<instance of LeafUA>.ping() in Root\n"
     ]
    }
   ],
   "source": [
    "leaf2.ping()"
   ]
  },
  {
   "cell_type": "code",
   "execution_count": 11,
   "id": "d00dc655",
   "metadata": {},
   "outputs": [
    {
     "data": {
      "text/plain": [
       "(__main__.LeafUA, __main__.U, __main__.A, __main__.Root, object)"
      ]
     },
     "execution_count": 11,
     "metadata": {},
     "output_type": "execute_result"
    }
   ],
   "source": [
    "LeafUA.__mro__"
   ]
  },
  {
   "cell_type": "code",
   "execution_count": 12,
   "id": "f197b399",
   "metadata": {},
   "outputs": [],
   "source": [
    "class LeafAU(A, U):\n",
    "    def ping(self):\n",
    "        print(f'{self}.ping() in LeafAU')\n",
    "        super().ping()"
   ]
  },
  {
   "cell_type": "code",
   "execution_count": 13,
   "id": "7acae9ca",
   "metadata": {},
   "outputs": [],
   "source": [
    "leaf2 = LeafAU()"
   ]
  },
  {
   "cell_type": "code",
   "execution_count": 14,
   "id": "43325662",
   "metadata": {},
   "outputs": [
    {
     "name": "stdout",
     "output_type": "stream",
     "text": [
      "<instance of LeafAU>.ping() in LeafAU\n",
      "<instance of LeafAU>.ping() in A\n",
      "<instance of LeafAU>.ping() in Root\n"
     ]
    }
   ],
   "source": [
    "leaf2.ping()"
   ]
  },
  {
   "cell_type": "code",
   "execution_count": 15,
   "id": "c734bd32",
   "metadata": {},
   "outputs": [
    {
     "data": {
      "text/plain": [
       "(__main__.LeafAU, __main__.A, __main__.Root, __main__.U, object)"
      ]
     },
     "execution_count": 15,
     "metadata": {},
     "output_type": "execute_result"
    }
   ],
   "source": [
    "LeafAU.__mro__"
   ]
  },
  {
   "cell_type": "markdown",
   "id": "2de6ef1a",
   "metadata": {},
   "source": [
    "## Mixin Classes\n",
    "\n",
    "Mixin class is designed to be subclassed together with at least one other class in a multiple inheritance arrangement.\n",
    "\n",
    "### Case- Insensitive Mappings"
   ]
  },
  {
   "cell_type": "code",
   "execution_count": 16,
   "id": "0709dd53",
   "metadata": {},
   "outputs": [],
   "source": [
    "import collections"
   ]
  },
  {
   "cell_type": "code",
   "execution_count": 17,
   "id": "ccb582b5",
   "metadata": {},
   "outputs": [],
   "source": [
    "def _upper(key):  # <1>\n",
    "    try:\n",
    "        return key.upper()\n",
    "    except AttributeError:\n",
    "        return key\n",
    "\n",
    "class UpperCaseMixin:  # <2>\n",
    "    def __setitem__(self, key, item):\n",
    "        super().__setitem__(_upper(key), item)\n",
    "\n",
    "    def __getitem__(self, key):\n",
    "        return super().__getitem__(_upper(key))\n",
    "\n",
    "    def get(self, key, default=None):\n",
    "        return super().get(_upper(key), default)\n",
    "\n",
    "    def __contains__(self, key):\n",
    "        return super().__contains__(_upper(key))"
   ]
  },
  {
   "cell_type": "code",
   "execution_count": 18,
   "id": "3c8ab790",
   "metadata": {},
   "outputs": [],
   "source": [
    "class UpperDict(UpperCaseMixin, collections.UserDict):  # <1>\n",
    "    pass\n"
   ]
  },
  {
   "cell_type": "code",
   "execution_count": 19,
   "id": "de7d9880",
   "metadata": {},
   "outputs": [],
   "source": [
    "class UpperCounter(UpperCaseMixin, collections.Counter):  # <2>\n",
    "    \"\"\"Specialized 'Counter' that uppercases string keys\"\"\" "
   ]
  },
  {
   "cell_type": "markdown",
   "id": "d24fc4c2",
   "metadata": {},
   "source": [
    "## Multiple Inheritance in the Real World\n",
    "\n",
    "### Django\n",
    "\n",
    "<img src=\"Django-view.png\" width=\"75%\" />\n",
    "<img src=\"Django-views.png\" width=\"75%\" />                                  "
   ]
  },
  {
   "cell_type": "markdown",
   "id": "ed2a7990",
   "metadata": {},
   "source": [
    "# Chapter 18:  `with`, `match` and `else` Blocks\n",
    "\n",
    "## Pattern Matching in `lis.py`: a Cases Study\n",
    "### Scheme Syntax\n",
    "\n",
    "    (define (mod m n))\n",
    "        (-m (* n (quotient m n)))\n",
    "        \n",
    "    (define (gcd m n))\n",
    "        (if (= n 0)\n",
    "            m\n",
    "            (gcd n (mod m n))))\n",
    "            \n",
    "    (display (gcd 18 45))"
   ]
  },
  {
   "cell_type": "code",
   "execution_count": 20,
   "id": "8ff6a7b5",
   "metadata": {},
   "outputs": [
    {
     "name": "stdout",
     "output_type": "stream",
     "text": [
      "9\n"
     ]
    }
   ],
   "source": [
    "def mod(m, n):\n",
    "    return m - (m // n * n)\n",
    "\n",
    "def gcd(m, n):\n",
    "    if n == 0:\n",
    "        return m\n",
    "    else:\n",
    "        return gcd(n, mod(m,n))\n",
    "    \n",
    "print(gcd(18, 45))"
   ]
  },
  {
   "cell_type": "markdown",
   "id": "ca1d1703",
   "metadata": {},
   "source": [
    "Scheme syntax has no iterative control flow commands.\n",
    "\n",
    "Iteration is done with recursion.\n",
    "\n",
    "### Imports and Types"
   ]
  },
  {
   "cell_type": "code",
   "execution_count": 21,
   "id": "3e594b29",
   "metadata": {},
   "outputs": [],
   "source": [
    "import math\n",
    "import operator as op\n",
    "from collections import ChainMap\n",
    "from itertools import chain\n",
    "from typing import Any, TypeAlias, NoReturn\n",
    "\n",
    "Symbol: TypeAlias = str\n",
    "Atom: TypeAlias = float | int | Symbol\n",
    "Expression: TypeAlias = Atom | list"
   ]
  },
  {
   "cell_type": "markdown",
   "id": "e9065adf",
   "metadata": {},
   "source": [
    "### The Parser"
   ]
  },
  {
   "cell_type": "code",
   "execution_count": 22,
   "id": "4137f45e",
   "metadata": {},
   "outputs": [],
   "source": [
    "def parse(program: str) -> Expression:\n",
    "    \"Read a Scheme expression from a string.\"\n",
    "    return read_from_tokens(tokenize(program))\n",
    "\n",
    "def tokenize(s: str) -> list[str]:\n",
    "    \"Convert a string into a list of tokens.\"\n",
    "    return s.replace('(', ' ( ').replace(')', ' ) ').split()\n",
    "\n",
    "def read_from_tokens(tokens: list[str]) -> Expression:\n",
    "    \"Read an expression from a sequence of tokens.\"\n",
    "    if len(tokens) == 0:\n",
    "        raise SyntaxError('unexpected EOF while reading')\n",
    "    token = tokens.pop(0)\n",
    "    if '(' == token:\n",
    "        exp = []\n",
    "        while tokens[0] != ')':\n",
    "            exp.append(read_from_tokens(tokens))\n",
    "        tokens.pop(0)  # discard ')'\n",
    "        return exp\n",
    "    elif ')' == token:\n",
    "        raise SyntaxError('unexpected )')\n",
    "    else:\n",
    "        return parse_atom(token)"
   ]
  },
  {
   "cell_type": "code",
   "execution_count": 23,
   "id": "46a01654",
   "metadata": {},
   "outputs": [],
   "source": [
    "from lis import parse"
   ]
  },
  {
   "cell_type": "code",
   "execution_count": 24,
   "id": "edb7bff0",
   "metadata": {},
   "outputs": [
    {
     "data": {
      "text/plain": [
       "1.5"
      ]
     },
     "execution_count": 24,
     "metadata": {},
     "output_type": "execute_result"
    }
   ],
   "source": [
    "parse('1.5')"
   ]
  },
  {
   "cell_type": "code",
   "execution_count": 25,
   "id": "fe33ccce",
   "metadata": {},
   "outputs": [
    {
     "data": {
      "text/plain": [
       "'ni!'"
      ]
     },
     "execution_count": 25,
     "metadata": {},
     "output_type": "execute_result"
    }
   ],
   "source": [
    "parse('ni!')"
   ]
  },
  {
   "cell_type": "code",
   "execution_count": 26,
   "id": "232b3590",
   "metadata": {},
   "outputs": [
    {
     "data": {
      "text/plain": [
       "['gcd', 18, 45]"
      ]
     },
     "execution_count": 26,
     "metadata": {},
     "output_type": "execute_result"
    }
   ],
   "source": [
    "parse('(gcd 18 45)')"
   ]
  },
  {
   "cell_type": "code",
   "execution_count": 27,
   "id": "d4542075",
   "metadata": {},
   "outputs": [
    {
     "data": {
      "text/plain": [
       "['define', 'double', ['lambda', ['n'], ['*', 'n', 2]]]"
      ]
     },
     "execution_count": 27,
     "metadata": {},
     "output_type": "execute_result"
    }
   ],
   "source": [
    "parse('''\n",
    "    (define double\n",
    "        (lambda (n)\n",
    "            (* n 2)))''')"
   ]
  },
  {
   "cell_type": "markdown",
   "id": "717c7062",
   "metadata": {},
   "source": [
    "### The Environment"
   ]
  },
  {
   "cell_type": "code",
   "execution_count": 28,
   "id": "1b0cb462",
   "metadata": {},
   "outputs": [],
   "source": [
    "class Environment(ChainMap[Symbol, Any]):\n",
    "    \"A ChainMap that allows changing an item in-place.\"\n",
    "\n",
    "    def change(self, key: Symbol, value: Any) -> None:\n",
    "        \"Find where key is defined and change the value there.\"\n",
    "        for map in self.maps:\n",
    "            if key in map:\n",
    "                map[key] = value  # type: ignore[index]\n",
    "                return\n",
    "        raise KeyError(key)"
   ]
  },
  {
   "cell_type": "code",
   "execution_count": 29,
   "id": "a7a2b668",
   "metadata": {},
   "outputs": [],
   "source": [
    "from lis import Environment"
   ]
  },
  {
   "cell_type": "code",
   "execution_count": 30,
   "id": "4ee0152e",
   "metadata": {},
   "outputs": [],
   "source": [
    "inner_env = {'a': 2}"
   ]
  },
  {
   "cell_type": "code",
   "execution_count": 31,
   "id": "0e25d194",
   "metadata": {},
   "outputs": [],
   "source": [
    "outer_env = {'a': 0, 'b':1}"
   ]
  },
  {
   "cell_type": "code",
   "execution_count": 32,
   "id": "27629f1b",
   "metadata": {},
   "outputs": [],
   "source": [
    "env = Environment(inner_env, outer_env)"
   ]
  },
  {
   "cell_type": "code",
   "execution_count": 33,
   "id": "5d4b7e4f",
   "metadata": {},
   "outputs": [
    {
     "data": {
      "text/plain": [
       "2"
      ]
     },
     "execution_count": 33,
     "metadata": {},
     "output_type": "execute_result"
    }
   ],
   "source": [
    "env['a']"
   ]
  },
  {
   "cell_type": "code",
   "execution_count": 34,
   "id": "ebecf31d",
   "metadata": {},
   "outputs": [
    {
     "data": {
      "text/plain": [
       "Environment({'a': 111, 'c': 222}, {'a': 0, 'b': 1})"
      ]
     },
     "execution_count": 34,
     "metadata": {},
     "output_type": "execute_result"
    }
   ],
   "source": [
    "env['a'] = 111\n",
    "env['c'] = 222\n",
    "env"
   ]
  },
  {
   "cell_type": "code",
   "execution_count": 35,
   "id": "39f3514a",
   "metadata": {},
   "outputs": [
    {
     "data": {
      "text/plain": [
       "Environment({'a': 111, 'c': 222}, {'a': 0, 'b': 333})"
      ]
     },
     "execution_count": 35,
     "metadata": {},
     "output_type": "execute_result"
    }
   ],
   "source": [
    "env.change('b', 333)\n",
    "env"
   ]
  },
  {
   "cell_type": "code",
   "execution_count": 36,
   "id": "ea0335e6",
   "metadata": {},
   "outputs": [],
   "source": [
    "def standard_env() -> Environment:\n",
    "    \"An environment with some Scheme standard procedures.\"\n",
    "    env = Environment()\n",
    "    env.update(vars(math))   # sin, cos, sqrt, pi, ...\n",
    "    env.update({\n",
    "            '+': op.add,\n",
    "            '-': op.sub,\n",
    "            '*': op.mul,\n",
    "            '/': op.truediv,\n",
    "            'quotient': op.floordiv,\n",
    "            '>': op.gt,\n",
    "            '<': op.lt,\n",
    "            '>=': op.ge,\n",
    "            '<=': op.le,\n",
    "            '=': op.eq,\n",
    "            'abs': abs,\n",
    "            'append': lambda *args: list(chain(*args)),\n",
    "            'apply': lambda proc, args: proc(*args),\n",
    "            'begin': lambda *x: x[-1],\n",
    "            'car': lambda x: x[0],\n",
    "            'cdr': lambda x: x[1:],\n",
    "            'cons': lambda x, y: [x] + y,\n",
    "            'display': lambda x: print(lispstr(x)),\n",
    "            'eq?': op.is_,\n",
    "            'equal?': op.eq,\n",
    "            'filter': lambda *args: list(filter(*args)),\n",
    "            'length': len,\n",
    "            'list': lambda *x: list(x),\n",
    "            'list?': lambda x: isinstance(x, list),\n",
    "            'map': lambda *args: list(map(*args)),\n",
    "            'max': max,\n",
    "            'min': min,\n",
    "            'not': op.not_,\n",
    "            'null?': lambda x: x == [],\n",
    "            'number?': lambda x: isinstance(x, (int, float)),\n",
    "            'procedure?': callable,\n",
    "            'round': round,\n",
    "            'symbol?': lambda x: isinstance(x, Symbol),\n",
    "    })\n",
    "    return "
   ]
  },
  {
   "cell_type": "markdown",
   "id": "3539fdb7",
   "metadata": {},
   "source": [
    "## The REPL\n",
    "(read-evel-print-loop)"
   ]
  },
  {
   "cell_type": "code",
   "execution_count": 37,
   "id": "8dac67e9",
   "metadata": {},
   "outputs": [],
   "source": [
    "def repl(prompt: str = 'lis.py> ') -> NoReturn:\n",
    "    \"A prompt-read-eval-print loop.\"\n",
    "    global_env = Environment({}, standard_env())\n",
    "    while True:\n",
    "        ast = parse(input(prompt))\n",
    "        val = evaluate(ast, global_env)\n",
    "        if val is not None:\n",
    "            print(lispstr(val))"
   ]
  },
  {
   "cell_type": "code",
   "execution_count": 38,
   "id": "b3fcc723",
   "metadata": {},
   "outputs": [],
   "source": [
    "def lispstr(exp: object) -> str:\n",
    "    \"Convert a Python object back into a Lisp-readable string.\"\n",
    "    if isinstance(exp, list):\n",
    "        return '(' + ' '.join(map(lispstr, exp)) + ')'\n",
    "    else:\n",
    "        return str(exp)"
   ]
  },
  {
   "cell_type": "markdown",
   "id": "9222e162",
   "metadata": {},
   "source": [
    "### The Evaluator"
   ]
  },
  {
   "cell_type": "code",
   "execution_count": 39,
   "id": "e802a3d8",
   "metadata": {},
   "outputs": [],
   "source": [
    "KEYWORDS = ['quote', 'if', 'lambda', 'define', 'set!']"
   ]
  },
  {
   "cell_type": "code",
   "execution_count": 40,
   "id": "1b9e2b57",
   "metadata": {},
   "outputs": [],
   "source": [
    "def evaluate(exp: Expression, env: Environment) -> Any:\n",
    "    \"Evaluate an expression in an environment.\"\n",
    "    match exp:\n",
    "        case int(x) | float(x):\n",
    "            return x\n",
    "        case Symbol(var):\n",
    "            return env[var]\n",
    "        case ['quote', x]:\n",
    "            return x\n",
    "        case ['if', test, consequence, alternative]:\n",
    "            if evaluate(test, env):\n",
    "                return evaluate(consequence, env)\n",
    "            else:\n",
    "                return evaluate(alternative, env)\n",
    "        case ['lambda', [*parms], *body] if body:\n",
    "            return Procedure(parms, body, env)\n",
    "        case ['define', Symbol(name), value_exp]:\n",
    "            env[name] = evaluate(value_exp, env)\n",
    "        case ['define', [Symbol(name), *parms], *body] if body:\n",
    "            env[name] = Procedure(parms, body, env)\n",
    "        case ['set!', Symbol(name), value_exp]:\n",
    "            env.change(name, evaluate(value_exp, env))\n",
    "        case [func_exp, *args] if func_exp not in KEYWORDS:\n",
    "            proc = evaluate(func_exp, env)\n",
    "            values = [evaluate(arg, env) for arg in args]\n",
    "            return proc(*values)\n",
    "        case _:\n",
    "            raise SyntaxError(lispstr(exp))"
   ]
  },
  {
   "cell_type": "markdown",
   "id": "47283a59",
   "metadata": {},
   "source": [
    "### Procedure: A Class implementing a Closure"
   ]
  },
  {
   "cell_type": "code",
   "execution_count": 41,
   "id": "52438808",
   "metadata": {},
   "outputs": [],
   "source": [
    "class Procedure:\n",
    "    \"A user-defined Scheme procedure.\"\n",
    "\n",
    "    def __init__(  # called when a function is defined by the lambda or define\n",
    "        self, parms: list[Symbol], body: list[Expression], env: Environment\n",
    "    ):\n",
    "        self.parms = parms  # <2>\n",
    "        self.body = body\n",
    "        self.env = env\n",
    "\n",
    "    def __call__(self, *args: Expression) -> Any:  # <3>\n",
    "        local_env = dict(zip(self.parms, args))  # <4>\n",
    "        env = Environment(local_env, self.env)  # <5>\n",
    "        for exp in self.body:  # <6>\n",
    "            result = evaluate(exp, env)\n",
    "        return result  # <7>"
   ]
  },
  {
   "cell_type": "markdown",
   "id": "0544e8bf",
   "metadata": {},
   "source": [
    "### Using OR-patterns\n",
    "\n",
    "    case int(x) | float(x):\n",
    "        return x\n",
    "        \n",
    "    \n",
    "    # (λ (a b) (/ (+ a b) 2))\n",
    "    case ['lambda' | 'λ', [*parms], *body] if body:\n",
    "        return Procudure(parms, body, env)"
   ]
  }
 ],
 "metadata": {
  "kernelspec": {
   "display_name": "Python 3 (ipykernel)",
   "language": "python",
   "name": "python3"
  },
  "language_info": {
   "codemirror_mode": {
    "name": "ipython",
    "version": 3
   },
   "file_extension": ".py",
   "mimetype": "text/x-python",
   "name": "python",
   "nbconvert_exporter": "python",
   "pygments_lexer": "ipython3",
   "version": "3.10.6"
  }
 },
 "nbformat": 4,
 "nbformat_minor": 5
}
